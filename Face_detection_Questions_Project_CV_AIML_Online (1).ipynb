{
 "cells": [
  {
   "cell_type": "markdown",
   "metadata": {
    "colab_type": "text",
    "id": "VvWl3ebqzCc1"
   },
   "source": [
    "# Instructions\n",
    "- Some parts of the code are already done for you\n",
    "- You need to execute all the cells\n",
    "- You need to add the code where ever you see `\"#### Add your code here ####\"`\n",
    "- Marks are mentioned along with the cells"
   ]
  },
  {
   "cell_type": "markdown",
   "metadata": {
    "colab_type": "text",
    "id": "NgR0j5310qqC"
   },
   "source": [
    "# Face detection\n",
    "Task is to predict the boundaries(mask) around the face in a given image."
   ]
  },
  {
   "cell_type": "markdown",
   "metadata": {
    "colab_type": "text",
    "id": "Aa0jyJzw091I"
   },
   "source": [
    "## Dataset\n",
    "Faces in images marked with bounding boxes. Have around 500 images with around 1100 faces manually tagged via bounding box."
   ]
  },
  {
   "cell_type": "markdown",
   "metadata": {
    "colab_type": "text",
    "id": "CjRTlPkp1LC2"
   },
   "source": [
    "### Mount Google drive if you are using google colab\n",
    "- We recommend using Google Colab as you can face memory issues and longer runtimes while running on local"
   ]
  },
  {
   "cell_type": "code",
   "execution_count": 1,
   "metadata": {
    "colab": {
     "base_uri": "https://localhost:8080/",
     "height": 118
    },
    "colab_type": "code",
    "executionInfo": {
     "elapsed": 24130,
     "status": "ok",
     "timestamp": 1576404474511,
     "user": {
      "displayName": "Najmus Educare",
      "photoUrl": "",
      "userId": "10622802872372911709"
     },
     "user_tz": -330
    },
    "id": "sBWMoTJ9cf3Z",
    "outputId": "03a9c7ef-6524-4b30-9189-824a5a86bb1d"
   },
   "outputs": [
    {
     "name": "stdout",
     "output_type": "stream",
     "text": [
      "Go to this URL in a browser: https://accounts.google.com/o/oauth2/auth?client_id=947318989803-6bn6qk8qdgf4n4g3pfee6491hc0brc4i.apps.googleusercontent.com&redirect_uri=urn%3aietf%3awg%3aoauth%3a2.0%3aoob&response_type=code&scope=email%20https%3a%2f%2fwww.googleapis.com%2fauth%2fdocs.test%20https%3a%2f%2fwww.googleapis.com%2fauth%2fdrive%20https%3a%2f%2fwww.googleapis.com%2fauth%2fdrive.photos.readonly%20https%3a%2f%2fwww.googleapis.com%2fauth%2fpeopleapi.readonly\n",
      "\n",
      "Enter your authorization code:\n",
      "··········\n",
      "Mounted at /content/drive\n"
     ]
    }
   ],
   "source": [
    "from google.colab import drive\n",
    "drive.mount('/content/drive')"
   ]
  },
  {
   "cell_type": "markdown",
   "metadata": {
    "colab_type": "text",
    "id": "sO9mgMmp13sI"
   },
   "source": [
    "### Change current working directory to project folder (1 mark)"
   ]
  },
  {
   "cell_type": "code",
   "execution_count": 0,
   "metadata": {
    "colab": {},
    "colab_type": "code",
    "id": "TddMnf4D1-59"
   },
   "outputs": [],
   "source": [
    "import os\n",
    "\n",
    "project_path = \"/content/drive/My Drive/NeuralNetworks/CNN/Lab/\"\n",
    "os.chdir(project_path)\n",
    "\n",
    "#os.chdir('/content/drive/My Drive/Advance Computer Vision/Assignment')\n",
    "ProjFolder=os.getcwd()\n"
   ]
  },
  {
   "cell_type": "markdown",
   "metadata": {
    "colab_type": "text",
    "id": "3srplE-FEpKa"
   },
   "source": [
    "### Load the \"images.npy\" file (2 marks)\n",
    "- This file contains images with details of bounding boxes"
   ]
  },
  {
   "cell_type": "code",
   "execution_count": 0,
   "metadata": {
    "colab": {},
    "colab_type": "code",
    "id": "MqFE_tZDf0sM"
   },
   "outputs": [],
   "source": [
    "import numpy as np\n",
    "data = np.load(ProjFolder+'/images.npy',allow_pickle=True)"
   ]
  },
  {
   "cell_type": "markdown",
   "metadata": {
    "colab_type": "text",
    "id": "_SMP8zliFT7R"
   },
   "source": [
    "### Check one sample from the loaded \"images.npy\" file  (2 marks)"
   ]
  },
  {
   "cell_type": "code",
   "execution_count": 5,
   "metadata": {
    "colab": {
     "base_uri": "https://localhost:8080/",
     "height": 1000
    },
    "colab_type": "code",
    "executionInfo": {
     "elapsed": 943,
     "status": "ok",
     "timestamp": 1576404603637,
     "user": {
      "displayName": "Najmus Educare",
      "photoUrl": "",
      "userId": "10622802872372911709"
     },
     "user_tz": -330
    },
    "id": "NoqNvPK-iXqG",
    "outputId": "2baec5ec-b9bd-42af-a624-0895edd97434"
   },
   "outputs": [
    {
     "data": {
      "text/plain": [
       "array([[array([[[42, 37, 34],\n",
       "        [56, 51, 48],\n",
       "        [71, 66, 63],\n",
       "        ...,\n",
       "        [23, 33, 34],\n",
       "        [26, 36, 37],\n",
       "        [28, 38, 39]],\n",
       "\n",
       "       [[40, 35, 32],\n",
       "        [51, 46, 43],\n",
       "        [64, 59, 56],\n",
       "        ...,\n",
       "        [27, 36, 35],\n",
       "        [24, 33, 32],\n",
       "        [26, 35, 34]],\n",
       "\n",
       "       [[43, 38, 35],\n",
       "        [51, 46, 43],\n",
       "        [61, 56, 53],\n",
       "        ...,\n",
       "        [28, 30, 27],\n",
       "        [33, 35, 32],\n",
       "        [35, 37, 34]],\n",
       "\n",
       "       ...,\n",
       "\n",
       "       [[56, 47, 40],\n",
       "        [57, 48, 41],\n",
       "        [61, 52, 45],\n",
       "        ...,\n",
       "        [67, 48, 42],\n",
       "        [55, 35, 28],\n",
       "        [60, 40, 33]],\n",
       "\n",
       "       [[53, 44, 37],\n",
       "        [54, 45, 38],\n",
       "        [57, 48, 41],\n",
       "        ...,\n",
       "        [59, 40, 34],\n",
       "        [60, 40, 33],\n",
       "        [54, 34, 27]],\n",
       "\n",
       "       [[53, 44, 37],\n",
       "        [54, 45, 38],\n",
       "        [57, 48, 41],\n",
       "        ...,\n",
       "        [59, 40, 34],\n",
       "        [70, 50, 43],\n",
       "        [64, 44, 37]]], dtype=uint8),\n",
       "        list([{'label': ['Face'], 'notes': '', 'points': [{'x': 0.08615384615384615, 'y': 0.3063063063063063}, {'x': 0.1723076923076923, 'y': 0.45345345345345345}], 'imageWidth': 650, 'imageHeight': 333}, {'label': ['Face'], 'notes': '', 'points': [{'x': 0.583076923076923, 'y': 0.2912912912912913}, {'x': 0.6584615384615384, 'y': 0.46846846846846846}], 'imageWidth': 650, 'imageHeight': 333}])],\n",
       "       [array([[[207, 216, 227, 255],\n",
       "        [206, 216, 227, 255],\n",
       "        [207, 216, 227, 255],\n",
       "        ...,\n",
       "        [ 35,  33,  34, 255],\n",
       "        [ 35,  33,  34, 255],\n",
       "        [ 35,  33,  34, 255]],\n",
       "\n",
       "       [[207, 216, 227, 255],\n",
       "        [207, 216, 227, 255],\n",
       "        [207, 216, 227, 255],\n",
       "        ...,\n",
       "        [ 35,  32,  33, 255],\n",
       "        [ 35,  33,  34, 255],\n",
       "        [ 35,  33,  34, 255]],\n",
       "\n",
       "       [[207, 216, 227, 255],\n",
       "        [207, 216, 227, 255],\n",
       "        [207, 215, 227, 255],\n",
       "        ...,\n",
       "        [ 35,  33,  33, 255],\n",
       "        [ 35,  33,  34, 255],\n",
       "        [ 35,  33,  34, 255]],\n",
       "\n",
       "       ...,\n",
       "\n",
       "       [[ 31,  21,  17, 255],\n",
       "        [ 31,  22,  18, 255],\n",
       "        [ 31,  22,  18, 255],\n",
       "        ...,\n",
       "        [  0,   1,   4, 255],\n",
       "        [  0,   1,   4, 255],\n",
       "        [  0,   1,   4, 255]],\n",
       "\n",
       "       [[ 31,  22,  18, 255],\n",
       "        [ 31,  22,  18, 255],\n",
       "        [ 31,  22,  18, 255],\n",
       "        ...,\n",
       "        [  0,   1,   4, 255],\n",
       "        [  0,   1,   4, 255],\n",
       "        [  0,   1,   4, 255]],\n",
       "\n",
       "       [[ 31,  22,  18, 255],\n",
       "        [ 30,  22,  17, 255],\n",
       "        [ 31,  22,  18, 255],\n",
       "        ...,\n",
       "        [  0,   1,   4, 255],\n",
       "        [  0,   1,   4, 255],\n",
       "        [  0,   1,   4, 255]]], dtype=uint8),\n",
       "        list([{'label': ['Face'], 'notes': '', 'points': [{'x': 0.7053087757313109, 'y': 0.23260437375745527}, {'x': 0.7692307692307693, 'y': 0.36182902584493043}], 'imageWidth': 1280, 'imageHeight': 697}])],\n",
       "       [array([[[ 91,  61,  33],\n",
       "        [ 95,  65,  37],\n",
       "        [ 94,  64,  38],\n",
       "        ...,\n",
       "        [248, 242, 206],\n",
       "        [242, 236, 200],\n",
       "        [241, 235, 199]],\n",
       "\n",
       "       [[ 92,  62,  34],\n",
       "        [ 96,  66,  40],\n",
       "        [ 95,  65,  39],\n",
       "        ...,\n",
       "        [244, 238, 202],\n",
       "        [237, 231, 195],\n",
       "        [236, 230, 194]],\n",
       "\n",
       "       [[ 94,  64,  38],\n",
       "        [ 97,  67,  41],\n",
       "        [ 96,  66,  40],\n",
       "        ...,\n",
       "        [242, 234, 197],\n",
       "        [235, 227, 190],\n",
       "        [233, 225, 188]],\n",
       "\n",
       "       ...,\n",
       "\n",
       "       [[ 60,  42,  30],\n",
       "        [ 58,  40,  28],\n",
       "        [ 58,  40,  28],\n",
       "        ...,\n",
       "        [  6,   5,   3],\n",
       "        [  7,   6,   4],\n",
       "        [  8,   7,   5]],\n",
       "\n",
       "       [[ 54,  36,  24],\n",
       "        [ 52,  34,  22],\n",
       "        [ 52,  34,  22],\n",
       "        ...,\n",
       "        [  6,   5,   3],\n",
       "        [  8,   7,   5],\n",
       "        [  9,   8,   6]],\n",
       "\n",
       "       [[ 51,  31,  20],\n",
       "        [ 48,  30,  18],\n",
       "        [ 48,  30,  18],\n",
       "        ...,\n",
       "        [  7,   6,   4],\n",
       "        [  8,   7,   5],\n",
       "        [  9,   8,   6]]], dtype=uint8),\n",
       "        list([{'label': ['Face'], 'notes': '', 'points': [{'x': 0.46956521739130436, 'y': 0.05}, {'x': 0.6065217391304348, 'y': 0.3333333333333333}], 'imageWidth': 460, 'imageHeight': 240}, {'label': ['Face'], 'notes': '', 'points': [{'x': 0.6282608695652174, 'y': 0.008333333333333333}, {'x': 0.7456521739130435, 'y': 0.30833333333333335}], 'imageWidth': 460, 'imageHeight': 240}])],\n",
       "       [array([[[  0,   0,   0, 255],\n",
       "        [  0,   0,   0, 255],\n",
       "        [  0,   0,   0, 255],\n",
       "        ...,\n",
       "        [  0,   0,   0, 255],\n",
       "        [  0,   0,   0, 255],\n",
       "        [  0,   0,   0, 255]],\n",
       "\n",
       "       [[  0,   0,   0, 255],\n",
       "        [  0,   0,   0, 255],\n",
       "        [  0,   0,   0, 255],\n",
       "        ...,\n",
       "        [  0,   0,   0, 255],\n",
       "        [  0,   0,   0, 255],\n",
       "        [  0,   0,   0, 255]],\n",
       "\n",
       "       [[  0,   0,   0, 255],\n",
       "        [  0,   0,   0, 255],\n",
       "        [  0,   0,   0, 255],\n",
       "        ...,\n",
       "        [  0,   0,   0, 255],\n",
       "        [  0,   0,   0, 255],\n",
       "        [  0,   0,   0, 255]],\n",
       "\n",
       "       ...,\n",
       "\n",
       "       [[ 80,  31,  18, 255],\n",
       "        [ 82,  36,  23, 255],\n",
       "        [ 79,  31,  21, 255],\n",
       "        ...,\n",
       "        [121, 114, 104, 255],\n",
       "        [120, 112, 104, 255],\n",
       "        [116, 109,  99, 255]],\n",
       "\n",
       "       [[ 73,  38,  20, 255],\n",
       "        [ 76,  40,  24, 255],\n",
       "        [ 79,  45,  30, 255],\n",
       "        ...,\n",
       "        [121, 112, 104, 255],\n",
       "        [117, 110, 102, 255],\n",
       "        [113, 106,  97, 255]],\n",
       "\n",
       "       [[ 79,  37,  21, 255],\n",
       "        [ 76,  32,  16, 255],\n",
       "        [ 77,  33,  18, 255],\n",
       "        ...,\n",
       "        [119, 108,  97, 255],\n",
       "        [115, 106,  96, 255],\n",
       "        [111, 103,  90, 255]]], dtype=uint8),\n",
       "        list([{'label': ['Face'], 'notes': '', 'points': [{'x': 0.495, 'y': 0.27147766323024053}, {'x': 0.595, 'y': 0.46048109965635736}], 'imageWidth': 600, 'imageHeight': 291}])],\n",
       "       [array([[[250, 250, 250],\n",
       "        [250, 250, 250],\n",
       "        [250, 250, 250],\n",
       "        ...,\n",
       "        [190, 201, 107],\n",
       "        [193, 204, 110],\n",
       "        [193, 204, 108]],\n",
       "\n",
       "       [[250, 250, 250],\n",
       "        [250, 250, 250],\n",
       "        [250, 250, 250],\n",
       "        ...,\n",
       "        [191, 203, 105],\n",
       "        [192, 204, 106],\n",
       "        [193, 205, 105]],\n",
       "\n",
       "       [[250, 250, 250],\n",
       "        [250, 250, 250],\n",
       "        [250, 250, 250],\n",
       "        ...,\n",
       "        [187, 200,  94],\n",
       "        [184, 197,  91],\n",
       "        [185, 198,  90]],\n",
       "\n",
       "       ...,\n",
       "\n",
       "       [[191, 191, 203],\n",
       "        [170, 170, 182],\n",
       "        [167, 167, 177],\n",
       "        ...,\n",
       "        [ 24,  41,  71],\n",
       "        [ 14,  33,  66],\n",
       "        [  7,  27,  64]],\n",
       "\n",
       "       [[190, 190, 202],\n",
       "        [172, 172, 184],\n",
       "        [170, 170, 182],\n",
       "        ...,\n",
       "        [ 33,  50,  80],\n",
       "        [ 17,  36,  69],\n",
       "        [  5,  25,  62]],\n",
       "\n",
       "       [[189, 191, 204],\n",
       "        [172, 174, 187],\n",
       "        [169, 171, 183],\n",
       "        ...,\n",
       "        [ 44,  63,  95],\n",
       "        [ 28,  48,  83],\n",
       "        [ 14,  36,  75]]], dtype=uint8),\n",
       "        list([{'label': ['Face'], 'notes': '', 'points': [{'x': 0.5586206896551724, 'y': 0.19938650306748465}, {'x': 0.6603448275862069, 'y': 0.3773006134969325}], 'imageWidth': 580, 'imageHeight': 326}, {'label': ['Face'], 'notes': '', 'points': [{'x': 0.38620689655172413, 'y': 0.18711656441717792}, {'x': 0.4896551724137931, 'y': 0.4049079754601227}], 'imageWidth': 580, 'imageHeight': 326}, {'label': ['Face'], 'notes': '', 'points': [{'x': 0.1724137931034483, 'y': 0.23006134969325154}, {'x': 0.2775862068965517, 'y': 0.44171779141104295}], 'imageWidth': 580, 'imageHeight': 326}, {'label': ['Face'], 'notes': '', 'points': [{'x': 0.7155172413793104, 'y': 0.19938650306748465}, {'x': 0.8448275862068966, 'y': 0.41411042944785276}], 'imageWidth': 580, 'imageHeight': 326}, {'label': ['Face'], 'notes': '', 'points': [{'x': 0.2982758620689655, 'y': 0.44171779141104295}, {'x': 0.4189655172413793, 'y': 0.6533742331288344}], 'imageWidth': 580, 'imageHeight': 326}, {'label': ['Face'], 'notes': '', 'points': [{'x': 0.6362068965517241, 'y': 0.4233128834355828}, {'x': 0.7362068965517241, 'y': 0.6104294478527608}], 'imageWidth': 580, 'imageHeight': 326}])]],\n",
       "      dtype=object)"
      ]
     },
     "execution_count": 5,
     "metadata": {
      "tags": []
     },
     "output_type": "execute_result"
    }
   ],
   "source": [
    "data[:5]\n",
    "#data.shape"
   ]
  },
  {
   "cell_type": "code",
   "execution_count": 6,
   "metadata": {
    "colab": {
     "base_uri": "https://localhost:8080/",
     "height": 602
    },
    "colab_type": "code",
    "executionInfo": {
     "elapsed": 1038,
     "status": "ok",
     "timestamp": 1576404608865,
     "user": {
      "displayName": "Najmus Educare",
      "photoUrl": "",
      "userId": "10622802872372911709"
     },
     "user_tz": -330
    },
    "id": "aLkgQlPRg-as",
    "outputId": "4abd1cd5-18e9-4180-8760-ec6831e37e75"
   },
   "outputs": [
    {
     "data": {
      "text/plain": [
       "[{'imageHeight': 326,\n",
       "  'imageWidth': 580,\n",
       "  'label': ['Face'],\n",
       "  'notes': '',\n",
       "  'points': [{'x': 0.5586206896551724, 'y': 0.19938650306748465},\n",
       "   {'x': 0.6603448275862069, 'y': 0.3773006134969325}]},\n",
       " {'imageHeight': 326,\n",
       "  'imageWidth': 580,\n",
       "  'label': ['Face'],\n",
       "  'notes': '',\n",
       "  'points': [{'x': 0.38620689655172413, 'y': 0.18711656441717792},\n",
       "   {'x': 0.4896551724137931, 'y': 0.4049079754601227}]},\n",
       " {'imageHeight': 326,\n",
       "  'imageWidth': 580,\n",
       "  'label': ['Face'],\n",
       "  'notes': '',\n",
       "  'points': [{'x': 0.1724137931034483, 'y': 0.23006134969325154},\n",
       "   {'x': 0.2775862068965517, 'y': 0.44171779141104295}]},\n",
       " {'imageHeight': 326,\n",
       "  'imageWidth': 580,\n",
       "  'label': ['Face'],\n",
       "  'notes': '',\n",
       "  'points': [{'x': 0.7155172413793104, 'y': 0.19938650306748465},\n",
       "   {'x': 0.8448275862068966, 'y': 0.41411042944785276}]},\n",
       " {'imageHeight': 326,\n",
       "  'imageWidth': 580,\n",
       "  'label': ['Face'],\n",
       "  'notes': '',\n",
       "  'points': [{'x': 0.2982758620689655, 'y': 0.44171779141104295},\n",
       "   {'x': 0.4189655172413793, 'y': 0.6533742331288344}]},\n",
       " {'imageHeight': 326,\n",
       "  'imageWidth': 580,\n",
       "  'label': ['Face'],\n",
       "  'notes': '',\n",
       "  'points': [{'x': 0.6362068965517241, 'y': 0.4233128834355828},\n",
       "   {'x': 0.7362068965517241, 'y': 0.6104294478527608}]}]"
      ]
     },
     "execution_count": 6,
     "metadata": {
      "tags": []
     },
     "output_type": "execute_result"
    }
   ],
   "source": [
    "data[4][1]"
   ]
  },
  {
   "cell_type": "markdown",
   "metadata": {
    "colab_type": "text",
    "id": "m94G4p3CE5Cj"
   },
   "source": [
    "### Set image dimensions   (1 mark)\n",
    "- Initialize image height, image width with value: 224 "
   ]
  },
  {
   "cell_type": "code",
   "execution_count": 0,
   "metadata": {
    "colab": {},
    "colab_type": "code",
    "id": "kuZmtOASevDo"
   },
   "outputs": [],
   "source": [
    "IMAGE_WIDTH = 224\n",
    "IMAGE_HEIGHT = 224"
   ]
  },
  {
   "cell_type": "markdown",
   "metadata": {
    "colab_type": "text",
    "id": "wY6FEsCjG47s"
   },
   "source": [
    "### Create features and labels\n",
    "- Here feature is the image\n",
    "- The label is the mask\n",
    "- Images will be stored in \"X_train\" array\n",
    "- Masks will be stored in \"masks\" array"
   ]
  },
  {
   "cell_type": "code",
   "execution_count": 0,
   "metadata": {
    "colab": {},
    "colab_type": "code",
    "id": "XjCT9EVTgAvr"
   },
   "outputs": [],
   "source": [
    "import cv2\n",
    "from tensorflow.keras.applications.mobilenet import preprocess_input\n",
    "\n",
    "masks = np.zeros((int(data.shape[0]), IMAGE_HEIGHT, IMAGE_WIDTH, 3))\n",
    "X_train = np.zeros((int(data.shape[0]), IMAGE_HEIGHT, IMAGE_WIDTH, 3))\n",
    "for index in range(data.shape[0]):\n",
    "    img = data[index][0]\n",
    "    img = cv2.resize(img, dsize=(IMAGE_HEIGHT, IMAGE_WIDTH), interpolation=cv2.INTER_CUBIC)\n",
    "    try:\n",
    "      img = img[:, :, :3]\n",
    "    except:\n",
    "      continue\n",
    "    X_train[index] = preprocess_input(np.array(img, dtype=np.float32))\n",
    "    for i in data[index][1]:\n",
    "        x1 = int(i[\"points\"][0]['x'] * IMAGE_WIDTH)\n",
    "        x2 = int(i[\"points\"][1]['x'] * IMAGE_WIDTH)\n",
    "        y1 = int(i[\"points\"][0]['y'] * IMAGE_HEIGHT)\n",
    "        y2 = int(i[\"points\"][1]['y'] * IMAGE_HEIGHT)\n",
    "        \n",
    "        masks[index][y1:y2, x1:x2] = 1\n",
    "        "
   ]
  },
  {
   "cell_type": "code",
   "execution_count": 0,
   "metadata": {
    "colab": {
     "base_uri": "https://localhost:8080/",
     "height": 136
    },
    "colab_type": "code",
    "executionInfo": {
     "elapsed": 1215,
     "status": "ok",
     "timestamp": 1575960511140,
     "user": {
      "displayName": "Sureshkumar Ramasamy",
      "photoUrl": "",
      "userId": "10803009491132879770"
     },
     "user_tz": -330
    },
    "id": "zyrpbwDNkFx9",
    "outputId": "41ee7db3-b85a-4278-bd49-f1b20f06614f"
   },
   "outputs": [
    {
     "data": {
      "text/plain": [
       "array([[0., 0., 0., ..., 0., 0., 0.],\n",
       "       [0., 0., 0., ..., 0., 0., 0.],\n",
       "       [0., 0., 0., ..., 0., 0., 0.],\n",
       "       ...,\n",
       "       [0., 0., 0., ..., 0., 0., 0.],\n",
       "       [0., 0., 0., ..., 0., 0., 0.],\n",
       "       [0., 0., 0., ..., 0., 0., 0.]])"
      ]
     },
     "execution_count": 41,
     "metadata": {
      "tags": []
     },
     "output_type": "execute_result"
    }
   ],
   "source": []
  },
  {
   "cell_type": "markdown",
   "metadata": {
    "colab_type": "text",
    "id": "N3AYbP79bFtJ"
   },
   "source": [
    "### Print the shape of X_train and mask array  (1 mark)"
   ]
  },
  {
   "cell_type": "code",
   "execution_count": 11,
   "metadata": {
    "colab": {
     "base_uri": "https://localhost:8080/",
     "height": 33
    },
    "colab_type": "code",
    "executionInfo": {
     "elapsed": 933,
     "status": "ok",
     "timestamp": 1576404774043,
     "user": {
      "displayName": "Najmus Educare",
      "photoUrl": "",
      "userId": "10622802872372911709"
     },
     "user_tz": -330
    },
    "id": "3PIRaEdWIjDa",
    "outputId": "3933e623-3932-4296-a6e7-92e096d8d8a8"
   },
   "outputs": [
    {
     "data": {
      "text/plain": [
       "(409, 224, 224, 3)"
      ]
     },
     "execution_count": 11,
     "metadata": {
      "tags": []
     },
     "output_type": "execute_result"
    }
   ],
   "source": [
    "X_train.shape"
   ]
  },
  {
   "cell_type": "code",
   "execution_count": 12,
   "metadata": {
    "colab": {
     "base_uri": "https://localhost:8080/",
     "height": 33
    },
    "colab_type": "code",
    "executionInfo": {
     "elapsed": 982,
     "status": "ok",
     "timestamp": 1576404775239,
     "user": {
      "displayName": "Najmus Educare",
      "photoUrl": "",
      "userId": "10622802872372911709"
     },
     "user_tz": -330
    },
    "id": "Gw6uH5DxgI_r",
    "outputId": "9afaf2e5-7c2c-4212-f195-17e4766c942b"
   },
   "outputs": [
    {
     "data": {
      "text/plain": [
       "(409, 224, 224, 3)"
      ]
     },
     "execution_count": 12,
     "metadata": {
      "tags": []
     },
     "output_type": "execute_result"
    }
   ],
   "source": [
    "masks.shape"
   ]
  },
  {
   "cell_type": "code",
   "execution_count": 13,
   "metadata": {
    "colab": {
     "base_uri": "https://localhost:8080/",
     "height": 33
    },
    "colab_type": "code",
    "executionInfo": {
     "elapsed": 667,
     "status": "ok",
     "timestamp": 1576404776434,
     "user": {
      "displayName": "Najmus Educare",
      "photoUrl": "",
      "userId": "10622802872372911709"
     },
     "user_tz": -330
    },
    "id": "WKDBYW9NJrrC",
    "outputId": "8b883d5b-ef07-4417-e235-7bc4124610eb"
   },
   "outputs": [
    {
     "data": {
      "text/plain": [
       "409"
      ]
     },
     "execution_count": 13,
     "metadata": {
      "tags": []
     },
     "output_type": "execute_result"
    }
   ],
   "source": [
    "data.shape[0]"
   ]
  },
  {
   "cell_type": "markdown",
   "metadata": {
    "colab_type": "text",
    "id": "R4wgkWq1bk5F"
   },
   "source": [
    "### Print a sample image and image array"
   ]
  },
  {
   "cell_type": "code",
   "execution_count": 14,
   "metadata": {
    "colab": {
     "base_uri": "https://localhost:8080/",
     "height": 301
    },
    "colab_type": "code",
    "executionInfo": {
     "elapsed": 1367,
     "status": "ok",
     "timestamp": 1576404799431,
     "user": {
      "displayName": "Najmus Educare",
      "photoUrl": "",
      "userId": "10622802872372911709"
     },
     "user_tz": -330
    },
    "id": "qfRZjQufj0N9",
    "outputId": "0f14be8e-ba22-4c2f-f01a-388e7f9852b3"
   },
   "outputs": [
    {
     "name": "stderr",
     "output_type": "stream",
     "text": [
      "Clipping input data to the valid range for imshow with RGB data ([0..1] for floats or [0..255] for integers).\n"
     ]
    },
    {
     "data": {
      "text/plain": [
       "<matplotlib.image.AxesImage at 0x7f339927cb00>"
      ]
     },
     "execution_count": 14,
     "metadata": {
      "tags": []
     },
     "output_type": "execute_result"
    },
    {
     "data": {
      "image/png": "[encoded data removed]",
      "text/plain": [
       "<Figure size 432x288 with 1 Axes>"
      ]
     },
     "metadata": {
      "tags": []
     },
     "output_type": "display_data"
    }
   ],
   "source": [
    "from matplotlib import pyplot\n",
    "n = 10\n",
    "#print(X_train[n])\n",
    "pyplot.imshow(X_train[n])"
   ]
  },
  {
   "cell_type": "code",
   "execution_count": 15,
   "metadata": {
    "colab": {
     "base_uri": "https://localhost:8080/",
     "height": 285
    },
    "colab_type": "code",
    "executionInfo": {
     "elapsed": 4387,
     "status": "ok",
     "timestamp": 1576404805922,
     "user": {
      "displayName": "Najmus Educare",
      "photoUrl": "",
      "userId": "10622802872372911709"
     },
     "user_tz": -330
    },
    "id": "983gGKcwlSe8",
    "outputId": "47ab76a9-9ef5-46b6-a8e5-1ab8d18ef17b"
   },
   "outputs": [
    {
     "data": {
      "text/plain": [
       "<matplotlib.image.AxesImage at 0x7f3398dc9e48>"
      ]
     },
     "execution_count": 15,
     "metadata": {
      "tags": []
     },
     "output_type": "execute_result"
    },
    {
     "data": {
      "image/png": "[encoded data removed]",
      "text/plain": [
       "<Figure size 432x288 with 1 Axes>"
      ]
     },
     "metadata": {
      "tags": []
     },
     "output_type": "display_data"
    }
   ],
   "source": [
    "pyplot.imshow(masks[n])"
   ]
  },
  {
   "cell_type": "markdown",
   "metadata": {
    "colab_type": "text",
    "id": "Z0Qa1UOue9TE"
   },
   "source": [
    "## Create the model (10 marks)\n",
    "- Add MobileNet as model with below parameter values\n",
    "  - input_shape: IMAGE_HEIGHT, IMAGE_WIDTH, 3\n",
    "  - include_top: False\n",
    "  - alpha: 1.0\n",
    "  - weights: \"imagenet\"\n",
    "- Add UNET architecture layers\n",
    "  - This is the trickiest part of the project, you need to research and implement it correctly"
   ]
  },
  {
   "cell_type": "code",
   "execution_count": 17,
   "metadata": {
    "colab": {
     "base_uri": "https://localhost:8080/",
     "height": 33
    },
    "colab_type": "code",
    "executionInfo": {
     "elapsed": 2145,
     "status": "ok",
     "timestamp": 1576404899892,
     "user": {
      "displayName": "Najmus Educare",
      "photoUrl": "",
      "userId": "10622802872372911709"
     },
     "user_tz": -330
    },
    "id": "BTVYOvANrUVx",
    "outputId": "f20f4180-9981-4e37-e9a8-358a3d045cef"
   },
   "outputs": [
    {
     "name": "stderr",
     "output_type": "stream",
     "text": [
      "Using TensorFlow backend.\n"
     ]
    }
   ],
   "source": [
    "from tensorflow.keras.applications.mobilenet import MobileNet\n",
    "from tensorflow.keras.layers import Concatenate, UpSampling2D, Conv2D, Reshape\n",
    "from tensorflow.keras.models import Model\n",
    "import os\n",
    "import random\n",
    "import pandas as pd\n",
    "import numpy as np\n",
    "import matplotlib.pyplot as plt\n",
    "plt.style.use(\"ggplot\")\n",
    "%matplotlib inline\n",
    "\n",
    "from tqdm import tqdm_notebook, tnrange\n",
    "from itertools import chain\n",
    "from skimage.io import imread, imshow, concatenate_images\n",
    "from skimage.transform import resize\n",
    "from skimage.morphology import label\n",
    "from sklearn.model_selection import train_test_split\n",
    "\n",
    "import tensorflow as tf\n",
    "\n",
    "from keras.models import Model, load_model\n",
    "from keras.layers import Input, BatchNormalization, Activation, Dense, Dropout\n",
    "from keras.layers.core import Lambda, RepeatVector, Reshape\n",
    "from keras.layers.convolutional import Conv2D, Conv2DTranspose\n",
    "from keras.layers.pooling import MaxPooling2D, GlobalMaxPool2D\n",
    "from keras.layers.merge import concatenate, add\n",
    "from keras.callbacks import EarlyStopping, ModelCheckpoint, ReduceLROnPlateau\n",
    "from keras.optimizers import Adam\n",
    "from keras.preprocessing.image import ImageDataGenerator, array_to_img, img_to_array, load_img\n",
    "\n",
    "ALPHA = 1.0 # Width hyper parameter for MobileNet (0.25, 0.5, 0.75, 1.0). Higher width means more accurate but slower\n",
    "\n",
    "IMAGE_SIZE = 128 # MobileNet takes images of size 128*128*3 \n",
    "\n",
    "EPOCHS = 10 # Number of epochs. I got decent performance with just 5.\n",
    "BATCH_SIZE = 32 # Depends on your GPU or CPU RAM.\n",
    "\n",
    "def create_model():\n",
    "    model = MobileNet(input_shape=(IMAGE_SIZE, IMAGE_SIZE, 3), include_top=False, alpha=ALPHA)\n",
    "    for layer in model.layers:\n",
    "        layer.trainable = True\n",
    "\n",
    "    # Add all the UNET layers here\n",
    "    input_img = Input((IMAGE_HEIGHT, IMAGE_WIDTH, 3), name='img')\n",
    "    n_filters=16\n",
    "    dropout=0.5\n",
    "    batchnorm=True\n",
    "    \n",
    "    c1 = conv2d_block(input_img, n_filters=n_filters*1, kernel_size=3, batchnorm=batchnorm)\n",
    "    p1 = MaxPooling2D((2, 2)) (c1)\n",
    "    p1 = Dropout(dropout*0.5)(p1)\n",
    "\n",
    "    c2 = conv2d_block(p1, n_filters=n_filters*2, kernel_size=3, batchnorm=batchnorm)\n",
    "    p2 = MaxPooling2D((2, 2)) (c2)\n",
    "    p2 = Dropout(dropout)(p2)\n",
    "\n",
    "    c3 = conv2d_block(p2, n_filters=n_filters*4, kernel_size=3, batchnorm=batchnorm)\n",
    "    p3 = MaxPooling2D((2, 2)) (c3)\n",
    "    p3 = Dropout(dropout)(p3)\n",
    "\n",
    "    c4 = conv2d_block(p3, n_filters=n_filters*8, kernel_size=3, batchnorm=batchnorm)\n",
    "    p4 = MaxPooling2D(pool_size=(2, 2)) (c4)\n",
    "    p4 = Dropout(dropout)(p4)\n",
    "    \n",
    "    c5 = conv2d_block(p4, n_filters=n_filters*16, kernel_size=3, batchnorm=batchnorm)\n",
    "    \n",
    "    # expansive path\n",
    "    u6 = Conv2DTranspose(n_filters*8, (3, 3), strides=(2, 2), padding='same') (c5)\n",
    "    u6 = concatenate([u6, c4])\n",
    "    u6 = Dropout(dropout)(u6)\n",
    "    c6 = conv2d_block(u6, n_filters=n_filters*8, kernel_size=3, batchnorm=batchnorm)\n",
    "\n",
    "    u7 = Conv2DTranspose(n_filters*4, (3, 3), strides=(2, 2), padding='same') (c6)\n",
    "    u7 = concatenate([u7, c3])\n",
    "    u7 = Dropout(dropout)(u7)\n",
    "    c7 = conv2d_block(u7, n_filters=n_filters*4, kernel_size=3, batchnorm=batchnorm)\n",
    "\n",
    "    u8 = Conv2DTranspose(n_filters*2, (3, 3), strides=(2, 2), padding='same') (c7)\n",
    "    u8 = concatenate([u8, c2])\n",
    "    u8 = Dropout(dropout)(u8)\n",
    "    c8 = conv2d_block(u8, n_filters=n_filters*2, kernel_size=3, batchnorm=batchnorm)\n",
    "\n",
    "    u9 = Conv2DTranspose(n_filters*1, (3, 3), strides=(2, 2), padding='same') (c8)\n",
    "    u9 = concatenate([u9, c1], axis=3)\n",
    "    u9 = Dropout(dropout)(u9)\n",
    "    c9 = conv2d_block(u9, n_filters=n_filters*1, kernel_size=3, batchnorm=batchnorm)\n",
    "    \n",
    "    outputs = Conv2D(3, (1,1), activation='sigmoid') (c9)\n",
    "    model = Model(inputs=[input_img], outputs=[outputs])\n",
    "\n",
    "    return model"
   ]
  },
  {
   "cell_type": "code",
   "execution_count": 0,
   "metadata": {
    "colab": {},
    "colab_type": "code",
    "id": "mMp07rxaMqVJ"
   },
   "outputs": [],
   "source": [
    "def conv2d_block(input_tensor, n_filters, kernel_size=3, batchnorm=True):\n",
    "    # first layer\n",
    "    x = Conv2D(filters=n_filters, kernel_size=(3, 3), kernel_initializer=\"he_normal\", padding=\"same\")(input_tensor)\n",
    "    if batchnorm:\n",
    "        x = BatchNormalization()(x)\n",
    "    x = Activation(\"relu\")(x)\n",
    "    # second layer\n",
    "    x = Conv2D(filters=n_filters, kernel_size=(3, 3), kernel_initializer=\"he_normal\", padding=\"same\")(x)\n",
    "    if batchnorm:\n",
    "        x = BatchNormalization()(x)\n",
    "    x = Activation(\"relu\")(x)\n",
    "    return x"
   ]
  },
  {
   "cell_type": "markdown",
   "metadata": {
    "colab_type": "text",
    "id": "_snZ9o0ZBAiv"
   },
   "source": [
    "### Call the create_model function"
   ]
  },
  {
   "cell_type": "code",
   "execution_count": 19,
   "metadata": {
    "colab": {
     "base_uri": "https://localhost:8080/",
     "height": 1000
    },
    "colab_type": "code",
    "executionInfo": {
     "elapsed": 8659,
     "status": "ok",
     "timestamp": 1576404989071,
     "user": {
      "displayName": "Najmus Educare",
      "photoUrl": "",
      "userId": "10622802872372911709"
     },
     "user_tz": -330
    },
    "id": "9TfSSP51uPoO",
    "outputId": "4c2b8ff0-abc4-4fa1-eeb1-fd689bfc01a4"
   },
   "outputs": [
    {
     "name": "stdout",
     "output_type": "stream",
     "text": [
      "WARNING:tensorflow:From /usr/local/lib/python3.6/dist-packages/tensorflow_core/python/ops/resource_variable_ops.py:1630: calling BaseResourceVariable.__init__ (from tensorflow.python.ops.resource_variable_ops) with constraint is deprecated and will be removed in a future version.\n",
      "Instructions for updating:\n",
      "If using Keras pass *_constraint arguments to layers.\n",
      "Downloading data from https://github.com/fchollet/deep-learning-models/releases/download/v0.6/mobilenet_1_0_128_tf_no_top.h5\n",
      "17227776/17225924 [==============================] - 0s 0us/step\n",
      "WARNING:tensorflow:From /usr/local/lib/python3.6/dist-packages/keras/backend/tensorflow_backend.py:541: The name tf.placeholder is deprecated. Please use tf.compat.v1.placeholder instead.\n",
      "\n",
      "WARNING:tensorflow:From /usr/local/lib/python3.6/dist-packages/keras/backend/tensorflow_backend.py:66: The name tf.get_default_graph is deprecated. Please use tf.compat.v1.get_default_graph instead.\n",
      "\n",
      "WARNING:tensorflow:From /usr/local/lib/python3.6/dist-packages/keras/backend/tensorflow_backend.py:4479: The name tf.truncated_normal is deprecated. Please use tf.random.truncated_normal instead.\n",
      "\n",
      "WARNING:tensorflow:From /usr/local/lib/python3.6/dist-packages/keras/backend/tensorflow_backend.py:190: The name tf.get_default_session is deprecated. Please use tf.compat.v1.get_default_session instead.\n",
      "\n",
      "WARNING:tensorflow:From /usr/local/lib/python3.6/dist-packages/keras/backend/tensorflow_backend.py:197: The name tf.ConfigProto is deprecated. Please use tf.compat.v1.ConfigProto instead.\n",
      "\n",
      "WARNING:tensorflow:From /usr/local/lib/python3.6/dist-packages/keras/backend/tensorflow_backend.py:203: The name tf.Session is deprecated. Please use tf.compat.v1.Session instead.\n",
      "\n",
      "WARNING:tensorflow:From /usr/local/lib/python3.6/dist-packages/keras/backend/tensorflow_backend.py:207: The name tf.global_variables is deprecated. Please use tf.compat.v1.global_variables instead.\n",
      "\n",
      "WARNING:tensorflow:From /usr/local/lib/python3.6/dist-packages/keras/backend/tensorflow_backend.py:216: The name tf.is_variable_initialized is deprecated. Please use tf.compat.v1.is_variable_initialized instead.\n",
      "\n",
      "WARNING:tensorflow:From /usr/local/lib/python3.6/dist-packages/keras/backend/tensorflow_backend.py:223: The name tf.variables_initializer is deprecated. Please use tf.compat.v1.variables_initializer instead.\n",
      "\n",
      "WARNING:tensorflow:From /usr/local/lib/python3.6/dist-packages/keras/backend/tensorflow_backend.py:2041: The name tf.nn.fused_batch_norm is deprecated. Please use tf.compat.v1.nn.fused_batch_norm instead.\n",
      "\n",
      "WARNING:tensorflow:From /usr/local/lib/python3.6/dist-packages/keras/backend/tensorflow_backend.py:148: The name tf.placeholder_with_default is deprecated. Please use tf.compat.v1.placeholder_with_default instead.\n",
      "\n",
      "WARNING:tensorflow:From /usr/local/lib/python3.6/dist-packages/keras/backend/tensorflow_backend.py:4267: The name tf.nn.max_pool is deprecated. Please use tf.nn.max_pool2d instead.\n",
      "\n",
      "WARNING:tensorflow:From /usr/local/lib/python3.6/dist-packages/keras/backend/tensorflow_backend.py:3733: calling dropout (from tensorflow.python.ops.nn_ops) with keep_prob is deprecated and will be removed in a future version.\n",
      "Instructions for updating:\n",
      "Please use `rate` instead of `keep_prob`. Rate should be set to `rate = 1 - keep_prob`.\n",
      "WARNING:tensorflow:From /usr/local/lib/python3.6/dist-packages/keras/backend/tensorflow_backend.py:4432: The name tf.random_uniform is deprecated. Please use tf.random.uniform instead.\n",
      "\n",
      "Model: \"model_1\"\n",
      "__________________________________________________________________________________________________\n",
      "Layer (type)                    Output Shape         Param #     Connected to                     \n",
      "==================================================================================================\n",
      "img (InputLayer)                (None, 224, 224, 3)  0                                            \n",
      "__________________________________________________________________________________________________\n",
      "conv2d_1 (Conv2D)               (None, 224, 224, 16) 448         img[0][0]                        \n",
      "__________________________________________________________________________________________________\n",
      "batch_normalization_1 (BatchNor (None, 224, 224, 16) 64          conv2d_1[0][0]                   \n",
      "__________________________________________________________________________________________________\n",
      "activation_1 (Activation)       (None, 224, 224, 16) 0           batch_normalization_1[0][0]      \n",
      "__________________________________________________________________________________________________\n",
      "conv2d_2 (Conv2D)               (None, 224, 224, 16) 2320        activation_1[0][0]               \n",
      "__________________________________________________________________________________________________\n",
      "batch_normalization_2 (BatchNor (None, 224, 224, 16) 64          conv2d_2[0][0]                   \n",
      "__________________________________________________________________________________________________\n",
      "activation_2 (Activation)       (None, 224, 224, 16) 0           batch_normalization_2[0][0]      \n",
      "__________________________________________________________________________________________________\n",
      "max_pooling2d_1 (MaxPooling2D)  (None, 112, 112, 16) 0           activation_2[0][0]               \n",
      "__________________________________________________________________________________________________\n",
      "dropout_1 (Dropout)             (None, 112, 112, 16) 0           max_pooling2d_1[0][0]            \n",
      "__________________________________________________________________________________________________\n",
      "conv2d_3 (Conv2D)               (None, 112, 112, 32) 4640        dropout_1[0][0]                  \n",
      "__________________________________________________________________________________________________\n",
      "batch_normalization_3 (BatchNor (None, 112, 112, 32) 128         conv2d_3[0][0]                   \n",
      "__________________________________________________________________________________________________\n",
      "activation_3 (Activation)       (None, 112, 112, 32) 0           batch_normalization_3[0][0]      \n",
      "__________________________________________________________________________________________________\n",
      "conv2d_4 (Conv2D)               (None, 112, 112, 32) 9248        activation_3[0][0]               \n",
      "__________________________________________________________________________________________________\n",
      "batch_normalization_4 (BatchNor (None, 112, 112, 32) 128         conv2d_4[0][0]                   \n",
      "__________________________________________________________________________________________________\n",
      "activation_4 (Activation)       (None, 112, 112, 32) 0           batch_normalization_4[0][0]      \n",
      "__________________________________________________________________________________________________\n",
      "max_pooling2d_2 (MaxPooling2D)  (None, 56, 56, 32)   0           activation_4[0][0]               \n",
      "__________________________________________________________________________________________________\n",
      "dropout_2 (Dropout)             (None, 56, 56, 32)   0           max_pooling2d_2[0][0]            \n",
      "__________________________________________________________________________________________________\n",
      "conv2d_5 (Conv2D)               (None, 56, 56, 64)   18496       dropout_2[0][0]                  \n",
      "__________________________________________________________________________________________________\n",
      "batch_normalization_5 (BatchNor (None, 56, 56, 64)   256         conv2d_5[0][0]                   \n",
      "__________________________________________________________________________________________________\n",
      "activation_5 (Activation)       (None, 56, 56, 64)   0           batch_normalization_5[0][0]      \n",
      "__________________________________________________________________________________________________\n",
      "conv2d_6 (Conv2D)               (None, 56, 56, 64)   36928       activation_5[0][0]               \n",
      "__________________________________________________________________________________________________\n",
      "batch_normalization_6 (BatchNor (None, 56, 56, 64)   256         conv2d_6[0][0]                   \n",
      "__________________________________________________________________________________________________\n",
      "activation_6 (Activation)       (None, 56, 56, 64)   0           batch_normalization_6[0][0]      \n",
      "__________________________________________________________________________________________________\n",
      "max_pooling2d_3 (MaxPooling2D)  (None, 28, 28, 64)   0           activation_6[0][0]               \n",
      "__________________________________________________________________________________________________\n",
      "dropout_3 (Dropout)             (None, 28, 28, 64)   0           max_pooling2d_3[0][0]            \n",
      "__________________________________________________________________________________________________\n",
      "conv2d_7 (Conv2D)               (None, 28, 28, 128)  73856       dropout_3[0][0]                  \n",
      "__________________________________________________________________________________________________\n",
      "batch_normalization_7 (BatchNor (None, 28, 28, 128)  512         conv2d_7[0][0]                   \n",
      "__________________________________________________________________________________________________\n",
      "activation_7 (Activation)       (None, 28, 28, 128)  0           batch_normalization_7[0][0]      \n",
      "__________________________________________________________________________________________________\n",
      "conv2d_8 (Conv2D)               (None, 28, 28, 128)  147584      activation_7[0][0]               \n",
      "__________________________________________________________________________________________________\n",
      "batch_normalization_8 (BatchNor (None, 28, 28, 128)  512         conv2d_8[0][0]                   \n",
      "__________________________________________________________________________________________________\n",
      "activation_8 (Activation)       (None, 28, 28, 128)  0           batch_normalization_8[0][0]      \n",
      "__________________________________________________________________________________________________\n",
      "max_pooling2d_4 (MaxPooling2D)  (None, 14, 14, 128)  0           activation_8[0][0]               \n",
      "__________________________________________________________________________________________________\n",
      "dropout_4 (Dropout)             (None, 14, 14, 128)  0           max_pooling2d_4[0][0]            \n",
      "__________________________________________________________________________________________________\n",
      "conv2d_9 (Conv2D)               (None, 14, 14, 256)  295168      dropout_4[0][0]                  \n",
      "__________________________________________________________________________________________________\n",
      "batch_normalization_9 (BatchNor (None, 14, 14, 256)  1024        conv2d_9[0][0]                   \n",
      "__________________________________________________________________________________________________\n",
      "activation_9 (Activation)       (None, 14, 14, 256)  0           batch_normalization_9[0][0]      \n",
      "__________________________________________________________________________________________________\n",
      "conv2d_10 (Conv2D)              (None, 14, 14, 256)  590080      activation_9[0][0]               \n",
      "__________________________________________________________________________________________________\n",
      "batch_normalization_10 (BatchNo (None, 14, 14, 256)  1024        conv2d_10[0][0]                  \n",
      "__________________________________________________________________________________________________\n",
      "activation_10 (Activation)      (None, 14, 14, 256)  0           batch_normalization_10[0][0]     \n",
      "__________________________________________________________________________________________________\n",
      "conv2d_transpose_1 (Conv2DTrans (None, 28, 28, 128)  295040      activation_10[0][0]              \n",
      "__________________________________________________________________________________________________\n",
      "concatenate_1 (Concatenate)     (None, 28, 28, 256)  0           conv2d_transpose_1[0][0]         \n",
      "                                                                 activation_8[0][0]               \n",
      "__________________________________________________________________________________________________\n",
      "dropout_5 (Dropout)             (None, 28, 28, 256)  0           concatenate_1[0][0]              \n",
      "__________________________________________________________________________________________________\n",
      "conv2d_11 (Conv2D)              (None, 28, 28, 128)  295040      dropout_5[0][0]                  \n",
      "__________________________________________________________________________________________________\n",
      "batch_normalization_11 (BatchNo (None, 28, 28, 128)  512         conv2d_11[0][0]                  \n",
      "__________________________________________________________________________________________________\n",
      "activation_11 (Activation)      (None, 28, 28, 128)  0           batch_normalization_11[0][0]     \n",
      "__________________________________________________________________________________________________\n",
      "conv2d_12 (Conv2D)              (None, 28, 28, 128)  147584      activation_11[0][0]              \n",
      "__________________________________________________________________________________________________\n",
      "batch_normalization_12 (BatchNo (None, 28, 28, 128)  512         conv2d_12[0][0]                  \n",
      "__________________________________________________________________________________________________\n",
      "activation_12 (Activation)      (None, 28, 28, 128)  0           batch_normalization_12[0][0]     \n",
      "__________________________________________________________________________________________________\n",
      "conv2d_transpose_2 (Conv2DTrans (None, 56, 56, 64)   73792       activation_12[0][0]              \n",
      "__________________________________________________________________________________________________\n",
      "concatenate_2 (Concatenate)     (None, 56, 56, 128)  0           conv2d_transpose_2[0][0]         \n",
      "                                                                 activation_6[0][0]               \n",
      "__________________________________________________________________________________________________\n",
      "dropout_6 (Dropout)             (None, 56, 56, 128)  0           concatenate_2[0][0]              \n",
      "__________________________________________________________________________________________________\n",
      "conv2d_13 (Conv2D)              (None, 56, 56, 64)   73792       dropout_6[0][0]                  \n",
      "__________________________________________________________________________________________________\n",
      "batch_normalization_13 (BatchNo (None, 56, 56, 64)   256         conv2d_13[0][0]                  \n",
      "__________________________________________________________________________________________________\n",
      "activation_13 (Activation)      (None, 56, 56, 64)   0           batch_normalization_13[0][0]     \n",
      "__________________________________________________________________________________________________\n",
      "conv2d_14 (Conv2D)              (None, 56, 56, 64)   36928       activation_13[0][0]              \n",
      "__________________________________________________________________________________________________\n",
      "batch_normalization_14 (BatchNo (None, 56, 56, 64)   256         conv2d_14[0][0]                  \n",
      "__________________________________________________________________________________________________\n",
      "activation_14 (Activation)      (None, 56, 56, 64)   0           batch_normalization_14[0][0]     \n",
      "__________________________________________________________________________________________________\n",
      "conv2d_transpose_3 (Conv2DTrans (None, 112, 112, 32) 18464       activation_14[0][0]              \n",
      "__________________________________________________________________________________________________\n",
      "concatenate_3 (Concatenate)     (None, 112, 112, 64) 0           conv2d_transpose_3[0][0]         \n",
      "                                                                 activation_4[0][0]               \n",
      "__________________________________________________________________________________________________\n",
      "dropout_7 (Dropout)             (None, 112, 112, 64) 0           concatenate_3[0][0]              \n",
      "__________________________________________________________________________________________________\n",
      "conv2d_15 (Conv2D)              (None, 112, 112, 32) 18464       dropout_7[0][0]                  \n",
      "__________________________________________________________________________________________________\n",
      "batch_normalization_15 (BatchNo (None, 112, 112, 32) 128         conv2d_15[0][0]                  \n",
      "__________________________________________________________________________________________________\n",
      "activation_15 (Activation)      (None, 112, 112, 32) 0           batch_normalization_15[0][0]     \n",
      "__________________________________________________________________________________________________\n",
      "conv2d_16 (Conv2D)              (None, 112, 112, 32) 9248        activation_15[0][0]              \n",
      "__________________________________________________________________________________________________\n",
      "batch_normalization_16 (BatchNo (None, 112, 112, 32) 128         conv2d_16[0][0]                  \n",
      "__________________________________________________________________________________________________\n",
      "activation_16 (Activation)      (None, 112, 112, 32) 0           batch_normalization_16[0][0]     \n",
      "__________________________________________________________________________________________________\n",
      "conv2d_transpose_4 (Conv2DTrans (None, 224, 224, 16) 4624        activation_16[0][0]              \n",
      "__________________________________________________________________________________________________\n",
      "concatenate_4 (Concatenate)     (None, 224, 224, 32) 0           conv2d_transpose_4[0][0]         \n",
      "                                                                 activation_2[0][0]               \n",
      "__________________________________________________________________________________________________\n",
      "dropout_8 (Dropout)             (None, 224, 224, 32) 0           concatenate_4[0][0]              \n",
      "__________________________________________________________________________________________________\n",
      "conv2d_17 (Conv2D)              (None, 224, 224, 16) 4624        dropout_8[0][0]                  \n",
      "__________________________________________________________________________________________________\n",
      "batch_normalization_17 (BatchNo (None, 224, 224, 16) 64          conv2d_17[0][0]                  \n",
      "__________________________________________________________________________________________________\n",
      "activation_17 (Activation)      (None, 224, 224, 16) 0           batch_normalization_17[0][0]     \n",
      "__________________________________________________________________________________________________\n",
      "conv2d_18 (Conv2D)              (None, 224, 224, 16) 2320        activation_17[0][0]              \n",
      "__________________________________________________________________________________________________\n",
      "batch_normalization_18 (BatchNo (None, 224, 224, 16) 64          conv2d_18[0][0]                  \n",
      "__________________________________________________________________________________________________\n",
      "activation_18 (Activation)      (None, 224, 224, 16) 0           batch_normalization_18[0][0]     \n",
      "__________________________________________________________________________________________________\n",
      "conv2d_19 (Conv2D)              (None, 224, 224, 3)  51          activation_18[0][0]              \n",
      "==================================================================================================\n",
      "Total params: 2,164,627\n",
      "Trainable params: 2,161,683\n",
      "Non-trainable params: 2,944\n",
      "__________________________________________________________________________________________________\n"
     ]
    }
   ],
   "source": [
    "# Give trainable=False as argument, if you want to freeze lower layers for fast training (but low accuracy)\n",
    "model = create_model()\n",
    "\n",
    "# Print summary\n",
    "model.summary()"
   ]
  },
  {
   "cell_type": "markdown",
   "metadata": {
    "colab_type": "text",
    "id": "2spcE4TvfEZw"
   },
   "source": [
    "### Define dice coefficient function (5 marks)\n",
    "- Create a function to calculate dice coefficient\n"
   ]
  },
  {
   "cell_type": "code",
   "execution_count": 0,
   "metadata": {
    "colab": {},
    "colab_type": "code",
    "id": "8H8aViXZuWz1"
   },
   "outputs": [],
   "source": [
    "from keras import backend as K\n",
    "def dice_coefficient(y_true, y_pred):\n",
    "  smooth=1\n",
    "  #dice=1\n",
    "  intersection = K.sum(y_true * y_pred, axis=[1,2,3])\n",
    "  union = K.sum(y_true, axis=[1,2,3]) + K.sum(y_pred, axis=[1,2,3])\n",
    "  dice = K.mean((2. * intersection + smooth)/(union + smooth), axis=0)\n",
    "  #print(dice1)\n",
    "  return dice\n",
    "  #a_bigrams = y_true\n",
    "  #b_bigrams = y_pred\n",
    "  #overlap = len(a_bigrams & b_bigrams)\n",
    "  #return overlap * 2.0/(len(a_bigrams) + len(b_bigrams))\n",
    "\n",
    "def dice_coeff(y_true, y_pred):\n",
    "  coeff = tf.py_func(dice_coefficient, [y_true, y_pred], tf.int64)\n",
    "  return coeff"
   ]
  },
  {
   "cell_type": "markdown",
   "metadata": {
    "colab_type": "text",
    "id": "Nkp5SDM1fIu2"
   },
   "source": [
    "### Define loss"
   ]
  },
  {
   "cell_type": "code",
   "execution_count": 0,
   "metadata": {
    "colab": {},
    "colab_type": "code",
    "id": "FEOVfs19KVLv"
   },
   "outputs": [],
   "source": [
    "from tensorflow.keras.losses import binary_crossentropy\n",
    "from tensorflow.keras.backend import log, epsilon\n",
    "def loss_func(y_true, y_pred):\n",
    "  res = binary_crossentropy(y_true, y_pred) - log(dice_coefficient(y_true, y_pred) + epsilon())\n",
    "  #res = res.astype(np.float32)\n",
    "  return res\n",
    "\n",
    "#def loss_func(y_true, y_pred):\n",
    "  #loss_ret = tf.py_func(loss, [y_true, y_pred], tf.float32)\n",
    "  #return loss_ret"
   ]
  },
  {
   "cell_type": "markdown",
   "metadata": {
    "colab_type": "text",
    "id": "Thltv_akfOMS"
   },
   "source": [
    "### Compile the model (2 marks)\n",
    "- Complie the model using below parameters\n",
    "  - loss: use the loss function defined above\n",
    "  - optimizers: use Adam optimizer\n",
    "  - metrics: use dice_coefficient function defined above"
   ]
  },
  {
   "cell_type": "code",
   "execution_count": 0,
   "metadata": {
    "colab": {},
    "colab_type": "code",
    "id": "atPb8xm2qkK5"
   },
   "outputs": [],
   "source": [
    "model.compile(optimizer='Adam', loss=[loss_func], metrics=[dice_coefficient])"
   ]
  },
  {
   "cell_type": "code",
   "execution_count": 23,
   "metadata": {
    "colab": {
     "base_uri": "https://localhost:8080/",
     "height": 33
    },
    "colab_type": "code",
    "executionInfo": {
     "elapsed": 6761,
     "status": "ok",
     "timestamp": 1576405205937,
     "user": {
      "displayName": "Najmus Educare",
      "photoUrl": "",
      "userId": "10622802872372911709"
     },
     "user_tz": -330
    },
    "id": "VLHTjFqXEl7_",
    "outputId": "3cef1771-fb6f-4f55-e67c-5b46093af330"
   },
   "outputs": [
    {
     "data": {
      "text/plain": [
       "<keras.engine.training.Model at 0x7f332a5fa358>"
      ]
     },
     "execution_count": 23,
     "metadata": {
      "tags": []
     },
     "output_type": "execute_result"
    }
   ],
   "source": [
    "model"
   ]
  },
  {
   "cell_type": "markdown",
   "metadata": {
    "colab_type": "text",
    "id": "VTumZyg0fuVy"
   },
   "source": [
    "### Define checkpoint and earlystopping"
   ]
  },
  {
   "cell_type": "code",
   "execution_count": 28,
   "metadata": {
    "colab": {
     "base_uri": "https://localhost:8080/",
     "height": 33
    },
    "colab_type": "code",
    "executionInfo": {
     "elapsed": 1822,
     "status": "ok",
     "timestamp": 1576405409490,
     "user": {
      "displayName": "Najmus Educare",
      "photoUrl": "",
      "userId": "10622802872372911709"
     },
     "user_tz": -330
    },
    "id": "QNlQHt8DMy7h",
    "outputId": "5a4b1291-b4f5-4422-fde9-2ad3bfca62ff"
   },
   "outputs": [
    {
     "name": "stdout",
     "output_type": "stream",
     "text": [
      "WARNING:tensorflow:`period` argument is deprecated. Please use `save_freq` to specify the frequency in number of samples seen.\n"
     ]
    }
   ],
   "source": [
    "from tensorflow.keras.callbacks import ModelCheckpoint, EarlyStopping, ReduceLROnPlateau\n",
    "checkpoint = ModelCheckpoint(\"model-{loss:.2f}.h5\", monitor=\"loss\", verbose=1, save_best_only=True,\n",
    "                             save_weights_only=True, mode=\"min\", period=1)\n",
    "stop = EarlyStopping(monitor=\"loss\", patience=5, mode=\"min\")\n",
    "reduce_lr = ReduceLROnPlateau(monitor=\"loss\", factor=0.2, patience=5, min_lr=1e-6, verbose=1, mode=\"min\")"
   ]
  },
  {
   "cell_type": "markdown",
   "metadata": {
    "colab_type": "text",
    "id": "LxxbwvXEf07e"
   },
   "source": [
    "### Fit the model (2 marks)\n",
    "- Fit the model using below parameters\n",
    "  - epochs: you can decide\n",
    "  - batch_size: 1\n",
    "  - callbacks: checkpoint, reduce_lr, stop"
   ]
  },
  {
   "cell_type": "code",
   "execution_count": 31,
   "metadata": {
    "colab": {
     "base_uri": "https://localhost:8080/",
     "height": 33
    },
    "colab_type": "code",
    "executionInfo": {
     "elapsed": 1659,
     "status": "ok",
     "timestamp": 1576406118393,
     "user": {
      "displayName": "Najmus Educare",
      "photoUrl": "",
      "userId": "10622802872372911709"
     },
     "user_tz": -330
    },
    "id": "jm8TOPBFIERU",
    "outputId": "cf77a088-3689-4086-939c-2d9c8edc1c23"
   },
   "outputs": [
    {
     "data": {
      "text/plain": [
       "(409, 224, 224, 3)"
      ]
     },
     "execution_count": 31,
     "metadata": {
      "tags": []
     },
     "output_type": "execute_result"
    }
   ],
   "source": [
    "X_train.shape"
   ]
  },
  {
   "cell_type": "code",
   "execution_count": 32,
   "metadata": {
    "colab": {
     "base_uri": "https://localhost:8080/",
     "height": 33
    },
    "colab_type": "code",
    "executionInfo": {
     "elapsed": 1010,
     "status": "ok",
     "timestamp": 1576406128309,
     "user": {
      "displayName": "Najmus Educare",
      "photoUrl": "",
      "userId": "10622802872372911709"
     },
     "user_tz": -330
    },
    "id": "E--s3uYpIHoc",
    "outputId": "4facd823-fa3b-440b-cfc1-ea42ea0473e9"
   },
   "outputs": [
    {
     "data": {
      "text/plain": [
       "(409, 224, 224, 3)"
      ]
     },
     "execution_count": 32,
     "metadata": {
      "tags": []
     },
     "output_type": "execute_result"
    }
   ],
   "source": [
    "masks.shape"
   ]
  },
  {
   "cell_type": "code",
   "execution_count": 29,
   "metadata": {
    "colab": {
     "base_uri": "https://localhost:8080/",
     "height": 1000
    },
    "colab_type": "code",
    "executionInfo": {
     "elapsed": 478412,
     "status": "ok",
     "timestamp": 1576405891788,
     "user": {
      "displayName": "Najmus Educare",
      "photoUrl": "",
      "userId": "10622802872372911709"
     },
     "user_tz": -330
    },
    "id": "guFfKsEmq58j",
    "outputId": "7fb7d345-a9e8-4ed0-8833-833b8d3bf36b"
   },
   "outputs": [
    {
     "name": "stdout",
     "output_type": "stream",
     "text": [
      "WARNING:tensorflow:From /usr/local/lib/python3.6/dist-packages/keras/backend/tensorflow_backend.py:1033: The name tf.assign_add is deprecated. Please use tf.compat.v1.assign_add instead.\n",
      "\n",
      "WARNING:tensorflow:From /usr/local/lib/python3.6/dist-packages/keras/backend/tensorflow_backend.py:1020: The name tf.assign is deprecated. Please use tf.compat.v1.assign instead.\n",
      "\n",
      "Epoch 1/30\n",
      "409/409 [==============================] - 24s 58ms/step - loss: 1.6925 - dice_coefficient: 0.3374\n",
      "Epoch 2/30\n",
      "409/409 [==============================] - 15s 37ms/step - loss: 1.2794 - dice_coefficient: 0.4325\n",
      "Epoch 3/30\n",
      "409/409 [==============================] - 15s 37ms/step - loss: 1.1995 - dice_coefficient: 0.4620\n",
      "Epoch 4/30\n",
      "409/409 [==============================] - 15s 37ms/step - loss: 1.1680 - dice_coefficient: 0.4732\n",
      "Epoch 5/30\n",
      "409/409 [==============================] - 15s 38ms/step - loss: 1.1021 - dice_coefficient: 0.4947\n",
      "Epoch 6/30\n",
      "409/409 [==============================] - 15s 38ms/step - loss: 1.0766 - dice_coefficient: 0.5018\n",
      "Epoch 7/30\n",
      "409/409 [==============================] - 15s 37ms/step - loss: 1.0629 - dice_coefficient: 0.5075\n",
      "Epoch 8/30\n",
      "409/409 [==============================] - 15s 38ms/step - loss: 1.0279 - dice_coefficient: 0.5192\n",
      "Epoch 9/30\n",
      "409/409 [==============================] - 15s 37ms/step - loss: 1.0082 - dice_coefficient: 0.5261\n",
      "Epoch 10/30\n",
      "409/409 [==============================] - 15s 37ms/step - loss: 0.9892 - dice_coefficient: 0.5323\n",
      "Epoch 11/30\n",
      "409/409 [==============================] - 15s 38ms/step - loss: 0.9820 - dice_coefficient: 0.5373\n",
      "Epoch 12/30\n",
      "409/409 [==============================] - 15s 37ms/step - loss: 0.9514 - dice_coefficient: 0.5462\n",
      "Epoch 13/30\n",
      "409/409 [==============================] - 15s 38ms/step - loss: 0.9396 - dice_coefficient: 0.5526\n",
      "Epoch 14/30\n",
      "409/409 [==============================] - 16s 38ms/step - loss: 0.9380 - dice_coefficient: 0.5521\n",
      "Epoch 15/30\n",
      "409/409 [==============================] - 15s 38ms/step - loss: 0.9246 - dice_coefficient: 0.5566\n",
      "Epoch 16/30\n",
      "409/409 [==============================] - 16s 38ms/step - loss: 0.9277 - dice_coefficient: 0.5576\n",
      "Epoch 17/30\n",
      "409/409 [==============================] - 16s 38ms/step - loss: 0.8897 - dice_coefficient: 0.5668\n",
      "Epoch 18/30\n",
      "409/409 [==============================] - 15s 38ms/step - loss: 0.8599 - dice_coefficient: 0.5782\n",
      "Epoch 19/30\n",
      "409/409 [==============================] - 16s 39ms/step - loss: 0.8496 - dice_coefficient: 0.5833\n",
      "Epoch 20/30\n",
      "409/409 [==============================] - 16s 38ms/step - loss: 0.8352 - dice_coefficient: 0.5887\n",
      "Epoch 21/30\n",
      "409/409 [==============================] - 15s 38ms/step - loss: 0.8429 - dice_coefficient: 0.5856\n",
      "Epoch 22/30\n",
      "409/409 [==============================] - 16s 38ms/step - loss: 0.8305 - dice_coefficient: 0.5915\n",
      "Epoch 23/30\n",
      "409/409 [==============================] - 15s 38ms/step - loss: 0.8007 - dice_coefficient: 0.5981\n",
      "Epoch 24/30\n",
      "409/409 [==============================] - 16s 38ms/step - loss: 0.7741 - dice_coefficient: 0.6090\n",
      "Epoch 25/30\n",
      "409/409 [==============================] - 16s 39ms/step - loss: 0.7908 - dice_coefficient: 0.6046\n",
      "Epoch 26/30\n",
      "409/409 [==============================] - 15s 38ms/step - loss: 0.7856 - dice_coefficient: 0.6070\n",
      "Epoch 27/30\n",
      "409/409 [==============================] - 16s 38ms/step - loss: 0.7626 - dice_coefficient: 0.6122\n",
      "Epoch 28/30\n",
      "409/409 [==============================] - 15s 38ms/step - loss: 0.7510 - dice_coefficient: 0.6197\n",
      "Epoch 29/30\n",
      "409/409 [==============================] - 16s 38ms/step - loss: 0.7411 - dice_coefficient: 0.6217\n",
      "Epoch 30/30\n",
      "409/409 [==============================] - 16s 38ms/step - loss: 0.7188 - dice_coefficient: 0.6334\n"
     ]
    },
    {
     "data": {
      "text/plain": [
       "<keras.callbacks.History at 0x7f332a5c47f0>"
      ]
     },
     "execution_count": 29,
     "metadata": {
      "tags": []
     },
     "output_type": "execute_result"
    }
   ],
   "source": [
    "model.fit(X_train,masks,epochs=30,batch_size = 1,verbose=1)"
   ]
  },
  {
   "cell_type": "markdown",
   "metadata": {
    "colab_type": "text",
    "id": "5VtnuzlOf4uL"
   },
   "source": [
    "### Get the predicted mask for a sample image   (3 marks)"
   ]
  },
  {
   "cell_type": "code",
   "execution_count": 30,
   "metadata": {
    "colab": {
     "base_uri": "https://localhost:8080/",
     "height": 207
    },
    "colab_type": "code",
    "executionInfo": {
     "elapsed": 2255,
     "status": "error",
     "timestamp": 1576405897826,
     "user": {
      "displayName": "Najmus Educare",
      "photoUrl": "",
      "userId": "10622802872372911709"
     },
     "user_tz": -330
    },
    "id": "o-CBCMysrchu",
    "outputId": "aebf2a16-48cb-494f-8fbf-71a633808d8e"
   },
   "outputs": [
    {
     "ename": "NameError",
     "evalue": "ignored",
     "output_type": "error",
     "traceback": [
      "\u001b[0;31m---------------------------------------------------------------------------\u001b[0m",
      "\u001b[0;31mNameError\u001b[0m                                 Traceback (most recent call last)",
      "\u001b[0;32m<ipython-input-30-32e7e8a152e3>\u001b[0m in \u001b[0;36m<module>\u001b[0;34m()\u001b[0m\n\u001b[1;32m      4\u001b[0m \u001b[0;31m#img = cv2.resize(sample_image, dsize=(IMAGE_HEIGHT, IMAGE_WIDTH), interpolation=cv2.INTER_CUBIC)\u001b[0m\u001b[0;34m\u001b[0m\u001b[0;34m\u001b[0m\u001b[0;34m\u001b[0m\u001b[0m\n\u001b[1;32m      5\u001b[0m \u001b[0;31m#X_test[0] = preprocess_input(np.array(img, dtype=np.float32))\u001b[0m\u001b[0;34m\u001b[0m\u001b[0;34m\u001b[0m\u001b[0;34m\u001b[0m\u001b[0m\n\u001b[0;32m----> 6\u001b[0;31m \u001b[0mX_test\u001b[0m\u001b[0;34m[\u001b[0m\u001b[0;36m0\u001b[0m\u001b[0;34m]\u001b[0m\u001b[0;34m=\u001b[0m\u001b[0mX_train\u001b[0m\u001b[0;34m[\u001b[0m\u001b[0mn\u001b[0m\u001b[0;34m]\u001b[0m\u001b[0;34m\u001b[0m\u001b[0;34m\u001b[0m\u001b[0m\n\u001b[0m\u001b[1;32m      7\u001b[0m \u001b[0mX_test\u001b[0m\u001b[0;34m.\u001b[0m\u001b[0mshape\u001b[0m\u001b[0;34m\u001b[0m\u001b[0;34m\u001b[0m\u001b[0m\n",
      "\u001b[0;31mNameError\u001b[0m: name 'X_test' is not defined"
     ]
    }
   ],
   "source": [
    "n = 150\n",
    "sample_image = X_train[n]\n",
    "#X_test = np.zeros((int(data.shape[0]), IMAGE_HEIGHT, IMAGE_WIDTH, 3))\n",
    "#img = cv2.resize(sample_image, dsize=(IMAGE_HEIGHT, IMAGE_WIDTH), interpolation=cv2.INTER_CUBIC)\n",
    "#X_test[0] = preprocess_input(np.array(img, dtype=np.float32))\n",
    "X_test[0]=X_train[n]\n",
    "X_test.shape"
   ]
  },
  {
   "cell_type": "code",
   "execution_count": 0,
   "metadata": {
    "colab": {
     "base_uri": "https://localhost:8080/",
     "height": 303
    },
    "colab_type": "code",
    "executionInfo": {
     "elapsed": 2067,
     "status": "ok",
     "timestamp": 1576048294703,
     "user": {
      "displayName": "Sureshkumar Ramasamy",
      "photoUrl": "",
      "userId": "10803009491132879770"
     },
     "user_tz": -330
    },
    "id": "5KNCVWvwyb3J",
    "outputId": "d18df2d2-f99a-4d89-86d0-b5113c233e98"
   },
   "outputs": [
    {
     "name": "stderr",
     "output_type": "stream",
     "text": [
      "Clipping input data to the valid range for imshow with RGB data ([0..1] for floats or [0..255] for integers).\n"
     ]
    },
    {
     "data": {
      "text/plain": [
       "<matplotlib.image.AxesImage at 0x7f8d4688a978>"
      ]
     },
     "execution_count": 125,
     "metadata": {
      "tags": []
     },
     "output_type": "execute_result"
    },
    {
     "data": {
      "image/png": "[encoded data removed]",
      "text/plain": [
       "<Figure size 432x288 with 1 Axes>"
      ]
     },
     "metadata": {
      "tags": []
     },
     "output_type": "display_data"
    }
   ],
   "source": [
    "pyplot.imshow(X_test[0])"
   ]
  },
  {
   "cell_type": "code",
   "execution_count": 0,
   "metadata": {
    "colab": {},
    "colab_type": "code",
    "id": "36HPyw51w-U-"
   },
   "outputs": [],
   "source": []
  },
  {
   "cell_type": "markdown",
   "metadata": {
    "colab_type": "text",
    "id": "fDIetz0HgA4R"
   },
   "source": [
    "### Impose the mask on the image (3 marks)"
   ]
  },
  {
   "cell_type": "code",
   "execution_count": 0,
   "metadata": {
    "colab": {},
    "colab_type": "code",
    "id": "MTAHGkb5xdzu"
   },
   "outputs": [],
   "source": [
    "mask_test=model.predict(X_test)"
   ]
  },
  {
   "cell_type": "code",
   "execution_count": 0,
   "metadata": {
    "colab": {
     "base_uri": "https://localhost:8080/",
     "height": 286
    },
    "colab_type": "code",
    "executionInfo": {
     "elapsed": 1490,
     "status": "ok",
     "timestamp": 1576048306822,
     "user": {
      "displayName": "Sureshkumar Ramasamy",
      "photoUrl": "",
      "userId": "10803009491132879770"
     },
     "user_tz": -330
    },
    "id": "coQW88Vvyr-v",
    "outputId": "db68b489-7388-4c62-e05c-16025814abcc"
   },
   "outputs": [
    {
     "data": {
      "text/plain": [
       "<matplotlib.image.AxesImage at 0x7f8d46875eb8>"
      ]
     },
     "execution_count": 127,
     "metadata": {
      "tags": []
     },
     "output_type": "execute_result"
    },
    {
     "data": {
      "image/png": "[encoded data removed]",
      "text/plain": [
       "<Figure size 432x288 with 1 Axes>"
      ]
     },
     "metadata": {
      "tags": []
     },
     "output_type": "display_data"
    }
   ],
   "source": [
    "pyplot.imshow(mask_test[0])"
   ]
  }
 ],
 "metadata": {
  "accelerator": "GPU",
  "colab": {
   "collapsed_sections": [],
   "name": "Face_detection_Questions_Project_CV_AIML_Online.ipynb",
   "provenance": []
  },
  "kernelspec": {
   "display_name": "Python 3",
   "language": "python",
   "name": "python3"
  },
  "language_info": {
   "codemirror_mode": {
    "name": "ipython",
    "version": 3
   },
   "file_extension": ".py",
   "mimetype": "text/x-python",
   "name": "python",
   "nbconvert_exporter": "python",
   "pygments_lexer": "ipython3",
   "version": "3.7.3"
  }
 },
 "nbformat": 4,
 "nbformat_minor": 1
}
