{
 "cells": [
  {
   "cell_type": "markdown",
   "metadata": {},
   "source": [
    "\n",
    "\n",
    "## Lab 2"
   ]
  },
  {
   "cell_type": "markdown",
   "metadata": {},
   "source": [
    "Welcome to the second lab of the AIML!\n",
    "In addition to implementing code, there will be questions that you must answer which relate to the lab and your implementation. Each question you will answer is preceded by a **'Question X'** header. Carefully read each question and provide you answer or code in the following textboxes with **'Answer:'** header. Your lab submission will be evaluated based on your answers to each of the questions and the implementation you provide."
   ]
  },
  {
   "cell_type": "markdown",
   "metadata": {},
   "source": [
    "# Every question is of 1 mark."
   ]
  },
  {
   "cell_type": "markdown",
   "metadata": {},
   "source": [
    "## Hypothesis Testing"
   ]
  },
  {
   "cell_type": "markdown",
   "metadata": {},
   "source": [
    "The purpose of the test is to tell if there is any significant difference between two data sets.\n",
    "\n"
   ]
  },
  {
   "cell_type": "markdown",
   "metadata": {},
   "source": [
    "## Overview"
   ]
  },
  {
   "cell_type": "markdown",
   "metadata": {},
   "source": [
    "This module covers,\n",
    "\n",
    "1) One sample and Two sample t-tests\n",
    "\n",
    "2) ANOVA\n",
    "\n",
    "3) Type I and Type II errors\n",
    "\n",
    "4) Chi-Squared Tests\n",
    "\n",
    "5) Linear Regression"
   ]
  },
  {
   "cell_type": "markdown",
   "metadata": {},
   "source": [
    "## Question 1 \n",
    "\n",
    "*A student is trying to decide between two GPUs. He want to use the GPU for his research to run Deep learning algorithms, so the only thing he is concerned with is speed.*\n",
    "\n",
    "*He picks a Deep Learning algorithm and a large data set and runs it on both GPUs 15 times, timing each run in hours. Results are given in the below lists GPU1 and GPU2.*"
   ]
  },
  {
   "cell_type": "code",
   "execution_count": 5,
   "metadata": {},
   "outputs": [],
   "source": [
    "import pandas as pd\n",
    "GPU1 = pd.DataFrame([11,9,10,11,10,12,9,11,12,9,11,12,9,10,9])\n",
    "GPU2 = pd.DataFrame([11,13,10,13,12,9,11,12,12,11,12,12,10,11,13])\n",
    "\n",
    "#Assumption: Both the datasets (GPU1 & GPU 2) are random, independent, parametric & normally distributed"
   ]
  },
  {
   "cell_type": "markdown",
   "metadata": {},
   "source": [
    "Hint: You can import ttest function from scipy to perform t tests "
   ]
  },
  {
   "cell_type": "markdown",
   "metadata": {},
   "source": [
    "Given,\n",
    "\n",
    "Null Hypothesis : There is no significant difference between data sets\n",
    "\n",
    "Alternate Hypothesis : There is a significant difference\n",
    "\n",
    "*Do two-sample testing and check whether to reject Null Hypothesis or not.*\n",
    "\n",
    "#### Answer:"
   ]
  },
  {
   "cell_type": "code",
   "execution_count": 25,
   "metadata": {},
   "outputs": [
    {
     "name": "stdout",
     "output_type": "stream",
     "text": [
      "There is significant difference between GPU1 & GPU2  with p value 1.38 %\n"
     ]
    }
   ],
   "source": [
    "#from scipy.stats import ttest_1samp\n",
    "import numpy as np\n",
    "from scipy.stats import ttest_ind\n",
    "import scipy.stats as stats\n",
    "#print('Mean is %2.1f Sd is %2.1f' % (GPU1.mean(),np.std(GPU1,ddof = 1)))\n",
    "\n",
    "#t_statistics, p_value = ttest_1samp(GPU1 , GPU1.mean())\n",
    "#print(t_statistics, p_value)\n",
    "\n",
    "t_statistics, p_value = stats.ttest_ind(GPU1, GPU2)\n",
    "#print('statistics value %1.3f p value %1.3f' % ( t_statistics   ,p_value))\n",
    "\n",
    "#print('p value %1.3f'% p_value)\n",
    "\n",
    "if(p_value * 100 < 5):\n",
    "    print('There is significant difference between GPU1 & GPU2  with p value %1.2f %%'% (p_value*100) )\n",
    "else:\n",
    "    print('there is no significance')"
   ]
  },
  {
   "cell_type": "code",
   "execution_count": null,
   "metadata": {},
   "outputs": [],
   "source": []
  },
  {
   "cell_type": "markdown",
   "metadata": {},
   "source": [
    "## Question 2 \n",
    "\n",
    "He is trying a third GPU - GPU3."
   ]
  },
  {
   "cell_type": "code",
   "execution_count": 27,
   "metadata": {},
   "outputs": [],
   "source": [
    "GPU3 = pd.DataFrame([9,10,9,11,10,13,12,9,12,12,13,12,13,10,11])\n",
    "\n",
    "#Assumption: Both the datasets (GPU1 & GPU 3) are random, independent, parametric & normally distributed"
   ]
  },
  {
   "cell_type": "markdown",
   "metadata": {},
   "source": [
    "*Do two-sample testing and check whether there is significant differene between speeds of two GPUs GPU1 and GPU3.*\n",
    "\n",
    "#### Answer:"
   ]
  },
  {
   "cell_type": "code",
   "execution_count": 30,
   "metadata": {},
   "outputs": [
    {
     "name": "stdout",
     "output_type": "stream",
     "text": [
      "there is no significance between GPU1 & GPU3 with p value 14.51 %\n"
     ]
    }
   ],
   "source": [
    "t_statistics, p_value = stats.ttest_ind(GPU1, GPU3)\n",
    "#print('statistics value %1.3f p value %1.3f' % ( t_statistics   ,p_value))\n",
    "\n",
    "#print('p value %1.3f'% p_value)\n",
    "\n",
    "if(p_value * 100 < 5):\n",
    "    print('There is significant difference between GPU1 & GPU3 with p value %1.2f %%'% (p_value*100) )\n",
    "else:\n",
    "    print('there is no significance between GPU1 & GPU3 with p value %1.2f %%' % (p_value*100))"
   ]
  },
  {
   "cell_type": "markdown",
   "metadata": {},
   "source": [
    "### ANOVA"
   ]
  },
  {
   "cell_type": "markdown",
   "metadata": {},
   "source": [
    "## Question 3 \n",
    "\n",
    "If you need to compare more than two data sets at a time, an ANOVA is your best bet. \n",
    "\n",
    "*The results from three experiments with overlapping 95% confidence intervals are given below, and we want to confirm that the results for all three experiments are not significantly different.*\n",
    "\n",
    "#Assumption: All the 3 datasets (e1,e2 & e3) are random, independent, parametric & normally distributed\n",
    "But before conducting ANOVA, test equality of variances (using Levene's test) is satisfied or not. If not, then mention that we cannot depend on the result of ANOVA"
   ]
  },
  {
   "cell_type": "code",
   "execution_count": 99,
   "metadata": {},
   "outputs": [],
   "source": [
    "import pandas as pd\n",
    "e1 = pd.DataFrame([1.595440,1.419730,0.000000,0.000000])\n",
    "e2 = pd.DataFrame([1.433800,2.079700,0.892139,2.384740])\n",
    "e3 = pd.DataFrame([0.036930,0.938018,0.995956,1.006970])"
   ]
  },
  {
   "cell_type": "markdown",
   "metadata": {},
   "source": [
    "#### Answer:"
   ]
  },
  {
   "cell_type": "code",
   "execution_count": 118,
   "metadata": {},
   "outputs": [
    {
     "name": "stdout",
     "output_type": "stream",
     "text": [
      "2.6741725711150446 0.12259792666001798\n",
      "Since p value is > 5%, hence homogeneity of variances is met in above sample data, now going for anova\n",
      "           df    sum_sq   mean_sq         F    PR(>F)\n",
      "exptyp    2.0  2.399066  1.199533  2.513576  0.135746\n",
      "Residual  9.0  4.294994  0.477222       NaN       NaN\n",
      "since p value is >5, hence accept accept null hypothesis, ie not much evidence to prove means are different\n"
     ]
    }
   ],
   "source": [
    "import scipy.stats as stats\n",
    "from scipy.stats import levene\n",
    "\n",
    "import numpy as np\n",
    "w, p_value = stats.levene(np.array(e1).reshape(len(e1)),np.array(e2).reshape(len(e2)) , np.array(e3).reshape(len(e3)))\n",
    "#w, p_value = stats.levene(e1.to_numpy(),e2.to_numpy())\n",
    "#e1.index.to_numpy()\n",
    "#e1.to_numpy(copy=True)\n",
    "#np.array(e1.to_records())\n",
    "#w, p_value = stats.levene(np.array(e1.to_records()),np.array(e2.to_records()))\n",
    "#e1.to_array()\n",
    "#ra = e1.to_records(index=False)\n",
    "#np.asarray(ra)\n",
    "#e1.values\n",
    "#np.asarray(e1.values)\n",
    "#np.array(e1).reshape(len(e1))\n",
    "print(w,p_value)\n",
    "#np.array(e2).reshape(len(e2))\n",
    "print('Since p value is > 5%, hence homogeneity of variances is met in above sample data, now going for anova')\n",
    "\n",
    "all_exp = pd.DataFrame()\n",
    "all_exp = pd.concat([e1,e2,e3],axis=1,join_axes=[e1.index])\n",
    "all_exp.columns=['e1','e2','e3']\n",
    "#print(all_exp)\n",
    "#print(all_exp.var(ddof=0))\n",
    "#print(all_exp.var())\n",
    "import seaborn as sns\n",
    "import matplotlib.pyplot as plt\n",
    "#sns.boxplot(data=all_exp)\n",
    "#plt.show()\n",
    "#all_exp_anov = ['exp_type']\n",
    "#e1_type = pd.concat([{'Exp_Type':'e1'},e1])\n",
    "df1            = pd.DataFrame({'Exp_Type': 'e1', 'Values':np.array(e1).reshape(len(e1))})\n",
    "#print(df1)\n",
    "#e1['exp_type'] = 'e1'\n",
    "e1_type=e1.copy()\n",
    "e1_type['exp_type']='e1'\n",
    "\n",
    "e2_type=e2.copy()\n",
    "e2_type['exp_type']='e2'\n",
    "\n",
    "e3_type=e3.copy()\n",
    "e3_type['exp_type']='e3'\n",
    "\n",
    "exp_types = pd.concat([e1_type,e2_type,e3_type], axis=0, )\n",
    "exp_types.columns=['value', 'exptyp']\n",
    "exp_types.reset_index()\n",
    "\n",
    "import statsmodels.api as sm\n",
    "from statsmodels.formula.api import ols\n",
    "mod = ols('value ~ exptyp', data=exp_types).fit()\n",
    "aov_table = sm.stats.anova_lm(mod,type=2)\n",
    "print(aov_table)\n",
    "print('since p value is >5, hence accept accept null hypothesis, ie not much evidence to prove means are different')"
   ]
  },
  {
   "cell_type": "markdown",
   "metadata": {},
   "source": [
    "## Question 4 \n",
    "\n",
    "*In one or two sentences explain about **TypeI** and **TypeII** errors.*\n",
    "\n",
    "#### Answer:"
   ]
  },
  {
   "cell_type": "code",
   "execution_count": 125,
   "metadata": {},
   "outputs": [
    {
     "name": "stdout",
     "output_type": "stream",
     "text": [
      "Type I is the conditional probability of rejecting null hypothesis based on the sample when null hypothesis is true for population studied, leading to false alarm - false positive.\n",
      "p(reject null hypothesis|Ho is true)\n",
      "\n",
      "Type II is the conditional probability of accepting[fail to reject] null hypothesis based on the sample when null hypothesis is false, leading to potential threat or missed opportunity\n",
      "p(retain null hypothesis|Ho is true)\n"
     ]
    }
   ],
   "source": [
    "print('Type I is the conditional probability of rejecting null hypothesis based on the sample when null hypothesis is true for population studied, leading to false alarm - false positive.')\n",
    "print('p(reject null hypothesis|Ho is true)')\n",
    "print('')\n",
    "print('Type II is the conditional probability of accepting[fail to reject] null hypothesis based on the sample when null hypothesis is false, leading to potential threat or missed opportunity')\n",
    "print('p(retain null hypothesis|Ho is true)')"
   ]
  },
  {
   "cell_type": "markdown",
   "metadata": {},
   "source": [
    "## Question 5 \n",
    "\n",
    "Explain how the higher confidence value effects TypeI and TypeII error.\n",
    "\n",
    "#### Answer:\n"
   ]
  },
  {
   "cell_type": "code",
   "execution_count": 127,
   "metadata": {},
   "outputs": [
    {
     "name": "stdout",
     "output_type": "stream",
     "text": [
      "Hihger confidence ie lower significance level will not have much impact on Type I Error\n",
      "Hihger confidence ie lower significance level will have significant statistical impact on Type II Error\n"
     ]
    }
   ],
   "source": [
    "print('Hihger confidence ie lower significance level will not have much impact on Type I Error')\n",
    "\n",
    "print('Hihger confidence ie lower significance level will have significant statistical impact on Type II Error')"
   ]
  },
  {
   "cell_type": "markdown",
   "metadata": {},
   "source": [
    "## Question 6 \n",
    "\n",
    "*A computer expert wants to test the null hypothesis that a new GPU is no more effective than the older model.*\n",
    "\n",
    "Lets consider that he selects the GPU which he think is more effective.\n",
    "\n",
    "Now, find out which GPU he has selected if he made Type I error. And give reasoning about which is more effective.\n",
    "\n",
    "**Answer:**"
   ]
  },
  {
   "cell_type": "code",
   "execution_count": 129,
   "metadata": {},
   "outputs": [
    {
     "name": "stdout",
     "output_type": "stream",
     "text": [
      "null hypothesis is GPU_OLD_Effectiveness = GPU_NEW_Effectiveness\n",
      "Type I error means reject null hypothesis in the sample selected, when actually the null hypothesis is true for population studied\n",
      "Hence the sample GPU he has selected is significantly effective, ie accept alternate hypothesis ie reject null hypothesis\n"
     ]
    }
   ],
   "source": [
    "print('null hypothesis is GPU_OLD_Effectiveness = GPU_NEW_Effectiveness')\n",
    "print('Type I error means reject null hypothesis in the sample selected, when actually the null hypothesis is true for population studied')\n",
    "print('Hence the sample GPU he has selected is significantly effective, ie accept alternate hypothesis ie reject null hypothesis')"
   ]
  },
  {
   "cell_type": "markdown",
   "metadata": {},
   "source": [
    "## Question 7 \n",
    "\n",
    "From question6, if he made Type II error.\n",
    "\n",
    "*Now, find out which GPU he has selected. And give reasoning about which is more effective.*\n",
    "\n",
    "#### Answer:"
   ]
  },
  {
   "cell_type": "code",
   "execution_count": 130,
   "metadata": {},
   "outputs": [
    {
     "name": "stdout",
     "output_type": "stream",
     "text": [
      "null hypothesis is GPU_OLD_Effectiveness = GPU_NEW_Effectiveness\n",
      "Type II error means accept null hypothesis in the sample selected, when actually the null hypothesis is false for population studied\n",
      "Hence the sample GPU he has selected is NOT significantly effective, ie accept null hypothesis ie reject alternate hypothesis\n"
     ]
    }
   ],
   "source": [
    "print('null hypothesis is GPU_OLD_Effectiveness = GPU_NEW_Effectiveness')\n",
    "print('Type II error means accept null hypothesis in the sample selected, when actually the null hypothesis is false for population studied')\n",
    "print('Hence the sample GPU he has selected is NOT significantly effective, ie accept null hypothesis ie reject alternate hypothesis')"
   ]
  },
  {
   "cell_type": "markdown",
   "metadata": {},
   "source": [
    "# Linear Regression\n"
   ]
  },
  {
   "cell_type": "markdown",
   "metadata": {},
   "source": [
    "# Simple Linear Regression"
   ]
  },
  {
   "cell_type": "markdown",
   "metadata": {},
   "source": [
    "## Dataset\n",
    "\n",
    "Population of U.S. Cities\n",
    "\n",
    "### Description\n",
    "The bigcity data frame has 49 rows and 2 columns.\n",
    "\n",
    "The measurements are the population (in 1000's) of 49 U.S. cities in 1920 and 1930. The 49 cities are a random sample taken from the 196 largest cities in 1920.\n",
    "\n",
    "### Format\n",
    "This data frame contains the following columns:\n",
    "\n",
    "`u`\n",
    "The 1920 population.\n",
    "\n",
    "`x`\n",
    "The 1930 population.\n",
    "\n",
    "Source\n",
    "\n",
    "The data were obtained from\n",
    "\n",
    "Cochran, W.G. (1977) Sampling Techniques. Third edition. John Wiley\n",
    "\n",
    "References\n",
    "\n",
    "Davison, A.C. and Hinkley, D.V. (1997) Bootstrap Methods and Their Application. Cambridge University Press."
   ]
  },
  {
   "cell_type": "markdown",
   "metadata": {},
   "source": [
    "# Question 8 \n",
    "Read the dataset given in file named 'bigcity.csv'."
   ]
  },
  {
   "cell_type": "code",
   "execution_count": 150,
   "metadata": {},
   "outputs": [
    {
     "data": {
      "text/html": [
       "<div>\n",
       "<style scoped>\n",
       "    .dataframe tbody tr th:only-of-type {\n",
       "        vertical-align: middle;\n",
       "    }\n",
       "\n",
       "    .dataframe tbody tr th {\n",
       "        vertical-align: top;\n",
       "    }\n",
       "\n",
       "    .dataframe thead th {\n",
       "        text-align: right;\n",
       "    }\n",
       "</style>\n",
       "<table border=\"1\" class=\"dataframe\">\n",
       "  <thead>\n",
       "    <tr style=\"text-align: right;\">\n",
       "      <th></th>\n",
       "      <th>Unnamed: 0</th>\n",
       "      <th>u</th>\n",
       "      <th>x</th>\n",
       "    </tr>\n",
       "  </thead>\n",
       "  <tbody>\n",
       "    <tr>\n",
       "      <th>0</th>\n",
       "      <td>1</td>\n",
       "      <td>138</td>\n",
       "      <td>143</td>\n",
       "    </tr>\n",
       "    <tr>\n",
       "      <th>1</th>\n",
       "      <td>2</td>\n",
       "      <td>93</td>\n",
       "      <td>104</td>\n",
       "    </tr>\n",
       "    <tr>\n",
       "      <th>2</th>\n",
       "      <td>3</td>\n",
       "      <td>61</td>\n",
       "      <td>69</td>\n",
       "    </tr>\n",
       "    <tr>\n",
       "      <th>3</th>\n",
       "      <td>4</td>\n",
       "      <td>179</td>\n",
       "      <td>260</td>\n",
       "    </tr>\n",
       "    <tr>\n",
       "      <th>4</th>\n",
       "      <td>5</td>\n",
       "      <td>48</td>\n",
       "      <td>75</td>\n",
       "    </tr>\n",
       "  </tbody>\n",
       "</table>\n",
       "</div>"
      ],
      "text/plain": [
       "   Unnamed: 0    u    x\n",
       "0           1  138  143\n",
       "1           2   93  104\n",
       "2           3   61   69\n",
       "3           4  179  260\n",
       "4           5   48   75"
      ]
     },
     "execution_count": 150,
     "metadata": {},
     "output_type": "execute_result"
    }
   ],
   "source": [
    "import numpy as np\n",
    "import pandas as pd\n",
    "missing_values = [\"n/a\", \"na\", \"--\"]\n",
    "data = pd.read_csv('bigcity.csv', na_values = missing_values)\n",
    "type(data)\n",
    "data.head()"
   ]
  },
  {
   "cell_type": "markdown",
   "metadata": {},
   "source": [
    "# Question 9 - Transform the dataset \n",
    "Find the number of rows in given dataset and separate the input and target variables into X and Y.\n",
    "Hint: You can shape function to get the size of the dataframe"
   ]
  },
  {
   "cell_type": "code",
   "execution_count": 151,
   "metadata": {},
   "outputs": [
    {
     "name": "stdout",
     "output_type": "stream",
     "text": [
      "---------------------------------------\n",
      "rows and columns total is --->   (49, 3)\n",
      "---------------------------------------\n"
     ]
    },
    {
     "data": {
      "image/png": "[encoded data removed]",
      "text/plain": [
       "<Figure size 540x540 with 12 Axes>"
      ]
     },
     "metadata": {
      "needs_background": "light"
     },
     "output_type": "display_data"
    }
   ],
   "source": [
    "#data.info()\n",
    "print('---------------------------------------')\n",
    "print('rows and columns total is --->  ' ,data.shape)\n",
    "print('---------------------------------------')\n",
    "import matplotlib.pyplot as plt\n",
    "%matplotlib inline\n",
    "import seaborn as sns\n",
    "sns.pairplot( data , diag_kind='kde')\n",
    "\n",
    "X = data[['u']]\n",
    "\n",
    "Y = data[['x']]"
   ]
  },
  {
   "cell_type": "markdown",
   "metadata": {},
   "source": [
    "## Question 10 - Check the dataset for any missing values and also print out the correlation matrix "
   ]
  },
  {
   "cell_type": "markdown",
   "metadata": {},
   "source": [
    "You can use .isna() and .corr() functions to check NA's and correlation in the dataframe respectively"
   ]
  },
  {
   "cell_type": "code",
   "execution_count": 155,
   "metadata": {},
   "outputs": [
    {
     "data": {
      "text/plain": [
       "Unnamed: 0    0\n",
       "u             0\n",
       "x             0\n",
       "dtype: int64"
      ]
     },
     "execution_count": 155,
     "metadata": {},
     "output_type": "execute_result"
    }
   ],
   "source": [
    "data.isna().sum()"
   ]
  },
  {
   "cell_type": "code",
   "execution_count": 158,
   "metadata": {},
   "outputs": [
    {
     "name": "stdout",
     "output_type": "stream",
     "text": [
      "            Unnamed: 0         u         x\n",
      "Unnamed: 0    1.000000 -0.024788 -0.047890\n",
      "u            -0.024788  1.000000  0.981742\n",
      "x            -0.047890  0.981742  1.000000\n"
     ]
    },
    {
     "data": {
      "text/plain": [
       "<matplotlib.axes._subplots.AxesSubplot at 0x2268efd4898>"
      ]
     },
     "execution_count": 158,
     "metadata": {},
     "output_type": "execute_result"
    },
    {
     "data": {
      "image/png": "[encoded data removed]",
      "text/plain": [
       "<Figure size 432x288 with 2 Axes>"
      ]
     },
     "metadata": {
      "needs_background": "light"
     },
     "output_type": "display_data"
    }
   ],
   "source": [
    "print(data.corr())\n",
    "\n",
    "sns.heatmap( data.corr(), annot=True)"
   ]
  },
  {
   "cell_type": "markdown",
   "metadata": {},
   "source": [
    "### The high correlation betwwen u and x indicates that the variable u is a good predictor of variable x"
   ]
  },
  {
   "cell_type": "markdown",
   "metadata": {},
   "source": [
    "# Question 11 - Split data into train, test sets \n",
    "Divide the data into training and test sets with 80-20 split using scikit-learn. Print the shapes of training and test feature sets.*"
   ]
  },
  {
   "cell_type": "markdown",
   "metadata": {},
   "source": [
    "Check: train_test_split function"
   ]
  },
  {
   "cell_type": "code",
   "execution_count": 179,
   "metadata": {},
   "outputs": [
    {
     "name": "stdout",
     "output_type": "stream",
     "text": [
      "(39, 1)\n",
      "(10, 1)\n",
      "(39, 1)\n",
      "(10, 1)\n"
     ]
    }
   ],
   "source": [
    "from sklearn.model_selection import train_test_split\n",
    "x_train, x_test, y_train, y_test = train_test_split(X, Y, test_size=0.2, random_state=1)\n",
    "print(x_train.shape)\n",
    "print(x_test.shape)\n",
    "print(y_train.shape)\n",
    "print(y_test.shape)\n"
   ]
  },
  {
   "cell_type": "markdown",
   "metadata": {},
   "source": [
    "# Question 12 - Find coefficients & intercept\n",
    "Estimate the coefficients b0 and b1 using scikit-learn."
   ]
  },
  {
   "cell_type": "markdown",
   "metadata": {},
   "source": [
    "Check: coef_ and intercept_ functions can help you get coefficients & intercept"
   ]
  },
  {
   "cell_type": "code",
   "execution_count": 193,
   "metadata": {},
   "outputs": [
    {
     "name": "stdout",
     "output_type": "stream",
     "text": [
      "intercept c of train set [9.71845532]\n",
      "coef m slope of train set [[1.15945123]]\n"
     ]
    }
   ],
   "source": [
    "from sklearn.linear_model import LinearRegression\n",
    "from sklearn import metrics\n",
    "linreg_x_train = LinearRegression()\n",
    "linreg_x_test = LinearRegression()\n",
    "\n",
    "\n",
    "linreg_x_train.fit(x_train, y_train)\n",
    "\n",
    "\n",
    "b0_intercept = linreg_x_train.intercept_\n",
    "\n",
    "b1_slope = linreg_x_train.coef_\n",
    "\n",
    "print('intercept c of train set',b0_intercept)\n",
    "print('coef m slope of train set',b1_slope)\n",
    "\n"
   ]
  },
  {
   "cell_type": "markdown",
   "metadata": {},
   "source": [
    "# Question 13 - Linear Relationship between feature and target \n",
    "Plot the line with b1 and b0 as slope and y-intercept."
   ]
  },
  {
   "cell_type": "code",
   "execution_count": 194,
   "metadata": {},
   "outputs": [
    {
     "data": {
      "text/plain": [
       "[<matplotlib.lines.Line2D at 0x2268fce8e80>,\n",
       " <matplotlib.lines.Line2D at 0x2268fce8fd0>]"
      ]
     },
     "execution_count": 194,
     "metadata": {},
     "output_type": "execute_result"
    },
    {
     "data": {
      "image/png": "[encoded data removed]",
      "text/plain": [
       "<Figure size 432x288 with 1 Axes>"
      ]
     },
     "metadata": {
      "needs_background": "light"
     },
     "output_type": "display_data"
    }
   ],
   "source": [
    "import matplotlib.pyplot as plt\n",
    "\n",
    "line = b1_slope* x_train + b0_intercept\n",
    "\n",
    "plt.plot(x_train, y_train, 'o', x_train,line)\n",
    "\n",
    "#line_test = b1_slope* x_test + b0_intercept\n",
    "#plt.plot(x_test, y_test,'o', x_test,line_test)"
   ]
  },
  {
   "cell_type": "markdown",
   "metadata": {},
   "source": [
    "# Question 14 - Evaluation of model with scikit-learn \n",
    "Validate the model with Root Mean Squares error and R^2 score using scikit-learn. RMSE and R2 for test data and prediction"
   ]
  },
  {
   "cell_type": "markdown",
   "metadata": {},
   "source": [
    "Hint: You can import mean_squared_error function & r2 (R square) from sklearn.metrics. Performing root operation over mean square error over mean square error gives you root mean square error"
   ]
  },
  {
   "cell_type": "code",
   "execution_count": 197,
   "metadata": {},
   "outputs": [
    {
     "name": "stdout",
     "output_type": "stream",
     "text": [
      "mean squared error of train set 537.7499996894286\n",
      "Rmse of train set 23.18943724391406\n",
      "R2 score of train set 0.9682175540860046\n",
      "----------------------------------\n",
      "mean squared error of test set 546.869224903266\n",
      "Rmse of test set 23.385235190249123\n",
      "R2 score of test set 0.9181922560396981\n"
     ]
    }
   ],
   "source": [
    "predictedninetnthirty_train=linreg_x_train.predict(x_train)\n",
    "mse = metrics.mean_squared_error(predictedninetnthirty_train, y_train)\n",
    "print('mean squared error of train set', mse)\n",
    "trainRmse = np.sqrt(mse)\n",
    "print('Rmse of train set', trainRmse )\n",
    "\n",
    "print('R2 score of train set',linreg_x_train.score(x_train, y_train))\n",
    "print('----------------------------------')\n",
    "\n",
    "predictedninetnthirty_test=linreg_x_train.predict(x_test)\n",
    "mse = metrics.mean_squared_error(predictedninetnthirty_test, y_test)\n",
    "print('mean squared error of test set', mse)\n",
    "trainRmse = np.sqrt(mse)\n",
    "print('Rmse of test set', trainRmse )\n",
    "print('R2 score of test set',linreg_x_train.score(x_test, y_test))\n",
    "\n"
   ]
  },
  {
   "cell_type": "markdown",
   "metadata": {},
   "source": [
    "## Question 15 - Calculate the accuracy of the model for both training and test data set "
   ]
  },
  {
   "cell_type": "markdown",
   "metadata": {},
   "source": [
    "### Hint: .score() function "
   ]
  },
  {
   "cell_type": "code",
   "execution_count": 198,
   "metadata": {},
   "outputs": [
    {
     "name": "stdout",
     "output_type": "stream",
     "text": [
      "score of train set 0.9682175540860046\n"
     ]
    }
   ],
   "source": [
    "print('score of train set',linreg_x_train.score(x_train, y_train))\n"
   ]
  },
  {
   "cell_type": "code",
   "execution_count": 199,
   "metadata": {},
   "outputs": [
    {
     "name": "stdout",
     "output_type": "stream",
     "text": [
      "score of test set 0.9181922560396981\n"
     ]
    }
   ],
   "source": [
    "print('score of test set',linreg_x_train.score(x_test, y_test))"
   ]
  },
  {
   "cell_type": "code",
   "execution_count": null,
   "metadata": {},
   "outputs": [],
   "source": []
  }
 ],
 "metadata": {
  "kernelspec": {
   "display_name": "Python 3",
   "language": "python",
   "name": "python3"
  },
  "language_info": {
   "codemirror_mode": {
    "name": "ipython",
    "version": 3
   },
   "file_extension": ".py",
   "mimetype": "text/x-python",
   "name": "python",
   "nbconvert_exporter": "python",
   "pygments_lexer": "ipython3",
   "version": "3.7.3"
  }
 },
 "nbformat": 4,
 "nbformat_minor": 2
}
