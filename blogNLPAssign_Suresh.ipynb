{
 "cells": [
  {
   "cell_type": "code",
   "execution_count": 4,
   "metadata": {
    "colab": {
     "base_uri": "https://localhost:8080/",
     "height": 128
    },
    "colab_type": "code",
    "id": "0DuWE3I9_giJ",
    "outputId": "fbe121e6-8380-43de-effa-274405a53b74"
   },
   "outputs": [
    {
     "name": "stdout",
     "output_type": "stream",
     "text": [
      "Go to this URL in a browser: https://accounts.google.com/o/oauth2/auth?client_id=947318989803-6bn6qk8qdgf4n4g3pfee6491hc0brc4i.apps.googleusercontent.com&redirect_uri=urn%3aietf%3awg%3aoauth%3a2.0%3aoob&response_type=code&scope=email%20https%3a%2f%2fwww.googleapis.com%2fauth%2fdocs.test%20https%3a%2f%2fwww.googleapis.com%2fauth%2fdrive%20https%3a%2f%2fwww.googleapis.com%2fauth%2fdrive.photos.readonly%20https%3a%2f%2fwww.googleapis.com%2fauth%2fpeopleapi.readonly\n",
      "\n",
      "Enter your authorization code:\n",
      "··········\n",
      "Mounted at /content/drive/\n"
     ]
    }
   ],
   "source": [
    "import zipfile\n",
    "from google.colab import drive\n",
    "\n",
    "drive.mount('/content/drive/', force_remount=True)"
   ]
  },
  {
   "cell_type": "code",
   "execution_count": 0,
   "metadata": {
    "colab": {},
    "colab_type": "code",
    "id": "QqyUe0ea_92b"
   },
   "outputs": [],
   "source": [
    "import numpy as np # linear algebra\n",
    "import pandas as pd # data processing, CSV file I/O (e.g. pd.read_csv)\n",
    "import scipy as sp\n",
    "from sklearn.model_selection import train_test_split\n",
    "from sklearn.feature_extraction.text import CountVectorizer, TfidfVectorizer\n",
    "from sklearn.naive_bayes import MultinomialNB\n",
    "from sklearn.linear_model import LogisticRegression\n",
    "from sklearn import metrics\n",
    "%matplotlib inline"
   ]
  },
  {
   "cell_type": "code",
   "execution_count": 0,
   "metadata": {
    "colab": {},
    "colab_type": "code",
    "id": "nhBU42F6YY1b"
   },
   "outputs": [],
   "source": []
  },
  {
   "cell_type": "markdown",
   "metadata": {
    "colab_type": "text",
    "id": "1j4nIYapYZKJ"
   },
   "source": [
    "**Load the Dataset**"
   ]
  },
  {
   "cell_type": "code",
   "execution_count": 0,
   "metadata": {
    "colab": {},
    "colab_type": "code",
    "id": "Ytd7P0xgACVV"
   },
   "outputs": [],
   "source": [
    "df_inp=pd.read_csv('/content/drive/My Drive/CNN/dog-breed-identification/corpus/blogtext.csv')"
   ]
  },
  {
   "cell_type": "code",
   "execution_count": 0,
   "metadata": {
    "colab": {},
    "colab_type": "code",
    "id": "lnOIC_9fAf-W"
   },
   "outputs": [],
   "source": [
    "df_inp=df_inp.head(5000)"
   ]
  },
  {
   "cell_type": "markdown",
   "metadata": {
    "colab_type": "text",
    "id": "_0McR-2rAmmg"
   },
   "source": [
    "Text Preprocess"
   ]
  },
  {
   "cell_type": "code",
   "execution_count": 0,
   "metadata": {
    "colab": {},
    "colab_type": "code",
    "id": "wduzlXH1Ao45"
   },
   "outputs": [],
   "source": [
    "df_inp['text']=df_inp['text'].astype('str')\n",
    "df_inp['age']=df_inp['age'].astype('str')\n",
    "#Convert to lower case\n",
    "df_inp['text']=df_inp['text'].apply(lambda x: x.lower())"
   ]
  },
  {
   "cell_type": "code",
   "execution_count": 9,
   "metadata": {
    "colab": {
     "base_uri": "https://localhost:8080/",
     "height": 126
    },
    "colab_type": "code",
    "id": "7UKtDVpUAxN8",
    "outputId": "7e1a5cc1-e94b-415a-f1f6-ce41c58f46eb"
   },
   "outputs": [
    {
     "name": "stdout",
     "output_type": "stream",
     "text": [
      "<class 'pandas.core.frame.DataFrame'>\n",
      "RangeIndex: 5000 entries, 0 to 4999\n",
      "Data columns (total 1 columns):\n",
      "text    5000 non-null object\n",
      "dtypes: object(1)\n",
      "memory usage: 39.2+ KB\n"
     ]
    }
   ],
   "source": [
    "df_text=pd.DataFrame()\n",
    "df_text['text']=df_inp['text']\n",
    "df_text.info()"
   ]
  },
  {
   "cell_type": "code",
   "execution_count": 0,
   "metadata": {
    "colab": {},
    "colab_type": "code",
    "id": "S5NCqiqlA0kk"
   },
   "outputs": [],
   "source": [
    "#Remove the unwanted characters\n",
    "import re\n",
    "df_text=df_text.applymap(lambda s:re.sub(\"[^0-9a-z #+_]\", \" \",s))"
   ]
  },
  {
   "cell_type": "code",
   "execution_count": 0,
   "metadata": {
    "colab": {},
    "colab_type": "code",
    "id": "4lWH6sQaA3g7"
   },
   "outputs": [],
   "source": [
    "#Remove the unwanted space\n",
    "df_text=df_text.applymap(lambda s:s.strip())"
   ]
  },
  {
   "cell_type": "markdown",
   "metadata": {
    "colab_type": "text",
    "id": "fWWyllmRA_k9"
   },
   "source": [
    "Merge the columns"
   ]
  },
  {
   "cell_type": "code",
   "execution_count": 0,
   "metadata": {
    "colab": {},
    "colab_type": "code",
    "id": "TVVahOetBBJq"
   },
   "outputs": [],
   "source": [
    "df_text['labels']=df_inp[['gender','age','topic','sign']].values.tolist()\n",
    "#df_text['labels']=df_text['labels'].values.tolist()"
   ]
  },
  {
   "cell_type": "code",
   "execution_count": 34,
   "metadata": {
    "colab": {
     "base_uri": "https://localhost:8080/",
     "height": 198
    },
    "colab_type": "code",
    "id": "D7EG5ze9BDZn",
    "outputId": "a3e2299a-4736-4468-cd13-bb934be94e4a"
   },
   "outputs": [
    {
     "data": {
      "text/html": [
       "<div>\n",
       "<style scoped>\n",
       "    .dataframe tbody tr th:only-of-type {\n",
       "        vertical-align: middle;\n",
       "    }\n",
       "\n",
       "    .dataframe tbody tr th {\n",
       "        vertical-align: top;\n",
       "    }\n",
       "\n",
       "    .dataframe thead th {\n",
       "        text-align: right;\n",
       "    }\n",
       "</style>\n",
       "<table border=\"1\" class=\"dataframe\">\n",
       "  <thead>\n",
       "    <tr style=\"text-align: right;\">\n",
       "      <th></th>\n",
       "      <th>text</th>\n",
       "      <th>labels</th>\n",
       "    </tr>\n",
       "  </thead>\n",
       "  <tbody>\n",
       "    <tr>\n",
       "      <th>0</th>\n",
       "      <td>info has been found  +   100 pages  and 4 5 mb...</td>\n",
       "      <td>[male, 15, Student, Leo]</td>\n",
       "    </tr>\n",
       "    <tr>\n",
       "      <th>1</th>\n",
       "      <td>these are the team members    drewes van der l...</td>\n",
       "      <td>[male, 15, Student, Leo]</td>\n",
       "    </tr>\n",
       "    <tr>\n",
       "      <th>2</th>\n",
       "      <td>in het kader van kernfusie op aarde   maak je ...</td>\n",
       "      <td>[male, 15, Student, Leo]</td>\n",
       "    </tr>\n",
       "    <tr>\n",
       "      <th>3</th>\n",
       "      <td>testing     testing</td>\n",
       "      <td>[male, 15, Student, Leo]</td>\n",
       "    </tr>\n",
       "    <tr>\n",
       "      <th>4</th>\n",
       "      <td>thanks to yahoo  s toolbar i can now  capture ...</td>\n",
       "      <td>[male, 33, InvestmentBanking, Aquarius]</td>\n",
       "    </tr>\n",
       "  </tbody>\n",
       "</table>\n",
       "</div>"
      ],
      "text/plain": [
       "                                                text                                   labels\n",
       "0  info has been found  +   100 pages  and 4 5 mb...                 [male, 15, Student, Leo]\n",
       "1  these are the team members    drewes van der l...                 [male, 15, Student, Leo]\n",
       "2  in het kader van kernfusie op aarde   maak je ...                 [male, 15, Student, Leo]\n",
       "3                                testing     testing                 [male, 15, Student, Leo]\n",
       "4  thanks to yahoo  s toolbar i can now  capture ...  [male, 33, InvestmentBanking, Aquarius]"
      ]
     },
     "execution_count": 34,
     "metadata": {
      "tags": []
     },
     "output_type": "execute_result"
    }
   ],
   "source": [
    "df_text.head()"
   ]
  },
  {
   "cell_type": "code",
   "execution_count": 0,
   "metadata": {
    "colab": {},
    "colab_type": "code",
    "id": "JWOl0BxXBEsk"
   },
   "outputs": [],
   "source": [
    "from sklearn.model_selection import train_test_split"
   ]
  },
  {
   "cell_type": "markdown",
   "metadata": {
    "colab_type": "text",
    "id": "ip-rLHZ3Yty0"
   },
   "source": [
    "**Train & Test Split **"
   ]
  },
  {
   "cell_type": "code",
   "execution_count": 0,
   "metadata": {
    "colab": {},
    "colab_type": "code",
    "id": "00hI28duYx77"
   },
   "outputs": [],
   "source": []
  },
  {
   "cell_type": "code",
   "execution_count": 0,
   "metadata": {
    "colab": {},
    "colab_type": "code",
    "id": "Ml4RWs_0BHiA"
   },
   "outputs": [],
   "source": [
    "\n",
    "X = df_text['text'] #independent variable\n",
    "y = df_text['labels'] #target\n",
    "\n",
    "# split the new DataFrame into training and testing sets [Default test size = 25%]\n",
    "X_train, X_test, y_train, y_test = train_test_split(X, y, random_state=1)"
   ]
  },
  {
   "cell_type": "markdown",
   "metadata": {
    "colab_type": "text",
    "id": "clMXgrCdZBc3"
   },
   "source": [
    "**Vectorize the features**"
   ]
  },
  {
   "cell_type": "code",
   "execution_count": 36,
   "metadata": {
    "colab": {
     "base_uri": "https://localhost:8080/",
     "height": 35
    },
    "colab_type": "code",
    "id": "5E_GQQ05BO-A",
    "outputId": "0cb0b372-e2ec-4624-be7f-6101e49ae8d3"
   },
   "outputs": [
    {
     "data": {
      "text/plain": [
       "(3750, 239494)"
      ]
     },
     "execution_count": 36,
     "metadata": {
      "tags": []
     },
     "output_type": "execute_result"
    }
   ],
   "source": [
    "\n",
    "#Remove stop words\n",
    "vect = CountVectorizer(ngram_range=(1, 2),stop_words='english')\n",
    "\n",
    "X_train_dtm = vect.fit_transform(X_train)\n",
    "X_test_dtm = vect.transform(X_test)\n",
    "X_train_dtm.shape"
   ]
  },
  {
   "cell_type": "code",
   "execution_count": 37,
   "metadata": {
    "colab": {
     "base_uri": "https://localhost:8080/",
     "height": 35
    },
    "colab_type": "code",
    "id": "DqebFhVlBjiH",
    "outputId": "fbd17f0d-2049-4c4d-a4c0-19a2ff6225f2"
   },
   "outputs": [
    {
     "data": {
      "text/plain": [
       "(1250, 239494)"
      ]
     },
     "execution_count": 37,
     "metadata": {
      "tags": []
     },
     "output_type": "execute_result"
    }
   ],
   "source": [
    "X_test_dtm.shape"
   ]
  },
  {
   "cell_type": "markdown",
   "metadata": {
    "colab_type": "text",
    "id": "g_ApvprwZLI8"
   },
   "source": [
    "**Dictionary to get the count of every label**"
   ]
  },
  {
   "cell_type": "code",
   "execution_count": 17,
   "metadata": {
    "colab": {
     "base_uri": "https://localhost:8080/",
     "height": 110
    },
    "colab_type": "code",
    "id": "f_tXkhyeaeHw",
    "outputId": "0673e88e-b34a-4c03-bebf-ef1b3ae81872"
   },
   "outputs": [
    {
     "name": "stdout",
     "output_type": "stream",
     "text": [
      "{'male': 3294, 'female': 1706}\n",
      "{'35': 2307, '34': 540, '24': 353, '15': 339, '17': 331, '25': 268, '14': 170, '23': 137, '33': 101, '26': 96, '27': 86, '39': 79, '16': 67, '36': 60, '37': 19, '45': 14, '41': 14, '42': 9, '46': 7, '44': 3}\n",
      "{'Aries': 2483, 'Sagittarius': 704, 'Libra': 414, 'Scorpio': 408, 'Aquarius': 329, 'Leo': 190, 'Taurus': 100, 'Cancer': 94, 'Gemini': 86, 'Capricorn': 84, 'Pisces': 67, 'Virgo': 41}\n",
      "{'Technology': 2332, 'indUnk': 1381, 'Student': 569, 'Engineering': 119, 'Education': 118, 'BusinessServices': 87, 'Sports-Recreation': 75, 'InvestmentBanking': 70, 'Communications-Media': 61, 'Non-Profit': 47, 'Science': 33, 'Arts': 31, 'Internet': 20, 'Consulting': 16, 'Banking': 16, 'Automotive': 14, 'Religion': 4, 'Law': 3, 'Accounting': 2, 'Museums-Libraries': 2}\n"
     ]
    }
   ],
   "source": [
    "print(df_inp['gender'].value_counts().to_dict())\n",
    "print(df_inp['age'].value_counts().to_dict())\n",
    "print(df_inp['sign'].value_counts().to_dict())\n",
    "print(df_inp['topic'].value_counts().to_dict())"
   ]
  },
  {
   "cell_type": "markdown",
   "metadata": {
    "colab_type": "text",
    "id": "XAnthbwrBk4H"
   },
   "source": [
    "Binarizer"
   ]
  },
  {
   "cell_type": "code",
   "execution_count": 0,
   "metadata": {
    "colab": {},
    "colab_type": "code",
    "id": "A1t07bR-BmfN"
   },
   "outputs": [],
   "source": [
    "\n",
    "from sklearn.preprocessing import MultiLabelBinarizer\n",
    "#classes=np.unique(y_train)\n",
    "binarizer = MultiLabelBinarizer()\n",
    "#test=['africa','india','america']\n",
    "test=pd.DataFrame()\n",
    "test=[['male','44','single','leao'],['female','34','single','leo']]\n",
    "df_bin_train=binarizer.fit_transform(y_train)\n",
    "df_bin_test=binarizer.transform(y_test)"
   ]
  },
  {
   "cell_type": "code",
   "execution_count": 52,
   "metadata": {
    "colab": {
     "base_uri": "https://localhost:8080/",
     "height": 35
    },
    "colab_type": "code",
    "id": "cCe0xYPVCFSv",
    "outputId": "73311bab-43ab-4124-bb77-99595b80984f"
   },
   "outputs": [
    {
     "data": {
      "text/plain": [
       "(95,)"
      ]
     },
     "execution_count": 52,
     "metadata": {
      "tags": []
     },
     "output_type": "execute_result"
    }
   ],
   "source": [
    "np.unique(y_train).shape"
   ]
  },
  {
   "cell_type": "code",
   "execution_count": 39,
   "metadata": {
    "colab": {
     "base_uri": "https://localhost:8080/",
     "height": 1000
    },
    "colab_type": "code",
    "id": "hb_OleZEny8J",
    "outputId": "eab9434c-9274-48dd-acb2-16507fb378e7"
   },
   "outputs": [
    {
     "data": {
      "text/plain": [
       "[('35', 'Aries', 'Technology', 'male'),\n",
       " ('24', 'Engineering', 'Libra', 'male'),\n",
       " ('24', 'Engineering', 'Libra', 'male'),\n",
       " ('35', 'Aries', 'Technology', 'male'),\n",
       " ('17', 'Aquarius', 'indUnk', 'male'),\n",
       " ('23', 'Sagittarius', 'indUnk', 'male'),\n",
       " ('15', 'Libra', 'Student', 'female'),\n",
       " ('34', 'Sagittarius', 'female', 'indUnk'),\n",
       " ('15', 'Aquarius', 'Student', 'male'),\n",
       " ('34', 'Sagittarius', 'female', 'indUnk'),\n",
       " ('35', 'Aries', 'Technology', 'male'),\n",
       " ('35', 'Aries', 'Technology', 'male'),\n",
       " ('35', 'Aries', 'Technology', 'male'),\n",
       " ('34', 'Sagittarius', 'female', 'indUnk'),\n",
       " ('25', 'BusinessServices', 'Sagittarius', 'male'),\n",
       " ('23', 'Sagittarius', 'indUnk', 'male'),\n",
       " ('34', 'Sagittarius', 'female', 'indUnk'),\n",
       " ('35', 'Aries', 'Technology', 'male'),\n",
       " ('23', 'Sagittarius', 'Student', 'male'),\n",
       " ('23', 'Sagittarius', 'indUnk', 'male'),\n",
       " ('27', 'Aquarius', 'Education', 'female'),\n",
       " ('15', 'Libra', 'Science', 'male'),\n",
       " ('34', 'Sagittarius', 'female', 'indUnk'),\n",
       " ('35', 'Aries', 'Technology', 'male'),\n",
       " ('34', 'Sagittarius', 'female', 'indUnk'),\n",
       " ('35', 'Aries', 'Technology', 'male'),\n",
       " ('14', 'Leo', 'Student', 'male'),\n",
       " ('25', 'Libra', 'female', 'indUnk'),\n",
       " ('34', 'Sagittarius', 'female', 'indUnk'),\n",
       " ('17', 'Capricorn', 'Sports-Recreation', 'male'),\n",
       " ('34', 'Sagittarius', 'female', 'indUnk'),\n",
       " ('24', 'Scorpio', 'female', 'indUnk'),\n",
       " ('35', 'Aries', 'Technology', 'male'),\n",
       " ('45', 'Sagittarius', 'female', 'indUnk'),\n",
       " ('34', 'Sagittarius', 'female', 'indUnk'),\n",
       " ('14', 'Aries', 'female', 'indUnk'),\n",
       " ('24', 'Engineering', 'Libra', 'male'),\n",
       " ('35', 'Aries', 'Technology', 'male'),\n",
       " ('15', 'Libra', 'Student', 'female'),\n",
       " ('35', 'Aries', 'Technology', 'male'),\n",
       " ('17', 'Scorpio', 'female', 'indUnk'),\n",
       " ('36', 'Pisces', 'female', 'indUnk'),\n",
       " ('35', 'Aries', 'Technology', 'male'),\n",
       " ('24', 'Engineering', 'Libra', 'male'),\n",
       " ('35', 'Aries', 'Technology', 'male'),\n",
       " ('17', 'Leo', 'Student', 'female'),\n",
       " ('16', 'Libra', 'Student', 'female'),\n",
       " ('35', 'Aries', 'Technology', 'male'),\n",
       " ('34', 'Sagittarius', 'female', 'indUnk'),\n",
       " ('24', 'Scorpio', 'female', 'indUnk'),\n",
       " ('17', 'Gemini', 'Student', 'female'),\n",
       " ('35', 'Aries', 'Technology', 'male'),\n",
       " ('35', 'Aries', 'Technology', 'male'),\n",
       " ('14', 'Scorpio', 'Student', 'male'),\n",
       " ('35', 'Aries', 'Technology', 'male'),\n",
       " ('46', 'Consulting', 'Gemini', 'male'),\n",
       " ('35', 'Aries', 'Technology', 'male'),\n",
       " ('33', 'Aquarius', 'InvestmentBanking', 'male'),\n",
       " ('15', 'Libra', 'Student', 'female'),\n",
       " ('35', 'Aries', 'Technology', 'male'),\n",
       " ('35', 'Aries', 'Technology', 'male'),\n",
       " ('15', 'Libra', 'Student', 'female'),\n",
       " ('15', 'Aquarius', 'Student', 'male'),\n",
       " ('14', 'Scorpio', 'Student', 'male'),\n",
       " ('35', 'Aries', 'Technology', 'male'),\n",
       " ('15', 'Aquarius', 'Student', 'female'),\n",
       " ('24', 'Scorpio', 'female', 'indUnk'),\n",
       " ('35', 'Aries', 'Technology', 'male'),\n",
       " ('35', 'Aries', 'Technology', 'male'),\n",
       " ('15', 'Libra', 'Student', 'female'),\n",
       " ('35', 'Aries', 'Technology', 'male'),\n",
       " ('35', 'Aries', 'Technology', 'male'),\n",
       " ('35', 'Aries', 'Technology', 'male'),\n",
       " ('35', 'Aries', 'Technology', 'male'),\n",
       " ('17', 'Aquarius', 'indUnk', 'male'),\n",
       " ('35', 'Aries', 'Technology', 'male'),\n",
       " ('34', 'Sagittarius', 'female', 'indUnk'),\n",
       " ('35', 'Aries', 'Technology', 'male'),\n",
       " ('34', 'Sagittarius', 'female', 'indUnk'),\n",
       " ('24', 'Aries', 'female', 'indUnk'),\n",
       " ('26', 'Gemini', 'indUnk', 'male'),\n",
       " ('27', 'Aquarius', 'Education', 'female'),\n",
       " ('35', 'Aries', 'Technology', 'male'),\n",
       " ('35', 'Aries', 'Technology', 'male'),\n",
       " ('34', 'Sagittarius', 'female', 'indUnk'),\n",
       " ('23', 'Sagittarius', 'Student', 'male'),\n",
       " ('35', 'Aries', 'Technology', 'male'),\n",
       " ('35', 'Aries', 'Technology', 'male'),\n",
       " ('35', 'Aries', 'Technology', 'male'),\n",
       " ('35', 'Aries', 'Technology', 'male'),\n",
       " ('35', 'Aries', 'Technology', 'male'),\n",
       " ('25', 'Libra', 'female', 'indUnk'),\n",
       " ('35', 'Aries', 'Technology', 'male'),\n",
       " ('24', 'Scorpio', 'female', 'indUnk'),\n",
       " ('35', 'Aries', 'Technology', 'male'),\n",
       " ('34', 'Sagittarius', 'female', 'indUnk'),\n",
       " ('15', 'Gemini', 'Student', 'female'),\n",
       " ('14', 'Scorpio', 'indUnk', 'male'),\n",
       " ('14', 'Scorpio', 'Student', 'male'),\n",
       " ('25', 'Libra', 'female', 'indUnk'),\n",
       " ('15', 'Aquarius', 'Student', 'male'),\n",
       " ('35', 'Aries', 'Technology', 'male'),\n",
       " ('35', 'Aries', 'Technology', 'male'),\n",
       " ('35', 'Aries', 'Technology', 'male'),\n",
       " ('25', 'Aries', 'BusinessServices', 'female'),\n",
       " ('15', 'Libra', 'Student', 'female'),\n",
       " ('15', 'Libra', 'Student', 'female'),\n",
       " ('35', 'Aries', 'Technology', 'male'),\n",
       " ('35', 'Aries', 'Technology', 'male'),\n",
       " ('35', 'Aries', 'Technology', 'male'),\n",
       " ('35', 'Aries', 'Technology', 'male'),\n",
       " ('17', 'Scorpio', 'female', 'indUnk'),\n",
       " ('35', 'Aries', 'Technology', 'male'),\n",
       " ('34', 'Sagittarius', 'female', 'indUnk'),\n",
       " ('35', 'Aries', 'Technology', 'male'),\n",
       " ('17', 'Leo', 'Student', 'female'),\n",
       " ('34', 'Sagittarius', 'female', 'indUnk'),\n",
       " ('23', 'Sagittarius', 'indUnk', 'male'),\n",
       " ('35', 'Aries', 'Technology', 'male'),\n",
       " ('35', 'Aries', 'Technology', 'male'),\n",
       " ('35', 'Aries', 'Technology', 'male'),\n",
       " ('35', 'Aries', 'Technology', 'male'),\n",
       " ('25', 'Aries', 'Arts', 'male'),\n",
       " ('37', 'Aquarius', 'female', 'indUnk'),\n",
       " ('15', 'Leo', 'Student', 'female'),\n",
       " ('35', 'Aries', 'Technology', 'male'),\n",
       " ('35', 'Aries', 'Technology', 'male'),\n",
       " ('35', 'Aries', 'Technology', 'male'),\n",
       " ('24', 'Scorpio', 'female', 'indUnk'),\n",
       " ('35', 'Aries', 'Technology', 'male'),\n",
       " ('25', 'BusinessServices', 'Sagittarius', 'male'),\n",
       " ('35', 'Aries', 'Technology', 'male'),\n",
       " ('35', 'Aries', 'Technology', 'male'),\n",
       " ('35', 'Aries', 'Technology', 'male'),\n",
       " ('24', 'Scorpio', 'female', 'indUnk'),\n",
       " ('26', 'Leo', 'indUnk', 'male'),\n",
       " ('35', 'Aries', 'Technology', 'male'),\n",
       " ('15', 'Libra', 'Science', 'male'),\n",
       " ('35', 'Aries', 'Technology', 'male'),\n",
       " ('45', 'Sagittarius', 'female', 'indUnk'),\n",
       " ('35', 'Aries', 'Technology', 'male'),\n",
       " ('35', 'Aries', 'Technology', 'male'),\n",
       " ('24', 'Scorpio', 'female', 'indUnk'),\n",
       " ('35', 'Aries', 'Technology', 'male'),\n",
       " ('34', 'Sagittarius', 'female', 'indUnk'),\n",
       " ('35', 'Aries', 'Technology', 'male'),\n",
       " ('24', 'Engineering', 'Libra', 'male'),\n",
       " ('35', 'Aries', 'Technology', 'male'),\n",
       " ('35', 'Aries', 'Technology', 'male'),\n",
       " ('34', 'Sagittarius', 'female', 'indUnk'),\n",
       " ('35', 'Aries', 'Technology', 'male'),\n",
       " ('24', 'Scorpio', 'female', 'indUnk'),\n",
       " ('14', 'Aquarius', 'female', 'indUnk'),\n",
       " ('34', 'Sagittarius', 'female', 'indUnk'),\n",
       " ('15', 'Aquarius', 'Student', 'male'),\n",
       " ('35', 'Aries', 'Technology', 'male'),\n",
       " ('35', 'Aries', 'Technology', 'male'),\n",
       " ('24', 'Scorpio', 'female', 'indUnk'),\n",
       " ('35', 'Aries', 'Technology', 'male'),\n",
       " ('35', 'Aries', 'Technology', 'male'),\n",
       " ('17', 'Aries', 'Student', 'female'),\n",
       " ('34', 'Sagittarius', 'female', 'indUnk'),\n",
       " ('14', 'Scorpio', 'Student', 'male'),\n",
       " ('27', 'Aquarius', 'Education', 'female'),\n",
       " ('35', 'Aries', 'Technology', 'male'),\n",
       " ('34', 'Sagittarius', 'female', 'indUnk'),\n",
       " ('16', 'Leo', 'female', 'indUnk'),\n",
       " ('15', 'Libra', 'Science', 'male'),\n",
       " ('17', 'Scorpio', 'female', 'indUnk'),\n",
       " ('25', 'Aries', 'Technology', 'male'),\n",
       " ('35', 'Aries', 'Technology', 'male'),\n",
       " ('35', 'Aries', 'Technology', 'male'),\n",
       " ('15', 'Libra', 'Science', 'male'),\n",
       " ('39', 'Communications-Media', 'Libra', 'male'),\n",
       " ('35', 'Aries', 'Technology', 'male'),\n",
       " ('35', 'Aries', 'Technology', 'male'),\n",
       " ('35', 'Aries', 'Technology', 'male'),\n",
       " ('23', 'Sagittarius', 'indUnk', 'male'),\n",
       " ('17', 'Aries', 'Student', 'female'),\n",
       " ('35', 'Aries', 'Technology', 'male'),\n",
       " ('35', 'Aries', 'Technology', 'male'),\n",
       " ('35', 'Aries', 'Technology', 'male'),\n",
       " ('26', 'Gemini', 'indUnk', 'male'),\n",
       " ('27', 'Aquarius', 'Education', 'female'),\n",
       " ('17', 'Leo', 'Student', 'female'),\n",
       " ('35', 'Aries', 'Technology', 'male'),\n",
       " ('34', 'Sagittarius', 'female', 'indUnk'),\n",
       " ('24', 'Scorpio', 'female', 'indUnk'),\n",
       " ('33', 'Aquarius', 'Banking', 'female'),\n",
       " ('35', 'Aries', 'Technology', 'male'),\n",
       " ('35', 'Aries', 'Technology', 'male'),\n",
       " ('34', 'Sagittarius', 'female', 'indUnk'),\n",
       " ('34', 'Sagittarius', 'female', 'indUnk'),\n",
       " ('24', 'Scorpio', 'female', 'indUnk'),\n",
       " ('35', 'Aries', 'Technology', 'male'),\n",
       " ('35', 'Aries', 'Technology', 'male'),\n",
       " ('34', 'Sagittarius', 'female', 'indUnk'),\n",
       " ('15', 'Libra', 'Student', 'female'),\n",
       " ('15', 'Libra', 'Student', 'female'),\n",
       " ('35', 'Aries', 'Technology', 'male'),\n",
       " ('35', 'Aries', 'Technology', 'male'),\n",
       " ('25', 'Leo', 'Student', 'female'),\n",
       " ('35', 'Aries', 'Technology', 'male'),\n",
       " ('35', 'Aries', 'Technology', 'male'),\n",
       " ('24', 'Scorpio', 'female', 'indUnk'),\n",
       " ('35', 'Aries', 'Technology', 'male'),\n",
       " ('35', 'Aries', 'Technology', 'male'),\n",
       " ('35', 'Aries', 'Technology', 'male'),\n",
       " ('14', 'Scorpio', 'Student', 'male'),\n",
       " ('35', 'Aries', 'Technology', 'male'),\n",
       " ('16', 'Taurus', 'female', 'indUnk'),\n",
       " ('35', 'Aries', 'Technology', 'male'),\n",
       " ('35', 'Aries', 'Technology', 'male'),\n",
       " ('35', 'Aries', 'Technology', 'male'),\n",
       " ('27', 'Aquarius', 'Education', 'female'),\n",
       " ('35', 'Aries', 'Technology', 'male'),\n",
       " ('15', 'Aquarius', 'Student', 'female'),\n",
       " ('24', 'Scorpio', 'female', 'indUnk'),\n",
       " ('23', 'Aquarius', 'Automotive', 'female'),\n",
       " ('26', 'Leo', 'indUnk', 'male'),\n",
       " ('35', 'Aries', 'Technology', 'male'),\n",
       " ('17', 'Sagittarius', 'Student', 'male'),\n",
       " ('23', 'Sagittarius', 'indUnk', 'male'),\n",
       " ('35', 'Aries', 'Technology', 'male'),\n",
       " ('35', 'Aries', 'Technology', 'male'),\n",
       " ('35', 'Aries', 'Technology', 'male'),\n",
       " ('35', 'Aries', 'Technology', 'male'),\n",
       " ('35', 'Aries', 'Technology', 'male'),\n",
       " ('24', 'Scorpio', 'female', 'indUnk'),\n",
       " ('14', 'Leo', 'Student', 'male'),\n",
       " ('35', 'Aries', 'Technology', 'male'),\n",
       " ('35', 'Aries', 'Technology', 'male'),\n",
       " ('23', 'Taurus', 'indUnk', 'male'),\n",
       " ('35', 'Aries', 'Technology', 'male'),\n",
       " ('15', 'Libra', 'Student', 'female'),\n",
       " ('17', 'Aquarius', 'indUnk', 'male'),\n",
       " ('15', 'Libra', 'Student', 'female'),\n",
       " ('23', 'Aquarius', 'Automotive', 'female'),\n",
       " ('24', 'Scorpio', 'female', 'indUnk'),\n",
       " ('34', 'Sagittarius', 'female', 'indUnk'),\n",
       " ('23', 'Sagittarius', 'indUnk', 'male'),\n",
       " ('34', 'Sagittarius', 'female', 'indUnk'),\n",
       " ('17', 'Scorpio', 'female', 'indUnk'),\n",
       " ('35', 'Aries', 'Technology', 'male'),\n",
       " ('14', 'Scorpio', 'indUnk', 'male'),\n",
       " ('34', 'Sagittarius', 'female', 'indUnk'),\n",
       " ('25', 'Aries', 'BusinessServices', 'female'),\n",
       " ('35', 'Aries', 'Technology', 'male'),\n",
       " ('25', 'Student', 'Taurus', 'female'),\n",
       " ('35', 'Aries', 'Technology', 'male'),\n",
       " ('15', 'Aries', 'female', 'indUnk'),\n",
       " ('16', 'Libra', 'Student', 'female'),\n",
       " ('33', 'Aquarius', 'InvestmentBanking', 'male'),\n",
       " ('25', 'Cancer', 'Non-Profit', 'male'),\n",
       " ('34', 'Sagittarius', 'female', 'indUnk'),\n",
       " ('36', 'Pisces', 'female', 'indUnk'),\n",
       " ('35', 'Aries', 'Technology', 'male'),\n",
       " ('33', 'Aquarius', 'InvestmentBanking', 'male'),\n",
       " ('35', 'Aries', 'Technology', 'male'),\n",
       " ('27', 'Aquarius', 'Education', 'female'),\n",
       " ('35', 'Aries', 'Technology', 'male'),\n",
       " ('15', 'Aquarius', 'Student', 'female'),\n",
       " ('35', 'Aries', 'Technology', 'male'),\n",
       " ('15', 'Libra', 'Student', 'female'),\n",
       " ('25', 'BusinessServices', 'Sagittarius', 'male'),\n",
       " ('24', 'Scorpio', 'female', 'indUnk'),\n",
       " ('35', 'Aries', 'Technology', 'male'),\n",
       " ('24', 'Engineering', 'Libra', 'male'),\n",
       " ('35', 'Aries', 'Technology', 'male'),\n",
       " ('35', 'Aries', 'Technology', 'male'),\n",
       " ('35', 'Aries', 'Technology', 'male'),\n",
       " ('39', 'Communications-Media', 'Libra', 'male'),\n",
       " ('35', 'Aries', 'Technology', 'male'),\n",
       " ('24', 'Scorpio', 'female', 'indUnk'),\n",
       " ('34', 'Sagittarius', 'female', 'indUnk'),\n",
       " ('35', 'Aries', 'Technology', 'male'),\n",
       " ('35', 'Aries', 'Technology', 'male'),\n",
       " ('35', 'Aries', 'Technology', 'male'),\n",
       " ('24', 'Engineering', 'Libra', 'male'),\n",
       " ('34', 'Sagittarius', 'female', 'indUnk'),\n",
       " ('24', 'Scorpio', 'female', 'indUnk'),\n",
       " ('35', 'Aries', 'Technology', 'male'),\n",
       " ('35', 'Aries', 'Technology', 'male'),\n",
       " ('35', 'Aries', 'Technology', 'male'),\n",
       " ('35', 'Aries', 'Technology', 'male'),\n",
       " ('35', 'Aries', 'Technology', 'male'),\n",
       " ('35', 'Aries', 'Technology', 'male'),\n",
       " ('15', 'Aquarius', 'Student', 'male'),\n",
       " ('15', 'Libra', 'Student', 'female'),\n",
       " ('16', 'Libra', 'Student', 'female'),\n",
       " ('27', 'Aquarius', 'Education', 'female'),\n",
       " ('14', 'Scorpio', 'indUnk', 'male'),\n",
       " ('17', 'Capricorn', 'Sports-Recreation', 'male'),\n",
       " ('17', 'Leo', 'Student', 'female'),\n",
       " ('15', 'Libra', 'Science', 'male'),\n",
       " ('35', 'Aries', 'Technology', 'male'),\n",
       " ('35', 'Aries', 'Technology', 'male'),\n",
       " ('35', 'Aries', 'Technology', 'male'),\n",
       " ('25', 'Aries', 'Technology', 'male'),\n",
       " ('23', 'Sagittarius', 'female', 'indUnk'),\n",
       " ('25', 'Aries', 'Technology', 'male'),\n",
       " ('15', 'Aquarius', 'Student', 'female'),\n",
       " ('35', 'Aries', 'Technology', 'male'),\n",
       " ('15', 'Aquarius', 'Student', 'female'),\n",
       " ('35', 'Aries', 'Technology', 'male'),\n",
       " ('35', 'Aries', 'Technology', 'male'),\n",
       " ('34', 'Sagittarius', 'female', 'indUnk'),\n",
       " ('35', 'Aries', 'Technology', 'male'),\n",
       " ('35', 'Aries', 'Technology', 'male'),\n",
       " ('35', 'Aries', 'Technology', 'male'),\n",
       " ('35', 'Aries', 'Technology', 'male'),\n",
       " ('16', 'Libra', 'Student', 'female'),\n",
       " ('25', 'Taurus', 'indUnk', 'male'),\n",
       " ('25', 'Cancer', 'Non-Profit', 'male'),\n",
       " ('14', 'Scorpio', 'indUnk', 'male'),\n",
       " ('14', 'Leo', 'Student', 'male'),\n",
       " ('24', 'BusinessServices', 'Leo', 'male'),\n",
       " ('14', 'Leo', 'Student', 'male'),\n",
       " ('36', 'Pisces', 'female', 'indUnk'),\n",
       " ('34', 'Sagittarius', 'female', 'indUnk'),\n",
       " ('25', 'Libra', 'female', 'indUnk'),\n",
       " ('34', 'Sagittarius', 'female', 'indUnk'),\n",
       " ('35', 'Aries', 'Technology', 'male'),\n",
       " ('24', 'Engineering', 'Libra', 'male'),\n",
       " ('17', 'Capricorn', 'Sports-Recreation', 'male'),\n",
       " ('35', 'Aries', 'Technology', 'male'),\n",
       " ('24', 'Scorpio', 'female', 'indUnk'),\n",
       " ('35', 'Aries', 'Technology', 'male'),\n",
       " ('35', 'Aries', 'Technology', 'male'),\n",
       " ('35', 'Aries', 'Technology', 'male'),\n",
       " ('35', 'Gemini', 'female', 'indUnk'),\n",
       " ('35', 'Aries', 'Technology', 'male'),\n",
       " ('35', 'Aries', 'Technology', 'male'),\n",
       " ('23', 'Aquarius', 'Automotive', 'female'),\n",
       " ('35', 'Aries', 'Technology', 'male'),\n",
       " ('34', 'Sagittarius', 'female', 'indUnk'),\n",
       " ('35', 'Aries', 'Technology', 'male'),\n",
       " ('39', 'Communications-Media', 'Libra', 'male'),\n",
       " ('17', 'Aries', 'Student', 'female'),\n",
       " ('35', 'Aries', 'Technology', 'male'),\n",
       " ('39', 'Communications-Media', 'Libra', 'male'),\n",
       " ('35', 'Aries', 'Technology', 'male'),\n",
       " ('35', 'Aries', 'Technology', 'male'),\n",
       " ('15', 'Libra', 'Student', 'female'),\n",
       " ('14', 'Scorpio', 'Student', 'male'),\n",
       " ('15', 'Aries', 'female', 'indUnk'),\n",
       " ('35', 'Aries', 'Technology', 'male'),\n",
       " ('35', 'Aries', 'Technology', 'male'),\n",
       " ('14', 'Scorpio', 'Student', 'male'),\n",
       " ('35', 'Aries', 'Technology', 'male'),\n",
       " ('35', 'Aries', 'Technology', 'male'),\n",
       " ('17', 'Scorpio', 'female', 'indUnk'),\n",
       " ('15', 'Aquarius', 'Student', 'female'),\n",
       " ('34', 'Sagittarius', 'female', 'indUnk'),\n",
       " ('34', 'Sagittarius', 'female', 'indUnk'),\n",
       " ('35', 'Aries', 'Technology', 'male'),\n",
       " ('35', 'Aries', 'Technology', 'male'),\n",
       " ('35', 'Aries', 'Technology', 'male'),\n",
       " ('34', 'Sagittarius', 'female', 'indUnk'),\n",
       " ('35', 'Aries', 'Technology', 'male'),\n",
       " ('35', 'Aries', 'Technology', 'male'),\n",
       " ('35', 'Aries', 'Technology', 'male'),\n",
       " ('35', 'Aries', 'Technology', 'male'),\n",
       " ('15', 'Libra', 'Science', 'male'),\n",
       " ('25', 'Aries', 'Internet', 'male'),\n",
       " ('35', 'Aries', 'Technology', 'male'),\n",
       " ('35', 'Aries', 'Technology', 'male'),\n",
       " ('24', 'Scorpio', 'female', 'indUnk'),\n",
       " ('17', 'Leo', 'Student', 'female'),\n",
       " ('35', 'Aries', 'Technology', 'male'),\n",
       " ('24', 'Scorpio', 'female', 'indUnk'),\n",
       " ('35', 'Aries', 'Technology', 'male'),\n",
       " ('39', 'Communications-Media', 'Libra', 'male'),\n",
       " ('17', 'Scorpio', 'female', 'indUnk'),\n",
       " ('35', 'Aries', 'Technology', 'male'),\n",
       " ('35', 'Gemini', 'female', 'indUnk'),\n",
       " ('35', 'Aries', 'Technology', 'male'),\n",
       " ('24', 'Scorpio', 'female', 'indUnk'),\n",
       " ('41', 'Communications-Media', 'Libra', 'male'),\n",
       " ('35', 'Aries', 'Technology', 'male'),\n",
       " ('14', 'Aquarius', 'female', 'indUnk'),\n",
       " ('35', 'Aries', 'Technology', 'male'),\n",
       " ('35', 'Aries', 'Technology', 'male'),\n",
       " ('35', 'Aries', 'Technology', 'male'),\n",
       " ('35', 'Aries', 'Technology', 'male'),\n",
       " ('35', 'Aries', 'Technology', 'male'),\n",
       " ('35', 'Aries', 'Technology', 'male'),\n",
       " ('15', 'Leo', 'Student', 'male'),\n",
       " ('34', 'Sagittarius', 'female', 'indUnk'),\n",
       " ('35', 'Aries', 'Technology', 'male'),\n",
       " ('33', 'Aquarius', 'InvestmentBanking', 'male'),\n",
       " ('35', 'Aries', 'Technology', 'male'),\n",
       " ('35', 'Aries', 'Technology', 'male'),\n",
       " ('35', 'Aries', 'Technology', 'male'),\n",
       " ('24', 'Scorpio', 'female', 'indUnk'),\n",
       " ('15', 'Arts', 'Cancer', 'male'),\n",
       " ('33', 'Aquarius', 'InvestmentBanking', 'male'),\n",
       " ('35', 'Aries', 'Technology', 'male'),\n",
       " ('35', 'Aries', 'Technology', 'male'),\n",
       " ('34', 'Sagittarius', 'female', 'indUnk'),\n",
       " ('27', 'Aquarius', 'Education', 'female'),\n",
       " ('34', 'Scorpio', 'female', 'indUnk'),\n",
       " ('35', 'Aries', 'Technology', 'male'),\n",
       " ('17', 'Aquarius', 'indUnk', 'male'),\n",
       " ('15', 'Libra', 'Student', 'female'),\n",
       " ('23', 'Student', 'Taurus', 'female'),\n",
       " ('35', 'Aries', 'Technology', 'male'),\n",
       " ('27', 'Aquarius', 'Education', 'female'),\n",
       " ('34', 'Sagittarius', 'female', 'indUnk'),\n",
       " ('35', 'Aries', 'Technology', 'male'),\n",
       " ('35', 'Aries', 'Technology', 'male'),\n",
       " ('15', 'Libra', 'Student', 'female'),\n",
       " ('35', 'Gemini', 'female', 'indUnk'),\n",
       " ('15', 'Libra', 'Science', 'male'),\n",
       " ('34', 'Sagittarius', 'female', 'indUnk'),\n",
       " ('17', 'Scorpio', 'female', 'indUnk'),\n",
       " ('35', 'Aries', 'Technology', 'male'),\n",
       " ('15', 'Aquarius', 'Student', 'female'),\n",
       " ('35', 'Aries', 'Technology', 'male'),\n",
       " ('14', 'Scorpio', 'indUnk', 'male'),\n",
       " ('24', 'Scorpio', 'female', 'indUnk'),\n",
       " ('36', 'Pisces', 'female', 'indUnk'),\n",
       " ('35', 'Aries', 'Technology', 'male'),\n",
       " ('17', 'Scorpio', 'female', 'indUnk'),\n",
       " ('34', 'Sagittarius', 'female', 'indUnk'),\n",
       " ('17', 'Scorpio', 'female', 'indUnk'),\n",
       " ('35', 'Aries', 'Technology', 'male'),\n",
       " ('24', 'Scorpio', 'female', 'indUnk'),\n",
       " ('35', 'Aries', 'Technology', 'male'),\n",
       " ('42', 'Consulting', 'Leo', 'female'),\n",
       " ('27', 'Aquarius', 'Education', 'female'),\n",
       " ('35', 'Aries', 'Technology', 'male'),\n",
       " ('27', 'Aquarius', 'Education', 'female'),\n",
       " ('39', 'Education', 'Virgo', 'male'),\n",
       " ('26', 'Leo', 'indUnk', 'male'),\n",
       " ('35', 'Aries', 'Technology', 'male'),\n",
       " ('35', 'Aries', 'Technology', 'male'),\n",
       " ('35', 'Aries', 'Technology', 'male'),\n",
       " ('24', 'Engineering', 'Libra', 'male'),\n",
       " ('25', 'Cancer', 'Non-Profit', 'male'),\n",
       " ('33', 'Leo', 'female', 'indUnk'),\n",
       " ('35', 'Aries', 'Technology', 'male'),\n",
       " ('15', 'Libra', 'Student', 'female'),\n",
       " ('14', 'Scorpio', 'indUnk', 'male'),\n",
       " ('35', 'Aries', 'Technology', 'male'),\n",
       " ('24', 'Engineering', 'Libra', 'male'),\n",
       " ('34', 'Sagittarius', 'female', 'indUnk'),\n",
       " ('14', 'Scorpio', 'indUnk', 'male'),\n",
       " ('15', 'Libra', 'Science', 'male'),\n",
       " ('35', 'Aries', 'Technology', 'male'),\n",
       " ('34', 'Sagittarius', 'female', 'indUnk'),\n",
       " ('34', 'Sagittarius', 'female', 'indUnk'),\n",
       " ('34', 'Sagittarius', 'female', 'indUnk'),\n",
       " ('35', 'Aries', 'Technology', 'male'),\n",
       " ('35', 'Aries', 'Technology', 'male'),\n",
       " ('35', 'Aries', 'Technology', 'male'),\n",
       " ('35', 'Aries', 'Technology', 'male'),\n",
       " ('35', 'Gemini', 'female', 'indUnk'),\n",
       " ('17', 'Aquarius', 'indUnk', 'male'),\n",
       " ('39', 'Communications-Media', 'Libra', 'male'),\n",
       " ('23', 'Sagittarius', 'indUnk', 'male'),\n",
       " ('34', 'Sagittarius', 'female', 'indUnk'),\n",
       " ('35', 'Aries', 'Technology', 'male'),\n",
       " ('27', 'Aquarius', 'Education', 'female'),\n",
       " ('15', 'Libra', 'Science', 'male'),\n",
       " ('35', 'Aries', 'Technology', 'male'),\n",
       " ('35', 'Aries', 'Technology', 'male'),\n",
       " ('35', 'Aries', 'Technology', 'male'),\n",
       " ('24', 'Engineering', 'Libra', 'male'),\n",
       " ('26', 'Leo', 'indUnk', 'male'),\n",
       " ('35', 'Aries', 'Technology', 'male'),\n",
       " ('35', 'Aries', 'Technology', 'male'),\n",
       " ('17', 'Capricorn', 'Sports-Recreation', 'male'),\n",
       " ('35', 'Aries', 'Technology', 'male'),\n",
       " ('35', 'Aries', 'Technology', 'male'),\n",
       " ('15', 'Aquarius', 'Student', 'female'),\n",
       " ('35', 'Aries', 'Technology', 'male'),\n",
       " ('17', 'Scorpio', 'female', 'indUnk'),\n",
       " ('35', 'Aries', 'Technology', 'male'),\n",
       " ('16', 'Taurus', 'female', 'indUnk'),\n",
       " ('25', 'Leo', 'Student', 'female'),\n",
       " ('17', 'Scorpio', 'female', 'indUnk'),\n",
       " ('39', 'Communications-Media', 'Libra', 'male'),\n",
       " ('35', 'Aries', 'Technology', 'male'),\n",
       " ('35', 'Aries', 'Technology', 'male'),\n",
       " ('24', 'Engineering', 'Libra', 'male'),\n",
       " ('23', 'Sagittarius', 'indUnk', 'male'),\n",
       " ('14', 'Pisces', 'Student', 'male'),\n",
       " ('15', 'Libra', 'Student', 'female'),\n",
       " ('15', 'Aries', 'female', 'indUnk'),\n",
       " ('25', 'BusinessServices', 'Sagittarius', 'male'),\n",
       " ('25', 'BusinessServices', 'Sagittarius', 'male'),\n",
       " ('34', 'Sagittarius', 'female', 'indUnk'),\n",
       " ('35', 'Aries', 'Technology', 'male'),\n",
       " ('14', 'Aries', 'female', 'indUnk'),\n",
       " ('35', 'Aries', 'Technology', 'male'),\n",
       " ('35', 'Aries', 'Technology', 'male'),\n",
       " ('35', 'Aries', 'Technology', 'male'),\n",
       " ('35', 'Aries', 'Technology', 'male'),\n",
       " ('17', 'Leo', 'Student', 'female'),\n",
       " ('27', 'Aquarius', 'Education', 'female'),\n",
       " ('34', 'Sagittarius', 'female', 'indUnk'),\n",
       " ('35', 'Aries', 'Technology', 'male'),\n",
       " ('26', 'Gemini', 'indUnk', 'male'),\n",
       " ('35', 'Aries', 'Technology', 'male'),\n",
       " ('15', 'Libra', 'Student', 'female'),\n",
       " ('35', 'Aries', 'Technology', 'male'),\n",
       " ('35', 'Aries', 'Technology', 'male'),\n",
       " ('15', 'Arts', 'Cancer', 'male'),\n",
       " ('34', 'Sagittarius', 'female', 'indUnk'),\n",
       " ('14', 'Scorpio', 'Student', 'male'),\n",
       " ('15', 'Leo', 'Student', 'female'),\n",
       " ('17', 'Scorpio', 'female', 'indUnk'),\n",
       " ('17', 'Sagittarius', 'Student', 'male'),\n",
       " ('34', 'Sagittarius', 'female', 'indUnk'),\n",
       " ('35', 'Aries', 'Technology', 'male'),\n",
       " ('34', 'Sagittarius', 'female', 'indUnk'),\n",
       " ('35', 'Aries', 'Technology', 'male'),\n",
       " ('35', 'Aries', 'Technology', 'male'),\n",
       " ('34', 'Sagittarius', 'female', 'indUnk'),\n",
       " ('14', 'Scorpio', 'Student', 'male'),\n",
       " ('35', 'Aries', 'Technology', 'male'),\n",
       " ('35', 'Aries', 'Technology', 'male'),\n",
       " ('26', 'Sagittarius', 'Science', 'female'),\n",
       " ('15', 'Aquarius', 'Student', 'male'),\n",
       " ('17', 'Leo', 'Student', 'female'),\n",
       " ('24', 'BusinessServices', 'Cancer', 'male'),\n",
       " ('34', 'Sagittarius', 'female', 'indUnk'),\n",
       " ('35', 'Aries', 'Technology', 'male'),\n",
       " ('35', 'Aries', 'Technology', 'male'),\n",
       " ('35', 'Aries', 'Technology', 'male'),\n",
       " ('17', 'Leo', 'Student', 'female'),\n",
       " ('17', 'Sagittarius', 'Student', 'male'),\n",
       " ('45', 'Sagittarius', 'female', 'indUnk'),\n",
       " ('14', 'Scorpio', 'indUnk', 'male'),\n",
       " ('35', 'Aries', 'Technology', 'male'),\n",
       " ('35', 'Aries', 'Technology', 'male'),\n",
       " ('15', 'Libra', 'Student', 'female'),\n",
       " ('35', 'Aries', 'Technology', 'male'),\n",
       " ('35', 'Aries', 'Technology', 'male'),\n",
       " ('14', 'Leo', 'Student', 'male'),\n",
       " ('25', 'Cancer', 'Non-Profit', 'male'),\n",
       " ('27', 'Aquarius', 'Education', 'female'),\n",
       " ('26', 'Libra', 'female', 'indUnk'),\n",
       " ('25', 'Libra', 'female', 'indUnk'),\n",
       " ('14', 'Aries', 'female', 'indUnk'),\n",
       " ('15', 'Libra', 'Student', 'female'),\n",
       " ('35', 'Aries', 'Technology', 'male'),\n",
       " ('33', 'Law', 'Leo', 'female'),\n",
       " ('35', 'Aries', 'Technology', 'male'),\n",
       " ('35', 'Aries', 'Technology', 'male'),\n",
       " ('27', 'Aquarius', 'Education', 'female'),\n",
       " ('42', 'Consulting', 'Leo', 'female'),\n",
       " ('17', 'Scorpio', 'female', 'indUnk'),\n",
       " ('15', 'Libra', 'Student', 'female'),\n",
       " ('35', 'Aries', 'Technology', 'male'),\n",
       " ('24', 'Scorpio', 'female', 'indUnk'),\n",
       " ('15', 'Libra', 'Student', 'female'),\n",
       " ('26', 'Gemini', 'indUnk', 'male'),\n",
       " ('34', 'Sagittarius', 'female', 'indUnk'),\n",
       " ('27', 'Aquarius', 'Education', 'female'),\n",
       " ('35', 'Aries', 'Technology', 'male'),\n",
       " ('35', 'Aries', 'Technology', 'male'),\n",
       " ('17', 'Scorpio', 'female', 'indUnk'),\n",
       " ('26', 'Gemini', 'indUnk', 'male'),\n",
       " ('35', 'Aries', 'Technology', 'male'),\n",
       " ('17', 'Capricorn', 'Sports-Recreation', 'male'),\n",
       " ('23', 'Libra', 'female', 'indUnk'),\n",
       " ('34', 'Sagittarius', 'female', 'indUnk'),\n",
       " ('24', 'Scorpio', 'female', 'indUnk'),\n",
       " ('35', 'Aries', 'Technology', 'male'),\n",
       " ('15', 'Libra', 'Student', 'female'),\n",
       " ('35', 'Aries', 'Technology', 'male'),\n",
       " ('17', 'Scorpio', 'female', 'indUnk'),\n",
       " ('14', 'Aries', 'female', 'indUnk'),\n",
       " ('14', 'Cancer', 'female', 'indUnk'),\n",
       " ('35', 'Aries', 'Technology', 'male'),\n",
       " ('34', 'Sagittarius', 'female', 'indUnk'),\n",
       " ('35', 'Aries', 'Technology', 'male'),\n",
       " ('24', 'Scorpio', 'female', 'indUnk'),\n",
       " ('35', 'Aries', 'Technology', 'male'),\n",
       " ('27', 'Aquarius', 'Education', 'female'),\n",
       " ('34', 'Sagittarius', 'female', 'indUnk'),\n",
       " ('24', 'Scorpio', 'female', 'indUnk'),\n",
       " ('33', 'Aquarius', 'InvestmentBanking', 'male'),\n",
       " ('35', 'Aries', 'Technology', 'male'),\n",
       " ('35', 'Aries', 'Technology', 'male'),\n",
       " ('35', 'Aries', 'Technology', 'male'),\n",
       " ('15', 'Libra', 'Student', 'female'),\n",
       " ('35', 'Aries', 'Technology', 'male'),\n",
       " ('35', 'Aries', 'Technology', 'male'),\n",
       " ('34', 'Sagittarius', 'female', 'indUnk'),\n",
       " ('35', 'Aries', 'Technology', 'male'),\n",
       " ('15', 'Cancer', 'Student', 'female'),\n",
       " ('26', 'Gemini', 'indUnk', 'male'),\n",
       " ('34', 'Sagittarius', 'female', 'indUnk'),\n",
       " ('35', 'Aries', 'Technology', 'male'),\n",
       " ('14', 'Aries', 'female', 'indUnk'),\n",
       " ('35', 'Aries', 'Technology', 'male'),\n",
       " ('34', 'Sagittarius', 'female', 'indUnk'),\n",
       " ('35', 'Aries', 'Technology', 'male'),\n",
       " ('35', 'Aries', 'Technology', 'male'),\n",
       " ('23', 'Aquarius', 'Automotive', 'female'),\n",
       " ('35', 'Aries', 'Technology', 'male'),\n",
       " ('35', 'Aries', 'Technology', 'male'),\n",
       " ('34', 'Sagittarius', 'female', 'indUnk'),\n",
       " ('33', 'Aquarius', 'InvestmentBanking', 'male'),\n",
       " ('35', 'Aries', 'Technology', 'male'),\n",
       " ('23', 'Student', 'Taurus', 'female'),\n",
       " ('35', 'Aries', 'Technology', 'male'),\n",
       " ('24', 'Scorpio', 'female', 'indUnk'),\n",
       " ('35', 'Aries', 'Technology', 'male'),\n",
       " ('35', 'Aries', 'Technology', 'male'),\n",
       " ('34', 'Sagittarius', 'female', 'indUnk'),\n",
       " ('34', 'Sagittarius', 'female', 'indUnk'),\n",
       " ('34', 'Sagittarius', 'female', 'indUnk'),\n",
       " ('34', 'Sagittarius', 'female', 'indUnk'),\n",
       " ('25', 'Aries', 'Technology', 'male'),\n",
       " ('23', 'Libra', 'female', 'indUnk'),\n",
       " ('34', 'Sagittarius', 'female', 'indUnk'),\n",
       " ('35', 'Aries', 'Technology', 'male'),\n",
       " ('27', 'Aquarius', 'Education', 'female'),\n",
       " ('33', 'Sagittarius', 'Technology', 'male'),\n",
       " ('15', 'Aquarius', 'Student', 'male'),\n",
       " ('35', 'Aries', 'Technology', 'male'),\n",
       " ('34', 'Sagittarius', 'female', 'indUnk'),\n",
       " ('24', 'Scorpio', 'female', 'indUnk'),\n",
       " ('35', 'Aries', 'Technology', 'male'),\n",
       " ('15', 'Libra', 'Student', 'female'),\n",
       " ('35', 'Aries', 'Technology', 'male'),\n",
       " ('23', 'Sagittarius', 'indUnk', 'male'),\n",
       " ('14', 'Leo', 'Student', 'male'),\n",
       " ('17', 'Scorpio', 'female', 'indUnk'),\n",
       " ('35', 'Aries', 'Technology', 'male'),\n",
       " ('35', 'Aries', 'Technology', 'male'),\n",
       " ('35', 'Aries', 'Technology', 'male'),\n",
       " ('35', 'Aries', 'Technology', 'male'),\n",
       " ('34', 'Sagittarius', 'female', 'indUnk'),\n",
       " ('17', 'Gemini', 'Student', 'female'),\n",
       " ('35', 'Aries', 'Technology', 'male'),\n",
       " ('35', 'Aries', 'Technology', 'male'),\n",
       " ('34', 'Sagittarius', 'female', 'indUnk'),\n",
       " ('14', 'Pisces', 'Student', 'male'),\n",
       " ('24', 'BusinessServices', 'Leo', 'male'),\n",
       " ('35', 'Aries', 'Technology', 'male'),\n",
       " ('35', 'Aries', 'Technology', 'male'),\n",
       " ('35', 'Aries', 'Technology', 'male'),\n",
       " ('33', 'Aquarius', 'InvestmentBanking', 'male'),\n",
       " ('37', 'Aquarius', 'female', 'indUnk'),\n",
       " ('34', 'Sagittarius', 'female', 'indUnk'),\n",
       " ('35', 'Aries', 'Technology', 'male'),\n",
       " ('34', 'Sagittarius', 'female', 'indUnk'),\n",
       " ('34', 'Sagittarius', 'female', 'indUnk'),\n",
       " ('17', 'Sagittarius', 'Student', 'male'),\n",
       " ('45', 'Sagittarius', 'female', 'indUnk'),\n",
       " ('35', 'Aries', 'Technology', 'male'),\n",
       " ('34', 'Sagittarius', 'female', 'indUnk'),\n",
       " ('35', 'Aries', 'Technology', 'male'),\n",
       " ('14', 'Aries', 'female', 'indUnk'),\n",
       " ('17', 'Capricorn', 'Sports-Recreation', 'male'),\n",
       " ('24', 'Scorpio', 'female', 'indUnk'),\n",
       " ('35', 'Aries', 'Technology', 'male'),\n",
       " ('26', 'Leo', 'indUnk', 'male'),\n",
       " ('35', 'Aries', 'Technology', 'male'),\n",
       " ('23', 'Student', 'Taurus', 'female'),\n",
       " ('34', 'Sagittarius', 'female', 'indUnk'),\n",
       " ('27', 'Aquarius', 'Education', 'female'),\n",
       " ('35', 'Aries', 'Technology', 'male'),\n",
       " ('35', 'Aries', 'Technology', 'male'),\n",
       " ('35', 'Aries', 'Technology', 'male'),\n",
       " ('35', 'Aries', 'Technology', 'male'),\n",
       " ('34', 'Sagittarius', 'female', 'indUnk'),\n",
       " ('16', 'Taurus', 'female', 'indUnk'),\n",
       " ('35', 'Aries', 'Technology', 'male'),\n",
       " ('15', 'Libra', 'Science', 'male'),\n",
       " ('24', 'Scorpio', 'female', 'indUnk'),\n",
       " ('35', 'Aries', 'Technology', 'male'),\n",
       " ('27', 'Aquarius', 'Education', 'female'),\n",
       " ('35', 'Aries', 'Technology', 'male'),\n",
       " ('35', 'Aries', 'Technology', 'male'),\n",
       " ('15', 'Libra', 'Student', 'female'),\n",
       " ('35', 'Aries', 'Technology', 'male'),\n",
       " ('35', 'Aries', 'Technology', 'male'),\n",
       " ('15', 'Libra', 'Student', 'female'),\n",
       " ('35', 'Aries', 'Technology', 'male'),\n",
       " ('35', 'Aries', 'Technology', 'male'),\n",
       " ('26', 'Leo', 'indUnk', 'male'),\n",
       " ('17', 'Capricorn', 'Sports-Recreation', 'male'),\n",
       " ('35', 'Aries', 'Technology', 'male'),\n",
       " ('24', 'Engineering', 'Libra', 'male'),\n",
       " ('35', 'Aries', 'Technology', 'male'),\n",
       " ('33', 'Aquarius', 'InvestmentBanking', 'male'),\n",
       " ('17', 'Leo', 'Student', 'female'),\n",
       " ('17', 'Scorpio', 'female', 'indUnk'),\n",
       " ('16', 'Gemini', 'indUnk', 'male'),\n",
       " ('35', 'Aries', 'Technology', 'male'),\n",
       " ('34', 'Sagittarius', 'female', 'indUnk'),\n",
       " ('35', 'Aries', 'Technology', 'male'),\n",
       " ('35', 'Aries', 'Technology', 'male'),\n",
       " ('34', 'Sagittarius', 'female', 'indUnk'),\n",
       " ('35', 'Aries', 'Technology', 'male'),\n",
       " ('33', 'Aquarius', 'InvestmentBanking', 'male'),\n",
       " ('24', 'Scorpio', 'female', 'indUnk'),\n",
       " ('35', 'Aries', 'Technology', 'male'),\n",
       " ('35', 'Aries', 'Technology', 'male'),\n",
       " ('27', 'Aquarius', 'Education', 'female'),\n",
       " ('14', 'Scorpio', 'indUnk', 'male'),\n",
       " ('34', 'Sagittarius', 'female', 'indUnk'),\n",
       " ('35', 'Aries', 'Technology', 'male'),\n",
       " ('35', 'Aries', 'Technology', 'male'),\n",
       " ('24', 'Engineering', 'Libra', 'male'),\n",
       " ('35', 'Aries', 'Technology', 'male'),\n",
       " ('24', 'Engineering', 'Libra', 'male'),\n",
       " ('35', 'Aries', 'Technology', 'male'),\n",
       " ('25', 'Aries', 'Technology', 'male'),\n",
       " ('37', 'Aquarius', 'female', 'indUnk'),\n",
       " ('15', 'Aquarius', 'Student', 'female'),\n",
       " ('25', 'Cancer', 'Non-Profit', 'male'),\n",
       " ('35', 'Aries', 'Technology', 'male'),\n",
       " ('35', 'Aries', 'Technology', 'male'),\n",
       " ('35', 'Aries', 'Technology', 'male'),\n",
       " ('35', 'Aries', 'Technology', 'male'),\n",
       " ('35', 'Aries', 'Technology', 'male'),\n",
       " ('35', 'Aries', 'Technology', 'male'),\n",
       " ('35', 'Aries', 'Technology', 'male'),\n",
       " ('17', 'Capricorn', 'Sports-Recreation', 'male'),\n",
       " ('15', 'Libra', 'Science', 'male'),\n",
       " ('23', 'Taurus', 'indUnk', 'male'),\n",
       " ('35', 'Aries', 'Technology', 'male'),\n",
       " ('35', 'Aries', 'Technology', 'male'),\n",
       " ('16', 'Taurus', 'female', 'indUnk'),\n",
       " ('35', 'Aries', 'Technology', 'male'),\n",
       " ('35', 'Aries', 'Technology', 'male'),\n",
       " ('35', 'Aries', 'Technology', 'male'),\n",
       " ('35', 'Aries', 'Technology', 'male'),\n",
       " ('35', 'Aries', 'Technology', 'male'),\n",
       " ('39', 'Education', 'Virgo', 'male'),\n",
       " ('24', 'Engineering', 'Libra', 'male'),\n",
       " ('35', 'Aries', 'Technology', 'male'),\n",
       " ('35', 'Aries', 'Technology', 'male'),\n",
       " ('35', 'Aries', 'Technology', 'male'),\n",
       " ('14', 'Scorpio', 'indUnk', 'male'),\n",
       " ('35', 'Aries', 'Technology', 'male'),\n",
       " ('35', 'Aries', 'Technology', 'male'),\n",
       " ('34', 'Sagittarius', 'female', 'indUnk'),\n",
       " ('34', 'Sagittarius', 'female', 'indUnk'),\n",
       " ('35', 'Aries', 'Technology', 'male'),\n",
       " ('15', 'Aquarius', 'Student', 'female'),\n",
       " ('24', 'Scorpio', 'female', 'indUnk'),\n",
       " ('24', 'Scorpio', 'female', 'indUnk'),\n",
       " ('34', 'Sagittarius', 'female', 'indUnk'),\n",
       " ('35', 'Aries', 'Technology', 'male'),\n",
       " ('35', 'Aries', 'Technology', 'male'),\n",
       " ('23', 'Libra', 'female', 'indUnk'),\n",
       " ('16', 'Taurus', 'female', 'indUnk'),\n",
       " ('35', 'Aries', 'Technology', 'male'),\n",
       " ('35', 'Aries', 'Technology', 'male'),\n",
       " ('34', 'Sagittarius', 'female', 'indUnk'),\n",
       " ('35', 'Aries', 'Technology', 'male'),\n",
       " ('35', 'Aries', 'Technology', 'male'),\n",
       " ('34', 'Sagittarius', 'female', 'indUnk'),\n",
       " ('24', 'Engineering', 'Libra', 'male'),\n",
       " ('24', 'Engineering', 'Libra', 'male'),\n",
       " ('35', 'Aries', 'Technology', 'male'),\n",
       " ('23', 'Sagittarius', 'indUnk', 'male'),\n",
       " ('35', 'Aries', 'Technology', 'male'),\n",
       " ('15', 'Libra', 'Student', 'female'),\n",
       " ('25', 'Aries', 'Technology', 'male'),\n",
       " ('16', 'Taurus', 'female', 'indUnk'),\n",
       " ('15', 'Aquarius', 'Student', 'female'),\n",
       " ('35', 'Aries', 'Technology', 'male'),\n",
       " ('39', 'Communications-Media', 'Libra', 'male'),\n",
       " ('35', 'Aries', 'Technology', 'male'),\n",
       " ('35', 'Aries', 'Technology', 'male'),\n",
       " ('15', 'Aquarius', 'Student', 'male'),\n",
       " ('34', 'Sagittarius', 'female', 'indUnk'),\n",
       " ('15', 'Libra', 'Student', 'female'),\n",
       " ('24', 'Scorpio', 'female', 'indUnk'),\n",
       " ('35', 'Aries', 'Technology', 'male'),\n",
       " ('34', 'Sagittarius', 'female', 'indUnk'),\n",
       " ('35', 'Aries', 'Technology', 'male'),\n",
       " ('35', 'Aries', 'Technology', 'male'),\n",
       " ('35', 'Aries', 'Technology', 'male'),\n",
       " ('39', 'Education', 'Virgo', 'male'),\n",
       " ('35', 'Aries', 'Technology', 'male'),\n",
       " ('23', 'Sagittarius', 'indUnk', 'male'),\n",
       " ('15', 'Aries', 'female', 'indUnk'),\n",
       " ('24', 'Scorpio', 'female', 'indUnk'),\n",
       " ('35', 'Aries', 'Technology', 'male'),\n",
       " ('17', 'Capricorn', 'Sports-Recreation', 'male'),\n",
       " ('24', 'Scorpio', 'female', 'indUnk'),\n",
       " ('15', 'Libra', 'Science', 'male'),\n",
       " ('34', 'Sagittarius', 'female', 'indUnk'),\n",
       " ('35', 'Aries', 'Technology', 'male'),\n",
       " ('17', 'Scorpio', 'female', 'indUnk'),\n",
       " ('35', 'Aries', 'Technology', 'male'),\n",
       " ('34', 'Sagittarius', 'female', 'indUnk'),\n",
       " ('15', 'Libra', 'Student', 'female'),\n",
       " ('35', 'Aries', 'Technology', 'male'),\n",
       " ('15', 'Libra', 'Student', 'female'),\n",
       " ('35', 'Aries', 'Technology', 'male'),\n",
       " ('41', 'Communications-Media', 'Libra', 'male'),\n",
       " ('35', 'Aries', 'Technology', 'male'),\n",
       " ('14', 'Scorpio', 'indUnk', 'male'),\n",
       " ('34', 'Sagittarius', 'female', 'indUnk'),\n",
       " ('34', 'Sagittarius', 'female', 'indUnk'),\n",
       " ('35', 'Aries', 'Technology', 'male'),\n",
       " ('35', 'Aries', 'Technology', 'male'),\n",
       " ('35', 'Aries', 'Technology', 'male'),\n",
       " ('15', 'Aquarius', 'Student', 'female'),\n",
       " ('35', 'Aries', 'Technology', 'male'),\n",
       " ('24', 'Scorpio', 'female', 'indUnk'),\n",
       " ('35', 'Aries', 'Technology', 'male'),\n",
       " ('27', 'Aquarius', 'Education', 'female'),\n",
       " ('35', 'Aries', 'Technology', 'male'),\n",
       " ('26', 'Gemini', 'indUnk', 'male'),\n",
       " ('15', 'Libra', 'Student', 'female'),\n",
       " ('35', 'Aries', 'Technology', 'male'),\n",
       " ('39', 'Communications-Media', 'Libra', 'male'),\n",
       " ('23', 'Libra', 'female', 'indUnk'),\n",
       " ('35', 'Aries', 'Technology', 'male'),\n",
       " ('35', 'Aries', 'Technology', 'male'),\n",
       " ('35', 'Aries', 'Technology', 'male'),\n",
       " ('35', 'Aries', 'Technology', 'male'),\n",
       " ('35', 'Aries', 'Technology', 'male'),\n",
       " ('35', 'Aries', 'Technology', 'male'),\n",
       " ('35', 'Aries', 'Technology', 'male'),\n",
       " ('34', 'Sagittarius', 'female', 'indUnk'),\n",
       " ('39', 'Education', 'Virgo', 'male'),\n",
       " ('35', 'Aries', 'Technology', 'male'),\n",
       " ('25', 'Cancer', 'Non-Profit', 'male'),\n",
       " ('23', 'Libra', 'female', 'indUnk'),\n",
       " ('35', 'Aries', 'Technology', 'male'),\n",
       " ('35', 'Aries', 'Technology', 'male'),\n",
       " ('24', 'Engineering', 'Libra', 'male'),\n",
       " ('35', 'Aries', 'Technology', 'male'),\n",
       " ('34', 'Sagittarius', 'female', 'indUnk'),\n",
       " ('35', 'Aries', 'Technology', 'male'),\n",
       " ('34', 'Sagittarius', 'female', 'indUnk'),\n",
       " ('35', 'Aries', 'Technology', 'male'),\n",
       " ('34', 'Sagittarius', 'female', 'indUnk'),\n",
       " ('25', 'BusinessServices', 'Sagittarius', 'male'),\n",
       " ('26', 'Gemini', 'indUnk', 'male'),\n",
       " ('25', 'Aries', 'BusinessServices', 'female'),\n",
       " ('35', 'Aries', 'Technology', 'male'),\n",
       " ('35', 'Aries', 'Technology', 'male'),\n",
       " ('25', 'Student', 'Taurus', 'female'),\n",
       " ('24', 'Scorpio', 'female', 'indUnk'),\n",
       " ('35', 'Aries', 'Technology', 'male'),\n",
       " ('15', 'Arts', 'Cancer', 'male'),\n",
       " ('34', 'Sagittarius', 'female', 'indUnk'),\n",
       " ('35', 'Aries', 'Technology', 'male'),\n",
       " ('15', 'Libra', 'Student', 'female'),\n",
       " ('23', 'Student', 'Taurus', 'female'),\n",
       " ('34', 'Sagittarius', 'female', 'indUnk'),\n",
       " ('27', 'Aquarius', 'Education', 'female'),\n",
       " ('35', 'Aries', 'Technology', 'male'),\n",
       " ('16', 'BusinessServices', 'Sagittarius', 'male'),\n",
       " ('35', 'Aries', 'Technology', 'male'),\n",
       " ('14', 'Leo', 'Student', 'male'),\n",
       " ('34', 'Sagittarius', 'female', 'indUnk'),\n",
       " ('35', 'Aries', 'Technology', 'male'),\n",
       " ('35', 'Aries', 'Technology', 'male'),\n",
       " ('27', 'Aquarius', 'Education', 'female'),\n",
       " ('14', 'Scorpio', 'indUnk', 'male'),\n",
       " ('17', 'Scorpio', 'female', 'indUnk'),\n",
       " ('15', 'Aquarius', 'Student', 'male'),\n",
       " ('39', 'Communications-Media', 'Libra', 'male'),\n",
       " ('35', 'Aries', 'Technology', 'male'),\n",
       " ('35', 'Aries', 'Technology', 'male'),\n",
       " ('35', 'Aries', 'Technology', 'male'),\n",
       " ('35', 'Aries', 'Technology', 'male'),\n",
       " ('33', 'Aquarius', 'Banking', 'female'),\n",
       " ('35', 'Aries', 'Technology', 'male'),\n",
       " ('35', 'Aries', 'Technology', 'male'),\n",
       " ('15', 'Aries', 'female', 'indUnk'),\n",
       " ('35', 'Aries', 'Technology', 'male'),\n",
       " ('17', 'Leo', 'Student', 'female'),\n",
       " ('27', 'Aquarius', 'Education', 'female'),\n",
       " ('24', 'Scorpio', 'female', 'indUnk'),\n",
       " ('23', 'Libra', 'female', 'indUnk'),\n",
       " ('35', 'Aries', 'Technology', 'male'),\n",
       " ('35', 'Aries', 'Technology', 'male'),\n",
       " ('35', 'Aries', 'Technology', 'male'),\n",
       " ('33', 'Aquarius', 'InvestmentBanking', 'male'),\n",
       " ('34', 'Sagittarius', 'female', 'indUnk'),\n",
       " ('35', 'Aries', 'Technology', 'male'),\n",
       " ('35', 'Aries', 'Technology', 'male'),\n",
       " ('35', 'Aries', 'Technology', 'male'),\n",
       " ('35', 'Aries', 'Technology', 'male'),\n",
       " ('25', 'Aries', 'Technology', 'male'),\n",
       " ('14', 'Leo', 'Student', 'male'),\n",
       " ('17', 'Capricorn', 'Sports-Recreation', 'male'),\n",
       " ('14', 'Leo', 'female', 'indUnk'),\n",
       " ('27', 'Aquarius', 'Education', 'female'),\n",
       " ('17', 'Scorpio', 'female', 'indUnk'),\n",
       " ('23', 'Taurus', 'indUnk', 'male'),\n",
       " ('24', 'Scorpio', 'female', 'indUnk'),\n",
       " ('35', 'Aries', 'Technology', 'male'),\n",
       " ('24', 'Scorpio', 'female', 'indUnk'),\n",
       " ('15', 'Aries', 'female', 'indUnk'),\n",
       " ('35', 'Aries', 'Technology', 'male'),\n",
       " ('35', 'Aries', 'Technology', 'male'),\n",
       " ('35', 'Aries', 'Technology', 'male'),\n",
       " ('15', 'Aquarius', 'Student', 'female'),\n",
       " ('34', 'Sagittarius', 'female', 'indUnk'),\n",
       " ('24', 'Scorpio', 'female', 'indUnk'),\n",
       " ('35', 'Aries', 'Technology', 'male'),\n",
       " ('34', 'Sagittarius', 'female', 'indUnk'),\n",
       " ('35', 'Aries', 'Technology', 'male'),\n",
       " ('34', 'Sagittarius', 'female', 'indUnk'),\n",
       " ('35', 'Aries', 'Technology', 'male'),\n",
       " ('36', 'Pisces', 'female', 'indUnk'),\n",
       " ('24', 'BusinessServices', 'Cancer', 'male'),\n",
       " ('35', 'Aries', 'Technology', 'male'),\n",
       " ('35', 'Aries', 'Technology', 'male'),\n",
       " ('35', 'Aries', 'Technology', 'male'),\n",
       " ('35', 'Aries', 'Technology', 'male'),\n",
       " ('34', 'Sagittarius', 'female', 'indUnk'),\n",
       " ('35', 'Aries', 'Technology', 'male'),\n",
       " ('35', 'Aries', 'Technology', 'male'),\n",
       " ('35', 'Aries', 'Technology', 'male'),\n",
       " ('24', 'BusinessServices', 'Cancer', 'male'),\n",
       " ('17', 'Capricorn', 'Sports-Recreation', 'male'),\n",
       " ('17', 'Capricorn', 'Sports-Recreation', 'male'),\n",
       " ('25', 'BusinessServices', 'Sagittarius', 'male'),\n",
       " ('15', 'Aquarius', 'Student', 'female'),\n",
       " ('34', 'Sagittarius', 'female', 'indUnk'),\n",
       " ('34', 'Sagittarius', 'female', 'indUnk'),\n",
       " ('15', 'Libra', 'Student', 'female'),\n",
       " ('25', 'Aries', 'Technology', 'male'),\n",
       " ('17', 'Aquarius', 'indUnk', 'male'),\n",
       " ('24', 'BusinessServices', 'Cancer', 'male'),\n",
       " ('34', 'Sagittarius', 'female', 'indUnk'),\n",
       " ('36', 'Pisces', 'female', 'indUnk'),\n",
       " ('25', 'Cancer', 'Non-Profit', 'male'),\n",
       " ('15', 'Libra', 'Student', 'female'),\n",
       " ('35', 'Aries', 'Technology', 'male'),\n",
       " ('24', 'Scorpio', 'female', 'indUnk'),\n",
       " ('35', 'Aries', 'Technology', 'male'),\n",
       " ('35', 'Aries', 'Technology', 'male'),\n",
       " ('15', 'Libra', 'Science', 'male'),\n",
       " ('34', 'Virgo', 'female', 'indUnk'),\n",
       " ('35', 'Aries', 'Technology', 'male'),\n",
       " ('34', 'Sagittarius', 'female', 'indUnk'),\n",
       " ('35', 'Aries', 'Technology', 'male'),\n",
       " ('23', 'Taurus', 'indUnk', 'male'),\n",
       " ('35', 'Aries', 'Technology', 'male'),\n",
       " ('35', 'Aries', 'Technology', 'male'),\n",
       " ('35', 'Aries', 'Technology', 'male'),\n",
       " ('35', 'Aries', 'Technology', 'male'),\n",
       " ('14', 'Aries', 'female', 'indUnk'),\n",
       " ('27', 'Aquarius', 'Education', 'female'),\n",
       " ('34', 'Sagittarius', 'female', 'indUnk'),\n",
       " ('35', 'Aries', 'Technology', 'male'),\n",
       " ('15', 'Leo', 'Student', 'female'),\n",
       " ('17', 'Scorpio', 'female', 'indUnk'),\n",
       " ('35', 'Aries', 'Technology', 'male'),\n",
       " ('35', 'Aries', 'Technology', 'male'),\n",
       " ('25', 'Aries', 'Internet', 'male'),\n",
       " ('35', 'Aries', 'Technology', 'male'),\n",
       " ('14', 'Scorpio', 'indUnk', 'male'),\n",
       " ('35', 'Aries', 'Technology', 'male'),\n",
       " ('15', 'Arts', 'Cancer', 'male'),\n",
       " ('35', 'Aries', 'Technology', 'male'),\n",
       " ('35', 'Aries', 'Technology', 'male'),\n",
       " ('15', 'Libra', 'Student', 'female'),\n",
       " ('35', 'Aries', 'Technology', 'male'),\n",
       " ('33', 'Aquarius', 'InvestmentBanking', 'male'),\n",
       " ('35', 'Aries', 'Technology', 'male'),\n",
       " ('35', 'Aries', 'Technology', 'male'),\n",
       " ('35', 'Aries', 'Technology', 'male'),\n",
       " ('35', 'Aries', 'Technology', 'male'),\n",
       " ('35', 'Aries', 'Technology', 'male'),\n",
       " ('35', 'Aries', 'Technology', 'male'),\n",
       " ('35', 'Aries', 'Technology', 'male'),\n",
       " ('35', 'Aries', 'Technology', 'male'),\n",
       " ('45', 'Sagittarius', 'female', 'indUnk'),\n",
       " ('35', 'Aries', 'Technology', 'male'),\n",
       " ('34', 'Sagittarius', 'female', 'indUnk'),\n",
       " ('35', 'Aries', 'Technology', 'male'),\n",
       " ('25', 'Libra', 'female', 'indUnk'),\n",
       " ('35', 'Aries', 'Technology', 'male'),\n",
       " ('35', 'Aries', 'Technology', 'male'),\n",
       " ('35', 'Aries', 'Technology', 'male'),\n",
       " ('35', 'Aries', 'Technology', 'male'),\n",
       " ('15', 'Aries', 'female', 'indUnk'),\n",
       " ('35', 'Aries', 'Technology', 'male'),\n",
       " ('35', 'Aries', 'Technology', 'male'),\n",
       " ('35', 'Aries', 'Technology', 'male'),\n",
       " ('24', 'Engineering', 'Libra', 'male'),\n",
       " ('17', 'Sagittarius', 'Student', 'male'),\n",
       " ('17', 'Aquarius', 'indUnk', 'male'),\n",
       " ('16', 'Libra', 'Student', 'female'),\n",
       " ('33', 'Law', 'Leo', 'female'),\n",
       " ('35', 'Aries', 'Technology', 'male'),\n",
       " ('15', 'Libra', 'Student', 'female'),\n",
       " ('35', 'Aries', 'Technology', 'male'),\n",
       " ('35', 'Aries', 'Technology', 'male'),\n",
       " ('35', 'Aries', 'Technology', 'male'),\n",
       " ...]"
      ]
     },
     "execution_count": 39,
     "metadata": {
      "tags": []
     },
     "output_type": "execute_result"
    }
   ],
   "source": [
    " binarizer.inverse_transform(df_bin_train)\n",
    " #df_bin_train"
   ]
  },
  {
   "cell_type": "code",
   "execution_count": 0,
   "metadata": {
    "colab": {},
    "colab_type": "code",
    "id": "6E2c_8OeBru_"
   },
   "outputs": [],
   "source": [
    "from sklearn.feature_extraction.text import CountVectorizer\n",
    "from sklearn.linear_model import LogisticRegression\n",
    "from sklearn.multiclass import OneVsRestClassifier\n",
    "from sklearn.pipeline import Pipeline\n",
    "from sklearn.naive_bayes import MultinomialNB"
   ]
  },
  {
   "cell_type": "code",
   "execution_count": 0,
   "metadata": {
    "colab": {},
    "colab_type": "code",
    "id": "LCW-q30Viv85"
   },
   "outputs": [],
   "source": []
  },
  {
   "cell_type": "markdown",
   "metadata": {
    "colab_type": "text",
    "id": "egVUzaXChPq5"
   },
   "source": [
    "**OnevsRest Classifier**"
   ]
  },
  {
   "cell_type": "code",
   "execution_count": 41,
   "metadata": {
    "colab": {
     "base_uri": "https://localhost:8080/",
     "height": 199
    },
    "colab_type": "code",
    "id": "tWDqeuyGBtNj",
    "outputId": "e7fac4a2-e637-4334-9673-d65740a030c1"
   },
   "outputs": [
    {
     "data": {
      "text/plain": [
       "OneVsRestClassifier(estimator=LogisticRegression(C=1.0, class_weight=None,\n",
       "                                                 dual=False, fit_intercept=True,\n",
       "                                                 intercept_scaling=1,\n",
       "                                                 l1_ratio=None, max_iter=100,\n",
       "                                                 multi_class='warn',\n",
       "                                                 n_jobs=None, penalty='l2',\n",
       "                                                 random_state=None,\n",
       "                                                 solver='lbfgs', tol=0.0001,\n",
       "                                                 verbose=0, warm_start=False),\n",
       "                    n_jobs=None)"
      ]
     },
     "execution_count": 41,
     "metadata": {
      "tags": []
     },
     "output_type": "execute_result"
    }
   ],
   "source": [
    "clf=LogisticRegression(solver='lbfgs')\n",
    "#clf=OneVsRestClassifier(MultinomialNB())\n",
    "clf=OneVsRestClassifier(clf)\n",
    "clf.fit(X_train_dtm,df_bin_train)"
   ]
  },
  {
   "cell_type": "code",
   "execution_count": 0,
   "metadata": {
    "colab": {},
    "colab_type": "code",
    "id": "QM8JSuvRIHLZ"
   },
   "outputs": [],
   "source": [
    "pred=clf.predict(X_test_dtm)"
   ]
  },
  {
   "cell_type": "code",
   "execution_count": 0,
   "metadata": {
    "colab": {
     "base_uri": "https://localhost:8080/",
     "height": 72
    },
    "colab_type": "code",
    "id": "tU_cogQVOtpz",
    "outputId": "162f540b-4f91-4871-fd8b-39d6b075f511"
   },
   "outputs": [
    {
     "data": {
      "text/plain": [
       "array([1, 0, 0, 1, 0, 0, 0, 0, 0, 1, 0, 0, 0, 0, 0, 0, 0, 0, 0, 0, 0, 0,\n",
       "       0, 0, 0, 1, 0, 0, 0, 1, 0, 1, 1, 1, 0, 0, 0, 1, 0, 1, 1, 1, 1, 1,\n",
       "       0, 1, 0, 1, 1, 0, 0, 0])"
      ]
     },
     "execution_count": 22,
     "metadata": {
      "tags": []
     },
     "output_type": "execute_result"
    }
   ],
   "source": [
    "pred[0]\n",
    "df_bin_test[0]"
   ]
  },
  {
   "cell_type": "markdown",
   "metadata": {
    "colab_type": "text",
    "id": "bImxZuN6pJ60"
   },
   "source": [
    "**F1 Score  , Accuracy, Precision & Recall**"
   ]
  },
  {
   "cell_type": "code",
   "execution_count": 43,
   "metadata": {
    "colab": {
     "base_uri": "https://localhost:8080/",
     "height": 35
    },
    "colab_type": "code",
    "id": "qHgAoGcsO3Sq",
    "outputId": "53788002-f653-4223-8325-b19978969a12"
   },
   "outputs": [
    {
     "name": "stdout",
     "output_type": "stream",
     "text": [
      "0.5408\n"
     ]
    }
   ],
   "source": [
    "#precision, recall, fscore, support = score(df_bin_train, pred)\n",
    "from sklearn.metrics import accuracy_score\n",
    "\n",
    "\n",
    "print(accuracy_score(df_bin_test, pred))\n",
    "\n",
    "   # print(recall_score(y_test, y_pred, average=\"macro\"))  "
   ]
  },
  {
   "cell_type": "code",
   "execution_count": 44,
   "metadata": {
    "colab": {
     "base_uri": "https://localhost:8080/",
     "height": 92
    },
    "colab_type": "code",
    "id": "Oeu95Y7Wo0IJ",
    "outputId": "763d6af9-1b06-4f7b-fea5-27dfd773d532"
   },
   "outputs": [
    {
     "name": "stderr",
     "output_type": "stream",
     "text": [
      "/usr/local/lib/python3.6/dist-packages/sklearn/metrics/classification.py:1439: UndefinedMetricWarning: Recall is ill-defined and being set to 0.0 in labels with no true samples.\n",
      "  'recall', 'true', average, warn_for)\n"
     ]
    },
    {
     "data": {
      "text/plain": [
       "0.6724"
      ]
     },
     "execution_count": 44,
     "metadata": {
      "tags": []
     },
     "output_type": "execute_result"
    }
   ],
   "source": [
    "from sklearn.metrics import recall_score\n",
    "recall_score(df_bin_test, pred,average='weighted')"
   ]
  },
  {
   "cell_type": "code",
   "execution_count": 45,
   "metadata": {
    "colab": {
     "base_uri": "https://localhost:8080/",
     "height": 92
    },
    "colab_type": "code",
    "id": "l5qZhZAnpNpr",
    "outputId": "5539397e-b8b9-477c-d5ac-090fab1ea4e9"
   },
   "outputs": [
    {
     "name": "stderr",
     "output_type": "stream",
     "text": [
      "/usr/local/lib/python3.6/dist-packages/sklearn/metrics/classification.py:1437: UndefinedMetricWarning: Precision is ill-defined and being set to 0.0 in labels with no predicted samples.\n",
      "  'precision', 'predicted', average, warn_for)\n"
     ]
    },
    {
     "data": {
      "text/plain": [
       "0.7930529324851555"
      ]
     },
     "execution_count": 45,
     "metadata": {
      "tags": []
     },
     "output_type": "execute_result"
    }
   ],
   "source": [
    "from sklearn.metrics import precision_score\n",
    "precision_score(df_bin_test, pred,average='weighted')"
   ]
  },
  {
   "cell_type": "code",
   "execution_count": 56,
   "metadata": {
    "colab": {
     "base_uri": "https://localhost:8080/",
     "height": 128
    },
    "colab_type": "code",
    "id": "mtO42DClpv_1",
    "outputId": "9637c6d5-1510-4b15-94a4-0040ab690f2f"
   },
   "outputs": [
    {
     "name": "stderr",
     "output_type": "stream",
     "text": [
      "/usr/local/lib/python3.6/dist-packages/sklearn/metrics/classification.py:1437: UndefinedMetricWarning: F-score is ill-defined and being set to 0.0 in labels with no predicted samples.\n",
      "  'precision', 'predicted', average, warn_for)\n",
      "/usr/local/lib/python3.6/dist-packages/sklearn/metrics/classification.py:1439: UndefinedMetricWarning: F-score is ill-defined and being set to 0.0 in labels with no true samples.\n",
      "  'recall', 'true', average, warn_for)\n"
     ]
    },
    {
     "data": {
      "text/plain": [
       "0.6951628270325698"
      ]
     },
     "execution_count": 56,
     "metadata": {
      "tags": []
     },
     "output_type": "execute_result"
    }
   ],
   "source": [
    "from sklearn.metrics import f1_score\n",
    "f1_score(df_bin_test, pred, average='weighted')"
   ]
  },
  {
   "cell_type": "code",
   "execution_count": 47,
   "metadata": {
    "colab": {
     "base_uri": "https://localhost:8080/",
     "height": 35
    },
    "colab_type": "code",
    "id": "usceS4OYQTMQ",
    "outputId": "d2f73aaf-2cf5-4895-9e24-2f3b0b1cbec1"
   },
   "outputs": [
    {
     "data": {
      "text/plain": [
       "(1250, 54)"
      ]
     },
     "execution_count": 47,
     "metadata": {
      "tags": []
     },
     "output_type": "execute_result"
    }
   ],
   "source": [
    "df_bin_test.shape"
   ]
  },
  {
   "cell_type": "code",
   "execution_count": 48,
   "metadata": {
    "colab": {
     "base_uri": "https://localhost:8080/",
     "height": 35
    },
    "colab_type": "code",
    "id": "E072QfIlQUji",
    "outputId": "33d375aa-a634-41a7-c0d9-2d0d15050ca6"
   },
   "outputs": [
    {
     "data": {
      "text/plain": [
       "(1250, 54)"
      ]
     },
     "execution_count": 48,
     "metadata": {
      "tags": []
     },
     "output_type": "execute_result"
    }
   ],
   "source": [
    "pred.shape"
   ]
  },
  {
   "cell_type": "code",
   "execution_count": 49,
   "metadata": {
    "colab": {
     "base_uri": "https://localhost:8080/",
     "height": 126
    },
    "colab_type": "code",
    "id": "kRpEeunIQW26",
    "outputId": "05978b92-1beb-4a9b-a3f2-8a51793e5ec0"
   },
   "outputs": [
    {
     "data": {
      "text/plain": [
       "2764    why on earth would you do that  and if you mus...\n",
       "4767    hello    i have an audition tomorrow    i m qu...\n",
       "3814    holy crap  more then your mom  they must suck ...\n",
       "3499          what do you all think of adbusters magazine\n",
       "2735                correction       annoyed  r epublican\n",
       "Name: text, dtype: object"
      ]
     },
     "execution_count": 49,
     "metadata": {
      "tags": []
     },
     "output_type": "execute_result"
    }
   ],
   "source": [
    "X_test[:5]"
   ]
  },
  {
   "cell_type": "code",
   "execution_count": 50,
   "metadata": {
    "colab": {
     "base_uri": "https://localhost:8080/",
     "height": 126
    },
    "colab_type": "code",
    "id": "1hx1ezq8rZr8",
    "outputId": "73817c50-ebbd-414c-ac5e-273e8c8d2530"
   },
   "outputs": [
    {
     "data": {
      "text/plain": [
       "2764    [male, 35, Technology, Aries]\n",
       "4767     [female, 16, Student, Libra]\n",
       "3814      [male, 14, indUnk, Scorpio]\n",
       "3499    [male, 35, Technology, Aries]\n",
       "2735    [male, 35, Technology, Aries]\n",
       "Name: labels, dtype: object"
      ]
     },
     "execution_count": 50,
     "metadata": {
      "tags": []
     },
     "output_type": "execute_result"
    }
   ],
   "source": [
    "y_test[:5]"
   ]
  },
  {
   "cell_type": "markdown",
   "metadata": {
    "colab_type": "text",
    "id": "Hn9sJvUrpRzq"
   },
   "source": [
    "**Print 5 labels for Precition & Actual **"
   ]
  },
  {
   "cell_type": "code",
   "execution_count": 51,
   "metadata": {
    "colab": {
     "base_uri": "https://localhost:8080/",
     "height": 290
    },
    "colab_type": "code",
    "id": "Do2PnthcrfN3",
    "outputId": "e91afce3-302c-4ead-c215-9ee2c4e2fc4c"
   },
   "outputs": [
    {
     "data": {
      "text/plain": [
       "array([[0, 0, 0, 0, 0, 0, 0, 0, 0, 0, 0, 1, 0, 0, 0, 0, 0, 0, 0, 0, 0, 0,\n",
       "        1, 0, 0, 0, 0, 0, 0, 0, 0, 0, 0, 0, 0, 0, 0, 0, 0, 0, 0, 0, 0, 0,\n",
       "        0, 0, 0, 0, 0, 1, 0, 0, 0, 1],\n",
       "       [0, 0, 0, 0, 0, 0, 0, 0, 0, 0, 0, 0, 0, 0, 0, 0, 0, 0, 0, 0, 0, 0,\n",
       "        0, 0, 0, 0, 0, 0, 0, 0, 0, 0, 0, 0, 0, 0, 0, 0, 0, 0, 0, 0, 0, 0,\n",
       "        0, 0, 0, 0, 0, 0, 0, 1, 0, 0],\n",
       "       [0, 0, 0, 0, 0, 0, 0, 0, 0, 0, 0, 0, 0, 0, 0, 0, 0, 0, 0, 0, 0, 0,\n",
       "        1, 0, 0, 0, 0, 0, 0, 0, 0, 0, 0, 0, 0, 0, 0, 0, 0, 0, 0, 0, 0, 0,\n",
       "        0, 0, 0, 0, 0, 1, 0, 0, 0, 1],\n",
       "       [0, 0, 0, 0, 0, 0, 0, 0, 0, 0, 0, 1, 0, 0, 0, 0, 0, 0, 0, 0, 0, 0,\n",
       "        1, 0, 0, 0, 0, 0, 0, 0, 0, 0, 0, 0, 0, 0, 0, 0, 0, 0, 0, 0, 0, 0,\n",
       "        0, 0, 0, 0, 0, 1, 0, 0, 0, 1],\n",
       "       [0, 0, 0, 0, 0, 0, 0, 0, 0, 0, 0, 1, 0, 0, 0, 0, 0, 0, 0, 0, 0, 0,\n",
       "        1, 0, 0, 0, 0, 0, 0, 0, 0, 0, 0, 0, 0, 0, 0, 0, 0, 0, 0, 0, 0, 0,\n",
       "        0, 0, 0, 0, 0, 1, 0, 0, 0, 1]])"
      ]
     },
     "execution_count": 51,
     "metadata": {
      "tags": []
     },
     "output_type": "execute_result"
    }
   ],
   "source": [
    "pred[:5]"
   ]
  },
  {
   "cell_type": "code",
   "execution_count": 53,
   "metadata": {
    "colab": {
     "base_uri": "https://localhost:8080/",
     "height": 108
    },
    "colab_type": "code",
    "id": "jHlfBmCdPoSp",
    "outputId": "df52ca65-9b32-474d-8cfd-6dd6b3c43760"
   },
   "outputs": [
    {
     "data": {
      "text/plain": [
       "[('35', 'Aries', 'Technology', 'male'),\n",
       " ('female',),\n",
       " ('Aries', 'Technology', 'male'),\n",
       " ('35', 'Aries', 'Technology', 'male'),\n",
       " ('35', 'Aries', 'Technology', 'male')]"
      ]
     },
     "execution_count": 53,
     "metadata": {
      "tags": []
     },
     "output_type": "execute_result"
    }
   ],
   "source": [
    "binarizer.inverse_transform(pred[:5])"
   ]
  },
  {
   "cell_type": "code",
   "execution_count": 54,
   "metadata": {
    "colab": {
     "base_uri": "https://localhost:8080/",
     "height": 108
    },
    "colab_type": "code",
    "id": "nKokrMLrrhgX",
    "outputId": "9f9fd565-cb22-4c7d-edcd-5276a2d13cb2"
   },
   "outputs": [
    {
     "data": {
      "text/plain": [
       "[('35', 'Aries', 'Technology', 'male'),\n",
       " ('24', 'Engineering', 'Libra', 'male'),\n",
       " ('24', 'Engineering', 'Libra', 'male'),\n",
       " ('35', 'Aries', 'Technology', 'male'),\n",
       " ('17', 'Aquarius', 'indUnk', 'male')]"
      ]
     },
     "execution_count": 54,
     "metadata": {
      "tags": []
     },
     "output_type": "execute_result"
    }
   ],
   "source": [
    "binarizer.inverse_transform(df_bin_train[:5])"
   ]
  },
  {
   "cell_type": "code",
   "execution_count": 0,
   "metadata": {
    "colab": {},
    "colab_type": "code",
    "id": "pwxr_R1CsRcR"
   },
   "outputs": [],
   "source": []
  },
  {
   "cell_type": "code",
   "execution_count": 0,
   "metadata": {
    "colab": {},
    "colab_type": "code",
    "id": "dTGlp6jqniy3"
   },
   "outputs": [],
   "source": []
  }
 ],
 "metadata": {
  "accelerator": "GPU",
  "colab": {
   "name": "blogNLPAssign.ipynb",
   "provenance": []
  },
  "kernelspec": {
   "display_name": "Python 3",
   "language": "python",
   "name": "python3"
  },
  "language_info": {
   "codemirror_mode": {
    "name": "ipython",
    "version": 3
   },
   "file_extension": ".py",
   "mimetype": "text/x-python",
   "name": "python",
   "nbconvert_exporter": "python",
   "pygments_lexer": "ipython3",
   "version": "3.7.3"
  }
 },
 "nbformat": 4,
 "nbformat_minor": 1
}
